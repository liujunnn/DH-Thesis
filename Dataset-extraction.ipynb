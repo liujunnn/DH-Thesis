{
 "cells": [
  {
   "cell_type": "code",
   "execution_count": 2,
   "id": "7a28f9ce",
   "metadata": {},
   "outputs": [
    {
     "name": "stdout",
     "output_type": "stream",
     "text": [
      "Requirement already satisfied: requests in /Users/shangliujun/opt/anaconda3/lib/python3.9/site-packages (2.27.1)\n",
      "Requirement already satisfied: idna<4,>=2.5 in /Users/shangliujun/opt/anaconda3/lib/python3.9/site-packages (from requests) (3.3)\n",
      "Requirement already satisfied: urllib3<1.27,>=1.21.1 in /Users/shangliujun/opt/anaconda3/lib/python3.9/site-packages (from requests) (1.26.9)\n",
      "Requirement already satisfied: charset-normalizer~=2.0.0 in /Users/shangliujun/opt/anaconda3/lib/python3.9/site-packages (from requests) (2.0.4)\n",
      "Requirement already satisfied: certifi>=2017.4.17 in /Users/shangliujun/opt/anaconda3/lib/python3.9/site-packages (from requests) (2021.10.8)\n",
      "Retrieved 100 items so far...\n",
      "Retrieved 200 items so far...\n",
      "Retrieved 300 items so far...\n",
      "Retrieved 400 items so far...\n",
      "Retrieved 500 items so far...\n",
      "Retrieved 600 items so far...\n",
      "Retrieved 700 items so far...\n",
      "Retrieved 800 items so far...\n",
      "Retrieved 900 items so far...\n",
      "Retrieved 1000 items so far...\n",
      "Retrieved 1100 items so far...\n",
      "Retrieved 1200 items so far...\n",
      "Retrieved 1300 items so far...\n",
      "Retrieved 1400 items so far...\n",
      "Retrieved 1500 items so far...\n",
      "Retrieved 1600 items so far...\n",
      "Retrieved 1700 items so far...\n",
      "Retrieved 1800 items so far...\n",
      "Retrieved 1900 items so far...\n",
      "Retrieved 2000 items so far...\n",
      "Retrieved 2100 items so far...\n",
      "Retrieved 2200 items so far...\n",
      "Retrieved 2300 items so far...\n",
      "Retrieved 2400 items so far...\n",
      "Retrieved 2500 items so far...\n",
      "Retrieved 2600 items so far...\n",
      "Retrieved 2700 items so far...\n",
      "Retrieved 2800 items so far...\n",
      "Retrieved 2900 items so far...\n",
      "Retrieved 3000 items so far...\n",
      "Retrieved 3100 items so far...\n",
      "Retrieved 3200 items so far...\n",
      "Retrieved 3300 items so far...\n",
      "Retrieved 3373 items so far...\n",
      "Retrieved 3373 items so far...\n",
      "\n",
      "Total items retrieved: 3373\n",
      "Title: ['Still Life with a Chinese Porcelain Bowl']\n",
      "Data Provider: ['National Gallery of Denmark']\n",
      "Type: IMAGE\n",
      "Link: https://www.europeana.eu/item/2020903/KMS384?utm_source=api&utm_medium=api&utm_campaign=ndemalem\n",
      "Metadata: {'completeness': 0, 'country': ['Denmark'], 'dataProvider': ['National Gallery of Denmark'], 'dcCreator': ['791_person'], 'dcCreatorLangAware': {'def': ['791_person']}, 'dcTitleLangAware': {'en': ['Still Life with a Chinese Porcelain Bowl']}, 'edmConcept': ['http://www.wikidata.org/entity/Q12321255', 'http://www.wikidata.org/entity/Q3305213'], 'edmConceptLabel': [{'def': 'Leinwand'}, {'def': 'Gemälde'}, {'def': 'холст'}, {'def': 'картина'}, {'def': 'kangas'}, {'def': 'maalaus'}, {'def': 'målarduk'}, {'def': 'målning'}, {'def': 'tela'}, {'def': 'pintura'}, {'def': 'платно'}, {'def': 'картина'}, {'def': 'καμβάς'}, {'def': 'έργο ζωγραφικής'}, {'def': 'canvas'}, {'def': 'painting'}, {'def': 'audekls'}, {'def': 'glezna'}, {'def': 'tela'}, {'def': 'dipinto'}, {'def': 'toile'}, {'def': 'peinture'}, {'def': 'vászon'}, {'def': 'festmény'}, {'def': 'lienzo'}, {'def': 'pintura'}, {'def': 'lõuend'}, {'def': 'maal'}, {'def': 'Margo-oihal'}, {'def': 'margolan'}, {'def': 'malířské plátno'}, {'def': 'malba'}, {'def': 'platno'}, {'def': 'slika'}, {'def': 'canbhás'}, {'def': 'pictiúr'}, {'def': 'płótno'}, {'def': 'obraz'}, {'def': 'kanvas'}, {'def': 'maleri'}, {'def': 'pânză'}, {'def': 'pictură'}, {'def': 'schildersdoek'}, {'def': 'schilderij'}, {'def': 'llenç'}, {'def': 'pintura'}, {'def': 'paveikslas'}, {'def': 'slika'}, {'def': 'maľba'}], 'edmConceptPrefLabelLangAware': {'de': ['Gemälde', 'Leinwand'], 'ru': ['картина', 'холст'], 'fi': ['kangas', 'maalaus'], 'pt': ['tela', 'pintura'], 'bg': ['платно', 'картина'], 'lt': ['paveikslas'], 'lv': ['audekls', 'glezna'], 'hr': ['slika'], 'fr': ['toile', 'peinture'], 'hu': ['vászon', 'festmény'], 'sk': ['maľba'], 'sl': ['slika', 'platno'], 'ga': ['canbhás', 'pictiúr'], 'ca': ['llenç', 'pintura'], 'sv': ['målning', 'målarduk'], 'el': ['έργο ζωγραφικής', 'καμβάς'], 'en': ['canvas', 'painting'], 'it': ['tela', 'dipinto'], 'es': ['lienzo', 'pintura'], 'et': ['lõuend', 'maal'], 'eu': ['margolan', 'Margo-oihal'], 'cs': ['malířské plátno', 'malba'], 'pl': ['obraz', 'płótno'], 'da': ['kanvas', 'maleri'], 'ro': ['pânză', 'pictură'], 'nl': ['schildersdoek', 'schilderij']}, 'edmDatasetName': ['2020903_Museu_NationalGalleryOfDenmark'], 'edmIsShownAt': ['https://open.smk.dk/artwork/image/kms384'], 'edmIsShownBy': ['https://api.smk.dk/api/v1/thumbnail/d3668588-1832-40f0-b1b8-91d692e43054.jpg'], 'edmPreview': ['https://api.europeana.eu/thumbnail/v2/url.json?uri=https%3A%2F%2Fapi.smk.dk%2Fapi%2Fv1%2Fthumbnail%2Fd3668588-1832-40f0-b1b8-91d692e43054.jpg&type=IMAGE'], 'edmTimespanLabel': [{'def': '1662'}, {'def': '17. Jahrhundert'}, {'def': 'XVII век'}, {'def': '1600-luku'}, {'def': 'Século XVII'}, {'def': '17 век'}, {'def': 'XVII amžius'}, {'def': '17. gadsimts'}, {'def': '17. stoljeće'}, {'def': 'XVIIe siècle'}, {'def': '17. század'}, {'def': '17. storočie'}, {'def': '17. stoletje'}, {'def': '17ú haois'}, {'def': 'Segle XVII'}, {'def': '1600-talet'}, {'def': 'Seklu XVII'}, {'def': '17ος αιώνας'}, {'def': '17th century'}, {'def': 'XVII secolo'}, {'def': 'Siglo XVII'}, {'def': '17. sajand'}, {'def': 'XVII. mendea'}, {'def': '17. století'}, {'def': 'XVII wiek'}, {'def': 'Secolul al XVII-lea'}, {'def': '17. århundrede'}, {'def': '17e eeuw'}, {'def': 'http://www.wikidata.org/entity/Q7016'}, {'def': 'http://id.loc.gov/authorities/names/sh85120427'}, {'def': 'http://data.bnf.fr/ark:/12148/cb120419182'}, {'def': 'http://id.nlm.nih.gov/mesh/D049670'}, {'def': 'https://www.freebase.com/m/08b2m'}, {'def': 'https://g.co/kg/m/08b2m'}, {'def': 'http://id.nlm.nih.gov/mesh/K01.400.504.750'}, {'def': 'http://vocab.getty.edu/aat/300404511'}, {'def': 'http://babelnet.org/rdf/s02814624n'}, {'def': 'http://dbpedia.org/resource/17th_century'}], 'edmTimespanLabelLangAware': {'de': ['17. Jahrhundert'], 'ru': ['XVII век'], 'fi': ['1600-luku'], 'pt': ['Século XVII'], 'bg': ['17 век'], 'lt': ['XVII amžius'], 'lv': ['17. gadsimts'], 'hr': ['17. stoljeće'], 'fr': ['XVIIe siècle'], 'hu': ['17. század'], 'sk': ['17. storočie'], 'sl': ['17. stoletje'], 'ga': ['17ú haois'], 'ca': ['Segle XVII'], 'sv': ['1600-talet'], 'mt': ['Seklu XVII'], 'el': ['17ος αιώνας'], 'en': ['17th century'], 'it': ['XVII secolo'], 'es': ['Siglo XVII'], 'et': ['17. sajand'], 'eu': ['XVII. mendea'], 'cs': ['17. století'], 'zxx': ['1662'], 'pl': ['XVII wiek'], 'ro': ['Secolul al XVII-lea'], 'da': ['17. århundrede'], 'nl': ['17e eeuw']}, 'europeanaCollectionName': ['2020903_Museu_NationalGalleryOfDenmark'], 'europeanaCompleteness': 0, 'guid': 'https://www.europeana.eu/item/2020903/KMS384?utm_source=api&utm_medium=api&utm_campaign=ndemalem', 'id': '/2020903/KMS384', 'index': 0, 'language': ['mul'], 'link': 'https://api.europeana.eu/record/2020903/KMS384.json?wskey=ndemalem', 'previewNoDistribute': False, 'provider': ['MUSEU'], 'rights': ['http://creativecommons.org/publicdomain/mark/1.0/'], 'score': 102.64679, 'timestamp': 1719244425251, 'timestamp_created': '2015-10-26T13:07:34.505Z', 'timestamp_created_epoch': 1445864854505, 'timestamp_update': '2024-06-24T15:49:52.672Z', 'timestamp_update_epoch': 1719244192672, 'title': ['Still Life with a Chinese Porcelain Bowl'], 'type': 'IMAGE', 'ugc': [False], 'year': ['1662']}\n",
      "\n",
      "Title: ['Blue and white porcelain Chinese tea bowl']\n",
      "Data Provider: ['The Hunt Museum']\n",
      "Type: 3D\n",
      "Link: https://www.europeana.eu/item/181/share3d_1196?utm_source=api&utm_medium=api&utm_campaign=ndemalem\n",
      "Metadata: {'completeness': 10, 'country': ['Ireland'], 'dataProvider': ['The Hunt Museum'], 'dcCreator': ['The Hunt Museum, Limerick, Ireland'], 'dcCreatorLangAware': {'def': ['The Hunt Museum, Limerick, Ireland']}, 'dcDescription': ['A17th or 18th-century blue and white tea bowl with a slightly fluted rim. The outside of the bowl is decorated with panels showing river and mountain landscapes and panels with floral designs. The inside rim is decorated with a border of hatched lines.'], 'dcDescriptionLangAware': {'en': ['A17th or 18th-century blue and white tea bowl with a slightly fluted rim. The outside of the bowl is decorated with panels showing river and mountain landscapes and panels with floral designs. The inside rim is decorated with a border of hatched lines.']}, 'dcLanguage': ['eng', 'English'], 'dcLanguageLangAware': {'def': ['eng', 'English']}, 'dcTitleLangAware': {'en': ['Blue and white porcelain Chinese tea bowl']}, 'edmConcept': ['http://vocab.getty.edu/aat/300010662', 'http://data.europeana.eu/concept/31', 'http://vocab.getty.edu/aat/300151343', 'http://vocab.getty.edu/aat/300198548', 'http://data.europeana.eu/concept/1757', 'http://vocab.getty.edu/aat/300198333'], 'edmConceptLabel': [{'def': 'porcelana (material)'}, {'def': 'Cerâmica'}, {'def': 'Porcelana'}, {'def': 'porcelain (material)'}, {'def': 'Ceramic'}, {'def': 'ceramics (object genre)'}, {'def': 'tea bowls'}, {'def': 'Porcelain'}, {'def': 'ceremonial vessels'}, {'def': 'porcelaine (matériau)'}, {'def': 'Céramique'}, {'def': 'bol à thé'}, {'def': 'Porcelaine'}, {'def': 'porselein (materiaal)'}, {'def': 'Keramiek'}, {'def': 'keramiek (objectgenre)'}, {'def': 'theekommen'}, {'def': 'Porselein'}, {'def': 'ceremoniële vaten'}, {'def': 'porcelana'}, {'def': 'Cerámica'}, {'def': 'cerámica (object)'}, {'def': 'cuenco de té'}, {'def': 'Porcelana'}, {'def': 'vasijas ceremoniales'}, {'def': 'Keramik'}, {'def': 'Keramik'}, {'def': 'Teeschale'}, {'def': 'Porzellan'}, {'def': 'Keraami'}, {'def': 'Posliini'}, {'def': 'Керамика'}, {'def': 'Фарфор'}, {'def': 'Керамика'}, {'def': 'Порцелан'}, {'def': 'Keramika'}, {'def': 'Porcelianas'}, {'def': 'Keramika'}, {'def': 'Porcelāns'}, {'def': 'Keramika'}, {'def': 'Porculan'}, {'def': 'Kerámia'}, {'def': 'Porcelán'}, {'def': 'Keramika'}, {'def': 'Porcelán'}, {'def': 'Keramika'}, {'def': 'Porcelan'}, {'def': 'Ceirmeacht'}, {'def': 'Poirceallán'}, {'def': 'Ceràmica'}, {'def': 'Porcellana'}, {'def': 'Keramik'}, {'def': 'Porslin'}, {'def': 'Κεραμική'}, {'def': 'Πορσελάνη'}, {'def': 'Ceramica'}, {'def': 'Porcellana'}, {'def': 'Keraamika'}, {'def': 'Portselan'}, {'def': 'Keramika'}, {'def': 'Porcelán'}, {'def': 'Zeramika'}, {'def': 'Portzelana'}, {'def': 'Ceramika'}, {'def': 'Porcelana'}, {'def': 'Ceramică'}, {'def': 'Porțelan'}, {'def': 'Keramik'}, {'def': 'Porcelæn'}], 'edmConceptPrefLabelLangAware': {'de': ['Keramik', 'Teeschale', 'Porzellan'], 'fi': ['Posliini', 'Keraami'], 'ru': ['Фарфор', 'Керамика'], 'pt': ['Porcelana', 'Cerâmica', 'porcelana (material)'], 'bg': ['Порцелан', 'Керамика'], 'lt': ['Porcelianas', 'Keramika'], 'lv': ['Porcelāns', 'Keramika'], 'hr': ['Porculan', 'Keramika'], 'fr': ['porcelaine (matériau)', 'bol à thé', 'Porcelaine', 'Céramique'], 'hu': ['Kerámia', 'Porcelán'], 'sk': ['Porcelán', 'Keramika'], 'sl': ['Porcelan', 'Keramika'], 'ga': ['Ceirmeacht', 'Poirceallán'], 'ca': ['Porcellana', 'Ceràmica'], 'sv': ['Keramik', 'Porslin'], 'el': ['Κεραμική', 'Πορσελάνη'], 'en': ['Porcelain', 'porcelain (material)', 'ceramics (object genre)', 'tea bowls', 'Ceramic', 'ceremonial vessels'], 'it': ['Porcellana', 'Ceramica'], 'es': ['Porcelana', 'porcelana', 'cuenco de té', 'vasijas ceremoniales', 'Cerámica', 'cerámica (object)'], 'et': ['Keraamika', 'Portselan'], 'cs': ['Porcelán', 'Keramika'], 'eu': ['Zeramika', 'Portzelana'], 'pl': ['Porcelana', 'Ceramika'], 'ro': ['Porțelan', 'Ceramică'], 'da': ['Porcelæn', 'Keramik'], 'nl': ['ceremoniële vaten', 'porselein (materiaal)', 'theekommen', 'Porselein', 'Keramiek', 'keramiek (objectgenre)']}, 'edmDatasetName': ['181_Share3D_181'], 'edmIsShownAt': ['https://sketchfab.com/models/ac36b3adfb1a4f7aa300f066bc490642/embed'], 'edmIsShownBy': ['https://sketchfab.com/models/ac36b3adfb1a4f7aa300f066bc490642'], 'edmPlaceLabel': [{'def': 'China'}], 'edmPlaceLabelLangAware': {'def': ['China']}, 'edmPlaceLatitude': ['35.0001'], 'edmPlaceLongitude': ['105.0'], 'edmPreview': ['https://api.europeana.eu/thumbnail/v2/url.json?uri=https%3A%2F%2Fmedia.sketchfab.com%2Fmodels%2Fac36b3adfb1a4f7aa300f066bc490642%2Fthumbnails%2F1bdd09b41738443880c07c05b8370ee6%2F7f258792bf674a558346bd5d626c9dc7.jpeg&type=3D'], 'edmTimespanLabel': [{'def': '1950'}, {'def': '17th century CE'}, {'def': '18th century CE'}, {'def': '20th century'}, {'def': 'http://vocab.getty.edu/page/aat/300404511'}, {'def': 'https://www.wikidata.org/wiki/Q7016'}, {'def': 'http://vocab.getty.edu/page/aat/300404512'}, {'def': 'https://www.wikidata.org/wiki/Q7015'}, {'def': 'http://www.wikidata.org/entity/Q6927'}, {'def': 'http://id.loc.gov/authorities/names/sh2002012476'}, {'def': 'http://id.loc.gov/authorities/names/sh85139020'}, {'def': 'http://id.nlm.nih.gov/mesh/D049673'}, {'def': 'https://www.freebase.com/m/089_x'}, {'def': 'https://g.co/kg/m/089_x'}, {'def': 'http://id.nlm.nih.gov/mesh/K01.400.504.968'}, {'def': 'http://vocab.getty.edu/aat/300404514'}, {'def': 'http://dbpedia.org/resource/20th_century'}, {'def': '20. Jahrhundert'}, {'def': 'XX век'}, {'def': '1900-luku'}, {'def': 'Século XX'}, {'def': '20 век'}, {'def': 'XX amžius'}, {'def': '20. gadsimts'}, {'def': '20. stoljeće'}, {'def': 'XXe siècle'}, {'def': '20. század'}, {'def': '20. storočie'}, {'def': '20. stoletje'}, {'def': '20ú haois'}, {'def': 'Segle XX'}, {'def': '1900-talet'}, {'def': '20ός αιώνας'}, {'def': 'XX secolo'}, {'def': 'Siglo XX'}, {'def': '20. sajand'}, {'def': 'XX. mendea'}, {'def': '20. století'}, {'def': 'XX wiek'}, {'def': 'Secolul al XX-lea'}, {'def': '20. århundrede'}, {'def': '20e eeuw'}], 'edmTimespanLabelLangAware': {'de': ['20. Jahrhundert'], 'ru': ['XX век'], 'fi': ['1900-luku'], 'pt': ['Século XX'], 'bg': ['20 век'], 'lt': ['XX amžius'], 'lv': ['20. gadsimts'], 'hr': ['20. stoljeće'], 'fr': ['XXe siècle'], 'hu': ['20. század'], 'sk': ['20. storočie'], 'sl': ['20. stoletje'], 'ga': ['20ú haois'], 'ca': ['Segle XX'], 'sv': ['1900-talet'], 'el': ['20ός αιώνας'], 'en': ['17th century CE', '18th century CE', '20th century'], 'it': ['XX secolo'], 'es': ['Siglo XX'], 'et': ['20. sajand'], 'eu': ['XX. mendea'], 'cs': ['20. století'], 'zxx': ['1950'], 'pl': ['XX wiek'], 'ro': ['Secolul al XX-lea'], 'da': ['20. århundrede'], 'nl': ['20e eeuw']}, 'europeanaCollectionName': ['181_Share3D_181'], 'europeanaCompleteness': 10, 'guid': 'https://www.europeana.eu/item/181/share3d_1196?utm_source=api&utm_medium=api&utm_campaign=ndemalem', 'id': '/181/share3d_1196', 'index': 0, 'language': ['en'], 'link': 'https://api.europeana.eu/record/181/share3d_1196.json?wskey=ndemalem', 'previewNoDistribute': False, 'provider': ['CARARE'], 'rights': ['http://creativecommons.org/publicdomain/mark/1.0/'], 'score': 103.86453, 'timestamp': 1711645312912, 'timestamp_created': '2022-12-05T10:02:28.672Z', 'timestamp_created_epoch': 1670234548672, 'timestamp_update': '2024-03-28T17:01:23.411Z', 'timestamp_update_epoch': 1711645283411, 'title': ['Blue and white porcelain Chinese tea bowl'], 'type': '3D', 'ugc': [False], 'year': ['1950']}\n",
      "\n",
      "Title: ['Chinese Porcelain Tulip Vase']\n",
      "Data Provider: ['The Hunt Museum']\n",
      "Type: 3D\n",
      "Link: https://www.europeana.eu/item/181/share3d_1198?utm_source=api&utm_medium=api&utm_campaign=ndemalem\n",
      "Metadata: {'completeness': 10, 'country': ['Ireland'], 'dataProvider': ['The Hunt Museum'], 'dcCreator': ['The Hunt Museum, Limerick, Ireland'], 'dcCreatorLangAware': {'def': ['The Hunt Museum, Limerick, Ireland']}, 'dcDescription': ['A bulbous, blue and white, porcelain vase. The bottom section is made up five vase shapes joined together. Each of the smaller vases has its own narrow neck with a fluted rim. In the centre of the piece there is a tall neck, culminating in a spherical shape at the top, also with a fluted rim. The vase is decorated with flowers, leaves and butterflies. The vase possibly dates from 17th century China. Although tulip vases were designed in the Netherlands in the 17th century, replicas were made in blue and white porcelain in China and imported by the Dutch East India Company.'], 'dcDescriptionLangAware': {'en': ['A bulbous, blue and white, porcelain vase. The bottom section is made up five vase shapes joined together. Each of the smaller vases has its own narrow neck with a fluted rim. In the centre of the piece there is a tall neck, culminating in a spherical shape at the top, also with a fluted rim. The vase is decorated with flowers, leaves and butterflies. The vase possibly dates from 17th century China. Although tulip vases were designed in the Netherlands in the 17th century, replicas were made in blue and white porcelain in China and imported by the Dutch East India Company.']}, 'dcLanguage': ['English', 'eng'], 'dcLanguageLangAware': {'def': ['English', 'eng']}, 'dcTitleLangAware': {'en': ['Chinese Porcelain Tulip Vase']}, 'edmConcept': ['http://vocab.getty.edu/aat/300010662', 'http://vocab.getty.edu/aat/300132254', 'http://vocab.getty.edu/aat/300234110', 'http://data.europeana.eu/concept/1757', 'http://data.europeana.eu/concept/26', 'http://vocab.getty.edu/aat/300386879'], 'edmConceptLabel': [{'def': 'porcelana (material)'}, {'def': 'Porcelana'}, {'def': 'Artefato'}, {'def': 'escultura em cerâmica'}, {'def': 'porcelain (material)'}, {'def': 'vases'}, {'def': 'archaeological objects'}, {'def': 'Porcelain'}, {'def': 'Archaeological artifact'}, {'def': 'ceramic ware (visual works)'}, {'def': 'porcelaine (matériau)'}, {'def': 'vases'}, {'def': 'Porcelaine'}, {'def': 'Artéfact archéologique'}, {'def': 'porselein (materiaal)'}, {'def': 'vazen'}, {'def': 'archeologische objecten'}, {'def': 'Porselein'}, {'def': 'Artefact'}, {'def': 'keramiek'}, {'def': 'porcelana'}, {'def': 'vasos'}, {'def': 'objetos arqueológicos'}, {'def': 'Porcelana'}, {'def': 'Artefacto arqueológico'}, {'def': 'Vase'}, {'def': 'archäologisches Objekt'}, {'def': 'Porzellan'}, {'def': 'Artefakt'}, {'def': 'vaso'}, {'def': 'Porcellana'}, {'def': 'Manufatto'}, {'def': 'Posliini'}, {'def': 'Artefakti'}, {'def': 'Фарфор'}, {'def': 'Артефакт'}, {'def': 'Порцелан'}, {'def': 'Артефакт (археология)'}, {'def': 'Porcelianas'}, {'def': 'Archeologinis radinys'}, {'def': 'Porcelāns'}, {'def': 'Arheoloģisks artefakts'}, {'def': 'Porculan'}, {'def': 'Artefakt'}, {'def': 'Porcelán'}, {'def': 'Megmunkált tárgy'}, {'def': 'Porcelán'}, {'def': 'Artefakt'}, {'def': 'Porcelan'}, {'def': 'Arheološki artefakt'}, {'def': 'Poirceallán'}, {'def': 'Déantán seandálaíochta'}, {'def': 'Porcellana'}, {'def': 'Artefacte arqueològic'}, {'def': 'Porslin'}, {'def': 'Artefakt'}, {'def': 'Πορσελάνη'}, {'def': 'Τέχνεργο'}, {'def': 'Portselan'}, {'def': 'Artefakt'}, {'def': 'Porcelán'}, {'def': 'Artefakt'}, {'def': 'Portzelana'}, {'def': 'Artefaktu arkeologiko'}, {'def': 'Porcelana'}, {'def': 'Artefakt archeologiczny'}, {'def': 'Porțelan'}, {'def': 'Artefact (arheologie)'}, {'def': 'Porcelæn'}, {'def': 'Artefakt'}], 'edmConceptPrefLabelLangAware': {'de': ['Artefakt', 'Vase', 'Porzellan', 'archäologisches Objekt'], 'fi': ['Posliini', 'Artefakti'], 'ru': ['Фарфор', 'Артефакт'], 'pt': ['Porcelana', 'escultura em cerâmica', 'Artefato', 'porcelana (material)'], 'bg': ['Артефакт (археология)', 'Порцелан'], 'lt': ['Porcelianas', 'Archeologinis radinys'], 'lv': ['Porcelāns', 'Arheoloģisks artefakts'], 'hr': ['Porculan', 'Artefakt'], 'fr': ['porcelaine (matériau)', 'Porcelaine', 'Artéfact archéologique', 'vases'], 'hu': ['Megmunkált tárgy', 'Porcelán'], 'sk': ['Artefakt', 'Porcelán'], 'sl': ['Arheološki artefakt', 'Porcelan'], 'ga': ['Déantán seandálaíochta', 'Poirceallán'], 'ca': ['Porcellana', 'Artefacte arqueològic'], 'sv': ['Artefakt', 'Porslin'], 'el': ['Πορσελάνη', 'Τέχνεργο'], 'en': ['Porcelain', 'Archaeological artifact', 'porcelain (material)', 'archaeological objects', 'ceramic ware (visual works)', 'vases'], 'it': ['vaso', 'Porcellana', 'Manufatto'], 'es': ['vasos', 'Porcelana', 'porcelana', 'objetos arqueológicos', 'Artefacto arqueológico'], 'et': ['Artefakt', 'Portselan'], 'cs': ['Artefakt', 'Porcelán'], 'eu': ['Portzelana', 'Artefaktu arkeologiko'], 'pl': ['Porcelana', 'Artefakt archeologiczny'], 'ro': ['Artefact (arheologie)', 'Porțelan'], 'da': ['Artefakt', 'Porcelæn'], 'nl': ['vazen', 'archeologische objecten', 'porselein (materiaal)', 'Porselein', 'Artefact', 'keramiek']}, 'edmDatasetName': ['181_Share3D_181'], 'edmIsShownAt': ['https://sketchfab.com/models/1cf536665c5b45cfbf5a37cf828a5b15/embed'], 'edmIsShownBy': ['https://sketchfab.com/models/1cf536665c5b45cfbf5a37cf828a5b15'], 'edmPlaceLabel': [{'def': 'China'}], 'edmPlaceLabelLangAware': {'def': ['China']}, 'edmPlaceLatitude': ['35.0001'], 'edmPlaceLongitude': ['105.0'], 'edmPreview': ['https://api.europeana.eu/thumbnail/v2/url.json?uri=https%3A%2F%2Fmedia.sketchfab.com%2Fmodels%2F1cf536665c5b45cfbf5a37cf828a5b15%2Fthumbnails%2Fcc04a8b6eebb4886b16022207718c3cf%2F81a7895132d14eabaf8f401639d8432a.jpeg&type=3D'], 'edmTimespanLabel': [{'def': '17th century CE'}, {'def': '18th century'}, {'def': '16th century'}, {'def': '17th century'}, {'def': '21st century'}, {'def': 'http://vocab.getty.edu/page/aat/300404511'}, {'def': 'https://www.wikidata.org/wiki/Q7016'}, {'def': 'http://www.wikidata.org/entity/Q7015'}, {'def': 'http://id.loc.gov/authorities/names/sh2002012474'}, {'def': 'http://id.loc.gov/authorities/names/sh85041401'}, {'def': 'http://id.nlm.nih.gov/mesh/D049671'}, {'def': 'https://www.freebase.com/m/08b33'}, {'def': 'https://g.co/kg/m/08b33'}, {'def': 'http://id.nlm.nih.gov/mesh/K01.400.504.875'}, {'def': 'http://vocab.getty.edu/aat/300404512'}, {'def': 'http://babelnet.org/rdf/s02814699n'}, {'def': 'http://dbpedia.org/resource/18th_century'}, {'def': 'http://www.wikidata.org/entity/Q7017'}, {'def': 'http://id.loc.gov/authorities/names/sh85123070'}, {'def': 'http://id.nlm.nih.gov/mesh/D049669'}, {'def': 'https://www.freebase.com/m/08b23'}, {'def': 'https://g.co/kg/m/08b23'}, {'def': 'http://vocab.getty.edu/aat/300404510'}, {'def': 'http://babelnet.org/rdf/s02814512n'}, {'def': 'http://dbpedia.org/resource/16th_century'}, {'def': 'http://www.wikidata.org/entity/Q7016'}, {'def': 'http://id.loc.gov/authorities/names/sh85120427'}, {'def': 'http://data.bnf.fr/ark:/12148/cb120419182'}, {'def': 'http://id.nlm.nih.gov/mesh/D049670'}, {'def': 'https://www.freebase.com/m/08b2m'}, {'def': 'https://g.co/kg/m/08b2m'}, {'def': 'http://id.nlm.nih.gov/mesh/K01.400.504.750'}, {'def': 'http://vocab.getty.edu/aat/300404511'}, {'def': 'http://babelnet.org/rdf/s02814624n'}, {'def': 'http://dbpedia.org/resource/17th_century'}, {'def': 'http://www.wikidata.org/entity/Q6939'}, {'def': 'http://data.culture.fr/thesaurus/resource/ark:/67717/T4-46'}, {'def': 'http://id.loc.gov/authorities/names/sh85139024'}, {'def': 'http://data.bnf.fr/ark:/12148/cb11930812p'}, {'def': 'http://id.nlm.nih.gov/mesh/D049674'}, {'def': 'https://www.freebase.com/m/08b43'}, {'def': 'https://g.co/kg/m/08b43'}, {'def': 'http://id.nlm.nih.gov/mesh/K01.400.504.984'}, {'def': 'http://vocab.getty.edu/aat/300404515'}, {'def': 'http://id.worldcat.org/fast/1159816'}, {'def': 'http://babelnet.org/rdf/s01157225n'}, {'def': 'http://dbpedia.org/resource/21st_century'}, {'def': '18. Jahrhundert'}, {'def': '16. Jahrhundert'}, {'def': '17. Jahrhundert'}, {'def': '21. Jahrhundert'}, {'def': 'XVIII век'}, {'def': 'XVI век'}, {'def': 'XVII век'}, {'def': 'XXI век'}, {'def': '1700-luku'}, {'def': '1500-luku'}, {'def': '1600-luku'}, {'def': '2000-luku'}, {'def': 'Século XVIII'}, {'def': 'Século XVI'}, {'def': 'Século XVII'}, {'def': 'Século XXI'}, {'def': '18 век'}, {'def': '16 век'}, {'def': '17 век'}, {'def': '21 век'}, {'def': 'XVIII amžius'}, {'def': 'XVI amžius'}, {'def': 'XVII amžius'}, {'def': 'XXI amžius'}, {'def': '18. gadsimts'}, {'def': '16. gadsimts'}, {'def': '17. gadsimts'}, {'def': '21. gadsimts'}, {'def': '18. stoljeće'}, {'def': '16. stoljeće'}, {'def': '17. stoljeće'}, {'def': '21. stoljeće'}, {'def': 'XVIIIe siècle'}, {'def': 'XVIe siècle'}, {'def': 'XVIIe siècle'}, {'def': 'XXIe siècle'}, {'def': '18. század'}, {'def': '16. század'}, {'def': '17. század'}, {'def': '21. század'}, {'def': '18. storočie'}, {'def': '16. storočie'}, {'def': '17. storočie'}, {'def': '21. storočie'}, {'def': '18. stoletje'}, {'def': '16. stoletje'}, {'def': '17. stoletje'}, {'def': '21. stoletje'}, {'def': '18ú haois'}, {'def': '16ú haois'}, {'def': '17ú haois'}, {'def': '21ú haois'}, {'def': 'Segle XVIII'}, {'def': 'Segle XVI'}, {'def': 'Segle XVII'}, {'def': 'Segle XXI'}, {'def': '1700-talet'}, {'def': '1500-talet'}, {'def': '1600-talet'}, {'def': '2000-talet'}, {'def': '18ος αιώνας'}, {'def': '16ος αιώνας'}, {'def': '17ος αιώνας'}, {'def': '21ος αιώνας'}, {'def': 'XVIII secolo'}, {'def': 'XVI secolo'}, {'def': 'XVII secolo'}, {'def': 'XXI secolo'}, {'def': 'Siglo XVIII'}, {'def': 'Siglo XVI'}, {'def': 'Siglo XVII'}, {'def': 'Siglo XXI'}, {'def': '18. sajand'}, {'def': '16. sajand'}, {'def': '17. sajand'}, {'def': '21. sajand'}, {'def': 'XVIII. mendea'}, {'def': 'XVI. mendea'}, {'def': 'XVII. mendea'}, {'def': 'XXI. mendea'}, {'def': '18. století'}, {'def': '16. století'}, {'def': '17. století'}, {'def': '21. století'}, {'def': 'XVIII wiek'}, {'def': 'XVI wiek'}, {'def': 'XVII wiek'}, {'def': 'XXI wiek'}, {'def': 'Secolul al XVIII-lea'}, {'def': 'Secolul al XVI-lea'}, {'def': 'Secolul al XVII-lea'}, {'def': 'Secolul al XXI-lea'}, {'def': '18. århundrede'}, {'def': '16. århundrede'}, {'def': '17. århundrede'}, {'def': '21. århundrede'}, {'def': '18e eeuw'}, {'def': '16e eeuw'}, {'def': '17e eeuw'}, {'def': '21e eeuw'}, {'def': '2022'}, {'def': '1600/1701'}, {'def': 'Seklu XVII'}], 'edmTimespanLabelLangAware': {'de': ['18. Jahrhundert', '16. Jahrhundert', '17. Jahrhundert', '21. Jahrhundert'], 'ru': ['XVIII век', 'XVI век', 'XVII век', 'XXI век'], 'fi': ['1700-luku', '1500-luku', '1600-luku', '2000-luku'], 'pt': ['Século XVIII', 'Século XVI', 'Século XVII', 'Século XXI'], 'bg': ['18 век', '16 век', '17 век', '21 век'], 'lt': ['XVIII amžius', 'XVI amžius', 'XVII amžius', 'XXI amžius'], 'lv': ['18. gadsimts', '16. gadsimts', '17. gadsimts', '21. gadsimts'], 'hr': ['18. stoljeće', '16. stoljeće', '17. stoljeće', '21. stoljeće'], 'fr': ['XVIIIe siècle', 'XVIe siècle', 'XVIIe siècle', 'XXIe siècle'], 'hu': ['18. század', '16. század', '17. század', '21. század'], 'sk': ['18. storočie', '16. storočie', '17. storočie', '21. storočie'], 'sl': ['18. stoletje', '16. stoletje', '17. stoletje', '21. stoletje'], 'ga': ['18ú haois', '16ú haois', '17ú haois', '21ú haois'], 'ca': ['Segle XVIII', 'Segle XVI', 'Segle XVII', 'Segle XXI'], 'sv': ['1700-talet', '1500-talet', '1600-talet', '2000-talet'], 'el': ['18ος αιώνας', '16ος αιώνας', '17ος αιώνας', '21ος αιώνας'], 'mt': ['Seklu XVII'], 'en': ['17th century CE', '18th century', '16th century', '17th century', '21st century'], 'it': ['XVIII secolo', 'XVI secolo', 'XVII secolo', 'XXI secolo'], 'es': ['Siglo XVIII', 'Siglo XVI', 'Siglo XVII', 'Siglo XXI'], 'et': ['18. sajand', '16. sajand', '17. sajand', '21. sajand'], 'eu': ['XVIII. mendea', 'XVI. mendea', 'XVII. mendea', 'XXI. mendea'], 'cs': ['18. století', '16. století', '17. století', '21. století'], 'zxx': ['2022', '1600/1701'], 'pl': ['XVIII wiek', 'XVI wiek', 'XVII wiek', 'XXI wiek'], 'ro': ['Secolul al XVIII-lea', 'Secolul al XVI-lea', 'Secolul al XVII-lea', 'Secolul al XXI-lea'], 'da': ['18. århundrede', '16. århundrede', '17. århundrede', '21. århundrede'], 'nl': ['18e eeuw', '16e eeuw', '17e eeuw', '21e eeuw']}, 'europeanaCollectionName': ['181_Share3D_181'], 'europeanaCompleteness': 10, 'guid': 'https://www.europeana.eu/item/181/share3d_1198?utm_source=api&utm_medium=api&utm_campaign=ndemalem', 'id': '/181/share3d_1198', 'index': 0, 'language': ['en'], 'link': 'https://api.europeana.eu/record/181/share3d_1198.json?wskey=ndemalem', 'previewNoDistribute': False, 'provider': ['CARARE'], 'rights': ['http://creativecommons.org/publicdomain/mark/1.0/'], 'score': 120.54991, 'timestamp': 1711645312584, 'timestamp_created': '2022-12-05T10:02:28.672Z', 'timestamp_created_epoch': 1670234548672, 'timestamp_update': '2024-03-28T17:01:23.411Z', 'timestamp_update_epoch': 1711645283411, 'title': ['Chinese Porcelain Tulip Vase'], 'type': '3D', 'ugc': [False], 'year': ['2022']}\n",
      "\n",
      "Title: ['Porcelain Ewer or jug in the form of a woman']\n",
      "Data Provider: ['The Hunt Museum']\n",
      "Type: 3D\n",
      "Link: https://www.europeana.eu/item/181/share3d_1200?utm_source=api&utm_medium=api&utm_campaign=ndemalem\n",
      "Metadata: {'completeness': 10, 'country': ['Ireland'], 'dataProvider': ['The Hunt Museum'], 'dcCreator': ['The Hunt Museum, Limerick, Ireland'], 'dcCreatorLangAware': {'def': ['The Hunt Museum, Limerick, Ireland']}, 'dcDescription': ['A porcelain jug in the form of a Chinese woman, the arms forming the handle and spout. The head is separate sitting into an opening in the neck and acting as a stopper. Qing dynasty.'], 'dcDescriptionLangAware': {'en': ['A porcelain jug in the form of a Chinese woman, the arms forming the handle and spout. The head is separate sitting into an opening in the neck and acting as a stopper. Qing dynasty.']}, 'dcTitleLangAware': {'en': ['Porcelain Ewer or jug in the form of a woman']}, 'edmConcept': ['http://vocab.getty.edu/aat/300010662', 'http://data.europeana.eu/concept/1757', 'http://vocab.getty.edu/aat/300045666'], 'edmConceptLabel': [{'def': 'porcelana (material)'}, {'def': 'Porcelana'}, {'def': 'porcelain (material)'}, {'def': 'Porcelain'}, {'def': 'ewers (vessels)'}, {'def': 'porcelaine (matériau)'}, {'def': 'Porcelaine'}, {'def': 'aiguière'}, {'def': 'porselein (materiaal)'}, {'def': 'Porselein'}, {'def': 'kannen'}, {'def': 'porcelana'}, {'def': 'Porcelana'}, {'def': 'jarra de aguamanil'}, {'def': 'Porzellan'}, {'def': 'Posliini'}, {'def': 'Фарфор'}, {'def': 'Порцелан'}, {'def': 'Porcelianas'}, {'def': 'Porcelāns'}, {'def': 'Porculan'}, {'def': 'Porcelán'}, {'def': 'Porcelán'}, {'def': 'Porcelan'}, {'def': 'Poirceallán'}, {'def': 'Porcellana'}, {'def': 'Porslin'}, {'def': 'Πορσελάνη'}, {'def': 'Porcellana'}, {'def': 'Portselan'}, {'def': 'Porcelán'}, {'def': 'Portzelana'}, {'def': 'Porcelana'}, {'def': 'Porțelan'}, {'def': 'Porcelæn'}], 'edmConceptPrefLabelLangAware': {'de': ['Porzellan'], 'fi': ['Posliini'], 'ru': ['Фарфор'], 'pt': ['Porcelana', 'porcelana (material)'], 'bg': ['Порцелан'], 'lt': ['Porcelianas'], 'lv': ['Porcelāns'], 'hr': ['Porculan'], 'fr': ['porcelaine (matériau)', 'Porcelaine', 'aiguière'], 'hu': ['Porcelán'], 'sk': ['Porcelán'], 'sl': ['Porcelan'], 'ga': ['Poirceallán'], 'ca': ['Porcellana'], 'sv': ['Porslin'], 'el': ['Πορσελάνη'], 'en': ['Porcelain', 'porcelain (material)', 'ewers (vessels)'], 'it': ['Porcellana'], 'es': ['Porcelana', 'porcelana', 'jarra de aguamanil'], 'et': ['Portselan'], 'cs': ['Porcelán'], 'eu': ['Portzelana'], 'pl': ['Porcelana'], 'ro': ['Porțelan'], 'da': ['Porcelæn'], 'nl': ['porselein (materiaal)', 'Porselein', 'kannen']}, 'edmDatasetName': ['181_Share3D_181'], 'edmIsShownAt': ['https://sketchfab.com/models/dc37cb01290b4b0dafca35f8073a2a4d/embed'], 'edmIsShownBy': ['https://sketchfab.com/models/dc37cb01290b4b0dafca35f8073a2a4d'], 'edmPlaceLabel': [{'def': 'Qing dynasty'}], 'edmPlaceLabelLangAware': {'def': ['Qing dynasty']}, 'edmPlaceLatitude': ['40.1906'], 'edmPlaceLongitude': ['116.412'], 'edmPreview': ['https://api.europeana.eu/thumbnail/v2/url.json?uri=https%3A%2F%2Fmedia.sketchfab.com%2Fmodels%2Fdc37cb01290b4b0dafca35f8073a2a4d%2Fthumbnails%2F3180af73b6f54852988f42064a7c327e%2F6bd42c047f86447197ef770102112374.jpeg&type=3D'], 'edmTimespanLabel': [{'def': '18. Jahrhundert'}, {'def': '21. Jahrhundert'}, {'def': 'XVIII век'}, {'def': 'XXI век'}, {'def': '1700-luku'}, {'def': '2000-luku'}, {'def': 'Século XVIII'}, {'def': 'Século XXI'}, {'def': '18 век'}, {'def': '21 век'}, {'def': 'XVIII amžius'}, {'def': 'XXI amžius'}, {'def': '18. gadsimts'}, {'def': '21. gadsimts'}, {'def': '18. stoljeće'}, {'def': '21. stoljeće'}, {'def': 'XVIIIe siècle'}, {'def': 'XXIe siècle'}, {'def': '18. század'}, {'def': '21. század'}, {'def': '18. storočie'}, {'def': '21. storočie'}, {'def': '18. stoletje'}, {'def': '21. stoletje'}, {'def': '18ú haois'}, {'def': '21ú haois'}, {'def': 'Segle XVIII'}, {'def': 'Segle XXI'}, {'def': '1700-talet'}, {'def': '2000-talet'}, {'def': '18ος αιώνας'}, {'def': '21ος αιώνας'}, {'def': '18th century'}, {'def': '18th century CE'}, {'def': '21st century'}, {'def': 'XVIII secolo'}, {'def': 'XXI secolo'}, {'def': 'Siglo XVIII'}, {'def': 'Siglo XXI'}, {'def': '18. sajand'}, {'def': '21. sajand'}, {'def': 'XVIII. mendea'}, {'def': 'XXI. mendea'}, {'def': '18. století'}, {'def': '21. století'}, {'def': 'XVIII wiek'}, {'def': 'XXI wiek'}, {'def': 'Secolul al XVIII-lea'}, {'def': 'Secolul al XXI-lea'}, {'def': '18. århundrede'}, {'def': '21. århundrede'}, {'def': '18e eeuw'}, {'def': '21e eeuw'}, {'def': 'http://www.wikidata.org/entity/Q7015'}, {'def': 'http://id.loc.gov/authorities/names/sh2002012474'}, {'def': 'http://id.loc.gov/authorities/names/sh85041401'}, {'def': 'http://id.nlm.nih.gov/mesh/D049671'}, {'def': 'https://www.freebase.com/m/08b33'}, {'def': 'https://g.co/kg/m/08b33'}, {'def': 'http://id.nlm.nih.gov/mesh/K01.400.504.875'}, {'def': 'http://vocab.getty.edu/aat/300404512'}, {'def': 'http://babelnet.org/rdf/s02814699n'}, {'def': 'http://dbpedia.org/resource/18th_century'}, {'def': 'http://vocab.getty.edu/page/aat/300404512'}, {'def': 'https://www.wikidata.org/wiki/Q7015'}, {'def': 'http://www.wikidata.org/entity/Q6939'}, {'def': 'http://data.culture.fr/thesaurus/resource/ark:/67717/T4-46'}, {'def': 'http://id.loc.gov/authorities/names/sh85139024'}, {'def': 'http://data.bnf.fr/ark:/12148/cb11930812p'}, {'def': 'http://id.nlm.nih.gov/mesh/D049674'}, {'def': 'https://www.freebase.com/m/08b43'}, {'def': 'https://g.co/kg/m/08b43'}, {'def': 'http://id.nlm.nih.gov/mesh/K01.400.504.984'}, {'def': 'http://vocab.getty.edu/aat/300404515'}, {'def': 'http://id.worldcat.org/fast/1159816'}, {'def': 'http://babelnet.org/rdf/s01157225n'}, {'def': 'http://dbpedia.org/resource/21st_century'}, {'def': '2022'}, {'def': '1750/1800'}], 'edmTimespanLabelLangAware': {'de': ['18. Jahrhundert', '21. Jahrhundert'], 'ru': ['XVIII век', 'XXI век'], 'fi': ['1700-luku', '2000-luku'], 'pt': ['Século XVIII', 'Século XXI'], 'bg': ['18 век', '21 век'], 'lt': ['XVIII amžius', 'XXI amžius'], 'lv': ['18. gadsimts', '21. gadsimts'], 'hr': ['18. stoljeće', '21. stoljeće'], 'fr': ['XVIIIe siècle', 'XXIe siècle'], 'hu': ['18. század', '21. század'], 'sk': ['18. storočie', '21. storočie'], 'sl': ['18. stoletje', '21. stoletje'], 'ga': ['18ú haois', '21ú haois'], 'ca': ['Segle XVIII', 'Segle XXI'], 'sv': ['1700-talet', '2000-talet'], 'el': ['18ος αιώνας', '21ος αιώνας'], 'en': ['18th century', '18th century CE', '21st century'], 'it': ['XVIII secolo', 'XXI secolo'], 'es': ['Siglo XVIII', 'Siglo XXI'], 'et': ['18. sajand', '21. sajand'], 'eu': ['XVIII. mendea', 'XXI. mendea'], 'cs': ['18. století', '21. století'], 'zxx': ['2022', '1750/1800'], 'pl': ['XVIII wiek', 'XXI wiek'], 'ro': ['Secolul al XVIII-lea', 'Secolul al XXI-lea'], 'da': ['18. århundrede', '21. århundrede'], 'nl': ['18e eeuw', '21e eeuw']}, 'europeanaCollectionName': ['181_Share3D_181'], 'europeanaCompleteness': 10, 'guid': 'https://www.europeana.eu/item/181/share3d_1200?utm_source=api&utm_medium=api&utm_campaign=ndemalem', 'id': '/181/share3d_1200', 'index': 0, 'language': ['en'], 'link': 'https://api.europeana.eu/record/181/share3d_1200.json?wskey=ndemalem', 'previewNoDistribute': False, 'provider': ['CARARE'], 'rights': ['http://creativecommons.org/publicdomain/mark/1.0/'], 'score': 59.550606, 'timestamp': 1711645322090, 'timestamp_created': '2022-12-05T10:02:28.672Z', 'timestamp_created_epoch': 1670234548672, 'timestamp_update': '2024-03-28T17:01:23.411Z', 'timestamp_update_epoch': 1711645283411, 'title': ['Porcelain Ewer or jug in the form of a woman'], 'type': '3D', 'ugc': [False], 'year': ['2022']}\n",
      "\n",
      "Title: ['Chinese Porcelain Figure of a Cockerel']\n",
      "Data Provider: ['The Hunt Museum']\n",
      "Type: 3D\n",
      "Link: https://www.europeana.eu/item/181/share3d_1213?utm_source=api&utm_medium=api&utm_campaign=ndemalem\n",
      "Metadata: {'completeness': 10, 'country': ['Ireland'], 'dataProvider': ['The Hunt Museum'], 'dcCreator': ['The Hunt Museum, Limerick, Ireland'], 'dcCreatorLangAware': {'def': ['The Hunt Museum, Limerick, Ireland']}, 'dcDescription': ['A porcelain cockerel on an ormolu base. The cockerel is white with the mouth open as if crowing. The bronze base is decorated with leaves and flowers. This likely dates from between 1662-1722 the Kangxi Empire and is made of Blanc De Chine Porcelain.'], 'dcDescriptionLangAware': {'en': ['A porcelain cockerel on an ormolu base. The cockerel is white with the mouth open as if crowing. The bronze base is decorated with leaves and flowers. This likely dates from between 1662-1722 the Kangxi Empire and is made of Blanc De Chine Porcelain.']}, 'dcLanguage': ['English', 'eng'], 'dcLanguageLangAware': {'def': ['English', 'eng']}, 'dcTitleLangAware': {'en': ['Chinese Porcelain Figure of a Cockerel']}, 'edmConcept': ['http://vocab.getty.edu/aat/300010662', 'http://data.europeana.eu/concept/1772', 'http://data.europeana.eu/concept/2346', 'http://vocab.getty.edu/aat/300189808', 'http://data.europeana.eu/concept/1757', 'http://vocab.getty.edu/aat/300010946'], 'edmConceptLabel': [{'def': 'porcelana (material)'}, {'def': 'Latão'}, {'def': 'Porcelana'}, {'def': 'porcelain (material)'}, {'def': 'Brass'}, {'def': 'Figure'}, {'def': 'figures (representations)'}, {'def': 'Porcelain'}, {'def': 'brass (alloy)'}, {'def': 'porcelaine (matériau)'}, {'def': 'Laiton'}, {'def': 'Représentation figurée'}, {'def': 'figurine'}, {'def': 'Porcelaine'}, {'def': 'laiton'}, {'def': 'porselein (materiaal)'}, {'def': 'Messing'}, {'def': 'Figuurvoorstelling'}, {'def': 'figuurvoorstellingen'}, {'def': 'Porselein'}, {'def': 'messing (koperlegering)'}, {'def': 'porcelana'}, {'def': 'Latón'}, {'def': 'Figura'}, {'def': 'figuras (representación)'}, {'def': 'Porcelana'}, {'def': 'latón (aleación)'}, {'def': 'Messing'}, {'def': 'Figur'}, {'def': 'Figur (Visuelles Werk)'}, {'def': 'Porzellan'}, {'def': 'Messinki'}, {'def': 'Posliini'}, {'def': 'Латунь'}, {'def': 'Фигурка'}, {'def': 'Фарфор'}, {'def': 'Месинг'}, {'def': 'Порцелан'}, {'def': 'Žalvaris'}, {'def': 'Porcelianas'}, {'def': 'Misiņš'}, {'def': 'Porcelāns'}, {'def': 'Mjed'}, {'def': 'Porculan'}, {'def': 'Sárgaréz'}, {'def': 'Porcelán'}, {'def': 'Mosadz'}, {'def': 'Porcelán'}, {'def': 'Medenina'}, {'def': 'Figura'}, {'def': 'Porcelan'}, {'def': 'Prás'}, {'def': 'Fíor'}, {'def': 'Poirceallán'}, {'def': 'Llautó'}, {'def': 'Figureta'}, {'def': 'Porcellana'}, {'def': 'Mässing'}, {'def': 'Figur'}, {'def': 'Porslin'}, {'def': 'Ορείχαλκος'}, {'def': 'Φιγούρα'}, {'def': 'φιγούρα'}, {'def': 'Πορσελάνη'}, {'def': 'Ottone'}, {'def': 'Figura'}, {'def': 'figure (representations)'}, {'def': 'Porcellana'}, {'def': 'ottone'}, {'def': 'Messing'}, {'def': 'Figuur'}, {'def': 'Portselan'}, {'def': 'Mosaz'}, {'def': 'Figura'}, {'def': 'Porcelán'}, {'def': 'Letoi'}, {'def': 'Portzelana'}, {'def': 'Mosiądz'}, {'def': 'Porcelana'}, {'def': 'Alamă'}, {'def': 'Porțelan'}, {'def': 'Messing'}, {'def': 'Figur'}, {'def': 'Porcelæn'}], 'edmConceptPrefLabelLangAware': {'de': ['Porzellan', 'Messing', 'Figur', 'Figur (Visuelles Werk)'], 'fi': ['Posliini', 'Messinki'], 'ru': ['Фарфор', 'Латунь', 'Фигурка'], 'pt': ['Porcelana', 'Latão', 'porcelana (material)'], 'bg': ['Месинг', 'Порцелан'], 'lt': ['Porcelianas', 'Žalvaris'], 'lv': ['Porcelāns', 'Misiņš'], 'hr': ['Porculan', 'Mjed'], 'fr': ['Représentation figurée', 'figurine', 'porcelaine (matériau)', 'Porcelaine', 'Laiton', 'laiton'], 'hu': ['Sárgaréz', 'Porcelán'], 'sk': ['Mosadz', 'Porcelán'], 'sl': ['Medenina', 'Porcelan', 'Figura'], 'ga': ['Prás', 'Poirceallán', 'Fíor'], 'ca': ['Llautó', 'Porcellana', 'Figureta'], 'sv': ['Mässing', 'Porslin', 'Figur'], 'el': ['Ορείχαλκος', 'Φιγούρα', 'Πορσελάνη', 'φιγούρα'], 'en': ['figures (representations)', 'Porcelain', 'porcelain (material)', 'Brass', 'brass (alloy)', 'Figure'], 'it': ['Ottone', 'Porcellana', 'figure (representations)', 'ottone', 'Figura'], 'es': ['Porcelana', 'latón (aleación)', 'porcelana', 'Latón', 'Figura', 'figuras (representación)'], 'et': ['Figuur', 'Portselan', 'Messing'], 'cs': ['Porcelán', 'Mosaz', 'Figura'], 'eu': ['Letoi', 'Portzelana'], 'pl': ['Porcelana', 'Mosiądz'], 'ro': ['Porțelan', 'Alamă'], 'da': ['Porcelæn', 'Messing', 'Figur'], 'nl': ['messing (koperlegering)', 'porselein (materiaal)', 'figuurvoorstellingen', 'Messing', 'Porselein', 'Figuurvoorstelling']}, 'edmDatasetName': ['181_Share3D_181'], 'edmIsShownAt': ['https://sketchfab.com/models/814b50ceedfd484e996e0d00d24265b4/embed'], 'edmIsShownBy': ['https://sketchfab.com/models/814b50ceedfd484e996e0d00d24265b4'], 'edmPlaceLabel': [{'def': 'China'}], 'edmPlaceLabelLangAware': {'def': ['China']}, 'edmPlaceLatitude': ['40.1906'], 'edmPlaceLongitude': ['116.412'], 'edmPreview': ['https://api.europeana.eu/thumbnail/v2/url.json?uri=https%3A%2F%2Fmedia.sketchfab.com%2Fmodels%2F814b50ceedfd484e996e0d00d24265b4%2Fthumbnails%2Fca05e4e0bfcf4ded992e34df59bd4dad%2Fb470036ca360436688304192cf1f3bf1.jpeg&type=3D'], 'edmTimespanLabel': [{'def': '2022'}, {'def': '17th century CE'}, {'def': '18th century CE'}, {'def': '21st century'}, {'def': 'http://vocab.getty.edu/page/aat/300404511'}, {'def': 'https://www.wikidata.org/wiki/Q7016'}, {'def': 'http://vocab.getty.edu/page/aat/300404512'}, {'def': 'https://www.wikidata.org/wiki/Q7015'}, {'def': 'http://www.wikidata.org/entity/Q6939'}, {'def': 'http://data.culture.fr/thesaurus/resource/ark:/67717/T4-46'}, {'def': 'http://id.loc.gov/authorities/names/sh85139024'}, {'def': 'http://data.bnf.fr/ark:/12148/cb11930812p'}, {'def': 'http://id.nlm.nih.gov/mesh/D049674'}, {'def': 'https://www.freebase.com/m/08b43'}, {'def': 'https://g.co/kg/m/08b43'}, {'def': 'http://id.nlm.nih.gov/mesh/K01.400.504.984'}, {'def': 'http://vocab.getty.edu/aat/300404515'}, {'def': 'http://id.worldcat.org/fast/1159816'}, {'def': 'http://babelnet.org/rdf/s01157225n'}, {'def': 'http://dbpedia.org/resource/21st_century'}, {'def': '21. Jahrhundert'}, {'def': 'XXI век'}, {'def': '2000-luku'}, {'def': 'Século XXI'}, {'def': '21 век'}, {'def': 'XXI amžius'}, {'def': '21. gadsimts'}, {'def': '21. stoljeće'}, {'def': 'XXIe siècle'}, {'def': '21. század'}, {'def': '21. storočie'}, {'def': '21. stoletje'}, {'def': '21ú haois'}, {'def': 'Segle XXI'}, {'def': '2000-talet'}, {'def': '21ος αιώνας'}, {'def': 'XXI secolo'}, {'def': 'Siglo XXI'}, {'def': '21. sajand'}, {'def': 'XXI. mendea'}, {'def': '21. století'}, {'def': 'XXI wiek'}, {'def': 'Secolul al XXI-lea'}, {'def': '21. århundrede'}, {'def': '21e eeuw'}], 'edmTimespanLabelLangAware': {'de': ['21. Jahrhundert'], 'ru': ['XXI век'], 'fi': ['2000-luku'], 'pt': ['Século XXI'], 'bg': ['21 век'], 'lt': ['XXI amžius'], 'lv': ['21. gadsimts'], 'hr': ['21. stoljeće'], 'fr': ['XXIe siècle'], 'hu': ['21. század'], 'sk': ['21. storočie'], 'sl': ['21. stoletje'], 'ga': ['21ú haois'], 'ca': ['Segle XXI'], 'sv': ['2000-talet'], 'el': ['21ος αιώνας'], 'en': ['17th century CE', '18th century CE', '21st century'], 'it': ['XXI secolo'], 'es': ['Siglo XXI'], 'et': ['21. sajand'], 'eu': ['XXI. mendea'], 'cs': ['21. století'], 'zxx': ['2022'], 'pl': ['XXI wiek'], 'ro': ['Secolul al XXI-lea'], 'da': ['21. århundrede'], 'nl': ['21e eeuw']}, 'europeanaCollectionName': ['181_Share3D_181'], 'europeanaCompleteness': 10, 'guid': 'https://www.europeana.eu/item/181/share3d_1213?utm_source=api&utm_medium=api&utm_campaign=ndemalem', 'id': '/181/share3d_1213', 'index': 0, 'language': ['en'], 'link': 'https://api.europeana.eu/record/181/share3d_1213.json?wskey=ndemalem', 'previewNoDistribute': False, 'provider': ['CARARE'], 'rights': ['http://creativecommons.org/publicdomain/mark/1.0/'], 'score': 110.78714, 'timestamp': 1711645313490, 'timestamp_created': '2023-08-01T08:39:45.538Z', 'timestamp_created_epoch': 1690879185538, 'timestamp_update': '2024-03-28T17:01:23.411Z', 'timestamp_update_epoch': 1711645283411, 'title': ['Chinese Porcelain Figure of a Cockerel'], 'type': '3D', 'ugc': [False], 'year': ['2022']}\n",
      "\n"
     ]
    }
   ],
   "source": [
    "# Step 1: Install the required libraries \n",
    "!pip install requests\n",
    "\n",
    "# Step 2: Import the necessary libraries\n",
    "import requests\n",
    "import time\n",
    "import json\n",
    "\n",
    "# Step 3: Define the API endpoint and initial parameters\n",
    "url = \"https://api.europeana.eu/record/v2/search.json\"\n",
    "params = {\n",
    "    'query': 'Chinese Porcelain',  # Search term\n",
    "    'wskey': 'ndemalem',           # Your API key\n",
    "    'rows': 100,                   # Number of results per request (max 100)\n",
    "}\n",
    "\n",
    "# Step 4: Initialize a list to store the retrieved metadata\n",
    "all_items = []\n",
    "\n",
    "# Step 5: Initialize a cursor for cursor-based pagination\n",
    "cursor = '*'\n",
    "\n",
    "# Step 6: Loop to handle cursor-based pagination and retrieve all results\n",
    "while cursor:\n",
    "    # Add cursor to the parameters\n",
    "    params['cursor'] = cursor\n",
    "    \n",
    "    # Make the GET request to the Europeana API\n",
    "    response = requests.get(url, params=params)\n",
    "    \n",
    "    if response.status_code == 200:\n",
    "        data = response.json()\n",
    "        \n",
    "        # Add the items from the current page to the list\n",
    "        all_items.extend(data.get('items', []))\n",
    "        \n",
    "        # Print progress\n",
    "        print(f\"Retrieved {len(all_items)} items so far...\")\n",
    "        \n",
    "        # Get the next cursor\n",
    "        cursor = data.get('nextCursor')\n",
    "        \n",
    "        # Sleep briefly to avoid hitting API rate limits\n",
    "        time.sleep(1)\n",
    "    else:\n",
    "        print(f\"Error: {response.status_code} - {response.text}\")\n",
    "        break\n",
    "\n",
    "# Step 7: Print summary of retrieved items\n",
    "print(f\"\\nTotal items retrieved: {len(all_items)}\")\n",
    "\n",
    "# Step 8: Example of outputting a few items (prints the first 5 items for brevity)\n",
    "for item in all_items[:5]:  # Print the first 5 items\n",
    "    print(f\"Title: {item.get('title')}\")\n",
    "    print(f\"Data Provider: {item.get('dataProvider')}\")\n",
    "    print(f\"Type: {item.get('type')}\")\n",
    "    print(f\"Link: {item.get('guid')}\")\n",
    "    print(f\"Metadata: {item}\\n\")\n",
    "\n",
    "# Step 9: Save the data to a JSON file\n",
    "with open('chinese_porcelain_metadata.json', 'w', encoding='utf-8') as f:\n",
    "    json.dump(all_items, f, ensure_ascii=False, indent=4)"
   ]
  },
  {
   "cell_type": "code",
   "execution_count": 7,
   "id": "1e39fe50",
   "metadata": {},
   "outputs": [
    {
     "name": "stdout",
     "output_type": "stream",
     "text": [
      "Data type: <class 'list'>\n",
      "Data is not a dictionary. Type: <class 'list'>\n",
      "First item in data: {'completeness': 0, 'country': ['Denmark'], 'dataProvider': ['National Gallery of Denmark'], 'dcCreator': ['791_person'], 'dcCreatorLangAware': {'def': ['791_person']}, 'dcTitleLangAware': {'en': ['Still Life with a Chinese Porcelain Bowl']}, 'edmConcept': ['http://www.wikidata.org/entity/Q12321255', 'http://www.wikidata.org/entity/Q3305213'], 'edmConceptLabel': [{'def': 'Leinwand'}, {'def': 'Gemälde'}, {'def': 'холст'}, {'def': 'картина'}, {'def': 'kangas'}, {'def': 'maalaus'}, {'def': 'målarduk'}, {'def': 'målning'}, {'def': 'tela'}, {'def': 'pintura'}, {'def': 'платно'}, {'def': 'картина'}, {'def': 'καμβάς'}, {'def': 'έργο ζωγραφικής'}, {'def': 'canvas'}, {'def': 'painting'}, {'def': 'audekls'}, {'def': 'glezna'}, {'def': 'tela'}, {'def': 'dipinto'}, {'def': 'toile'}, {'def': 'peinture'}, {'def': 'vászon'}, {'def': 'festmény'}, {'def': 'lienzo'}, {'def': 'pintura'}, {'def': 'lõuend'}, {'def': 'maal'}, {'def': 'Margo-oihal'}, {'def': 'margolan'}, {'def': 'malířské plátno'}, {'def': 'malba'}, {'def': 'platno'}, {'def': 'slika'}, {'def': 'canbhás'}, {'def': 'pictiúr'}, {'def': 'płótno'}, {'def': 'obraz'}, {'def': 'kanvas'}, {'def': 'maleri'}, {'def': 'pânză'}, {'def': 'pictură'}, {'def': 'schildersdoek'}, {'def': 'schilderij'}, {'def': 'llenç'}, {'def': 'pintura'}, {'def': 'paveikslas'}, {'def': 'slika'}, {'def': 'maľba'}], 'edmConceptPrefLabelLangAware': {'de': ['Gemälde', 'Leinwand'], 'ru': ['картина', 'холст'], 'fi': ['kangas', 'maalaus'], 'pt': ['tela', 'pintura'], 'bg': ['платно', 'картина'], 'lt': ['paveikslas'], 'lv': ['audekls', 'glezna'], 'hr': ['slika'], 'fr': ['toile', 'peinture'], 'hu': ['vászon', 'festmény'], 'sk': ['maľba'], 'sl': ['slika', 'platno'], 'ga': ['canbhás', 'pictiúr'], 'ca': ['llenç', 'pintura'], 'sv': ['målning', 'målarduk'], 'el': ['έργο ζωγραφικής', 'καμβάς'], 'en': ['canvas', 'painting'], 'it': ['tela', 'dipinto'], 'es': ['lienzo', 'pintura'], 'et': ['lõuend', 'maal'], 'eu': ['margolan', 'Margo-oihal'], 'cs': ['malířské plátno', 'malba'], 'pl': ['obraz', 'płótno'], 'da': ['kanvas', 'maleri'], 'ro': ['pânză', 'pictură'], 'nl': ['schildersdoek', 'schilderij']}, 'edmDatasetName': ['2020903_Museu_NationalGalleryOfDenmark'], 'edmIsShownAt': ['https://open.smk.dk/artwork/image/kms384'], 'edmIsShownBy': ['https://api.smk.dk/api/v1/thumbnail/d3668588-1832-40f0-b1b8-91d692e43054.jpg'], 'edmPreview': ['https://api.europeana.eu/thumbnail/v2/url.json?uri=https%3A%2F%2Fapi.smk.dk%2Fapi%2Fv1%2Fthumbnail%2Fd3668588-1832-40f0-b1b8-91d692e43054.jpg&type=IMAGE'], 'edmTimespanLabel': [{'def': '1662'}, {'def': '17. Jahrhundert'}, {'def': 'XVII век'}, {'def': '1600-luku'}, {'def': 'Século XVII'}, {'def': '17 век'}, {'def': 'XVII amžius'}, {'def': '17. gadsimts'}, {'def': '17. stoljeće'}, {'def': 'XVIIe siècle'}, {'def': '17. század'}, {'def': '17. storočie'}, {'def': '17. stoletje'}, {'def': '17ú haois'}, {'def': 'Segle XVII'}, {'def': '1600-talet'}, {'def': 'Seklu XVII'}, {'def': '17ος αιώνας'}, {'def': '17th century'}, {'def': 'XVII secolo'}, {'def': 'Siglo XVII'}, {'def': '17. sajand'}, {'def': 'XVII. mendea'}, {'def': '17. století'}, {'def': 'XVII wiek'}, {'def': 'Secolul al XVII-lea'}, {'def': '17. århundrede'}, {'def': '17e eeuw'}, {'def': 'http://www.wikidata.org/entity/Q7016'}, {'def': 'http://id.loc.gov/authorities/names/sh85120427'}, {'def': 'http://data.bnf.fr/ark:/12148/cb120419182'}, {'def': 'http://id.nlm.nih.gov/mesh/D049670'}, {'def': 'https://www.freebase.com/m/08b2m'}, {'def': 'https://g.co/kg/m/08b2m'}, {'def': 'http://id.nlm.nih.gov/mesh/K01.400.504.750'}, {'def': 'http://vocab.getty.edu/aat/300404511'}, {'def': 'http://babelnet.org/rdf/s02814624n'}, {'def': 'http://dbpedia.org/resource/17th_century'}], 'edmTimespanLabelLangAware': {'de': ['17. Jahrhundert'], 'ru': ['XVII век'], 'fi': ['1600-luku'], 'pt': ['Século XVII'], 'bg': ['17 век'], 'lt': ['XVII amžius'], 'lv': ['17. gadsimts'], 'hr': ['17. stoljeće'], 'fr': ['XVIIe siècle'], 'hu': ['17. század'], 'sk': ['17. storočie'], 'sl': ['17. stoletje'], 'ga': ['17ú haois'], 'ca': ['Segle XVII'], 'sv': ['1600-talet'], 'mt': ['Seklu XVII'], 'el': ['17ος αιώνας'], 'en': ['17th century'], 'it': ['XVII secolo'], 'es': ['Siglo XVII'], 'et': ['17. sajand'], 'eu': ['XVII. mendea'], 'cs': ['17. století'], 'zxx': ['1662'], 'pl': ['XVII wiek'], 'ro': ['Secolul al XVII-lea'], 'da': ['17. århundrede'], 'nl': ['17e eeuw']}, 'europeanaCollectionName': ['2020903_Museu_NationalGalleryOfDenmark'], 'europeanaCompleteness': 0, 'guid': 'https://www.europeana.eu/item/2020903/KMS384?utm_source=api&utm_medium=api&utm_campaign=ndemalem', 'id': '/2020903/KMS384', 'index': 0, 'language': ['mul'], 'link': 'https://api.europeana.eu/record/2020903/KMS384.json?wskey=ndemalem', 'previewNoDistribute': False, 'provider': ['MUSEU'], 'rights': ['http://creativecommons.org/publicdomain/mark/1.0/'], 'score': 102.64679, 'timestamp': 1719244425251, 'timestamp_created': '2015-10-26T13:07:34.505Z', 'timestamp_created_epoch': 1445864854505, 'timestamp_update': '2024-06-24T15:49:52.672Z', 'timestamp_update_epoch': 1719244192672, 'title': ['Still Life with a Chinese Porcelain Bowl'], 'type': 'IMAGE', 'ugc': [False], 'year': ['1662']}\n"
     ]
    }
   ],
   "source": [
    "import json\n",
    "\n",
    "# Load the dataset\n",
    "with open('chinese_porcelain_metadata.json', 'r', encoding='utf-8') as f:\n",
    "    data = json.load(f)\n",
    "\n",
    "# Print the type and a sample of the data\n",
    "print(f\"Data type: {type(data)}\")\n",
    "\n",
    "# If data is a dictionary, print its keys and a sample of its content\n",
    "if isinstance(data, dict):\n",
    "    print(\"Keys in the data dictionary:\", data.keys())\n",
    "    # Print the type of 'items' if it exists\n",
    "    if 'items' in data:\n",
    "        print(\"Type of 'items':\", type(data['items']))\n",
    "        print(\"Sample 'items' data:\", data['items'][:2])  # Print first 2 items for inspection\n",
    "else:\n",
    "    print(\"Data is not a dictionary. Type:\", type(data))\n",
    "    print(\"First item in data:\", data[0])"
   ]
  },
  {
   "cell_type": "code",
   "execution_count": 9,
   "id": "3dce2ff5",
   "metadata": {},
   "outputs": [
    {
     "name": "stdout",
     "output_type": "stream",
     "text": [
      "Total items related to 'Chinese ladies': 95\n",
      "Title: ['Two Chinese ladies in a garden', 'Deux dames chinoises dans un jardin']\n",
      "Description: ['flower', 'Butterfly (http://vocab.getty.edu/aat/300417320)', 'mountainous landscape', 'garden', 'China (http://vocab.getty.edu/aat/1814991)', 'base [furniture] (http://vocab.getty.edu/aat/300001656)', 'deciduous tree', 'decorative pot (http://vocab.getty.edu/aat/300260048)', 'construction', 'Deep platter, polychrome decoration, Two Chinese ladies in a garden, green family.', \"Inst./Coll.: Musées Royaux d'Art et d'Histoire (Bruxelles)  / Inv.: 4716\", 'fleur', 'papillon  (http://vocab.getty.edu/aat/300417320)', 'motif grillagé[ornement]', 'paysage montagneux', 'jardin', 'Chine  (http://vocab.getty.edu/aat/1814991)', 'socle[mobilier]  (http://vocab.getty.edu/aat/300001656)', 'barrière  (http://vocab.getty.edu/aat/)', 'arbre à feuilles caduques', 'pot décoratif  (http://vocab.getty.edu/aat/300260048)', 'costume traditionnel  (http://vocab.getty.edu/aat/300380192)', 'pivoine  (http://vocab.getty.edu/aat/300380052)', 'cerisier[arbre]', 'construction', 'Plat profond, décor polychrome, Deux dames chinoises dans un jardin, famille verte.']\n",
      "Link: https://www.europeana.eu/item/376/photography_ProvidedCHO_Royal_Institute_for_Cultural_Heritage__KIK_IRPA___Brussels__Belgium__KIK_IRPA_n__11061314?utm_source=api&utm_medium=api&utm_campaign=ndemalem\n",
      "Metadata: {'completeness': 10, 'country': ['Belgium'], 'dataProvider': ['Royal Institute for Cultural Heritage'], 'dcCreator': ['Unknown (ceramist)', 'inconnu (céramiste)', 'inconnu'], 'dcCreatorLangAware': {'en': ['Unknown (ceramist)'], 'fr': ['inconnu (céramiste)', 'inconnu']}, 'dcDescription': ['flower', 'Butterfly (http://vocab.getty.edu/aat/300417320)', 'mountainous landscape', 'garden', 'China (http://vocab.getty.edu/aat/1814991)', 'base [furniture] (http://vocab.getty.edu/aat/300001656)', 'deciduous tree', 'decorative pot (http://vocab.getty.edu/aat/300260048)', 'construction', 'Deep platter, polychrome decoration, Two Chinese ladies in a garden, green family.', \"Inst./Coll.: Musées Royaux d'Art et d'Histoire (Bruxelles)  / Inv.: 4716\", 'fleur', 'papillon  (http://vocab.getty.edu/aat/300417320)', 'motif grillagé[ornement]', 'paysage montagneux', 'jardin', 'Chine  (http://vocab.getty.edu/aat/1814991)', 'socle[mobilier]  (http://vocab.getty.edu/aat/300001656)', 'barrière  (http://vocab.getty.edu/aat/)', 'arbre à feuilles caduques', 'pot décoratif  (http://vocab.getty.edu/aat/300260048)', 'costume traditionnel  (http://vocab.getty.edu/aat/300380192)', 'pivoine  (http://vocab.getty.edu/aat/300380052)', 'cerisier[arbre]', 'construction', 'Plat profond, décor polychrome, Deux dames chinoises dans un jardin, famille verte.'], 'dcDescriptionLangAware': {'en': ['flower', 'Butterfly (http://vocab.getty.edu/aat/300417320)', 'mountainous landscape', 'garden', 'China (http://vocab.getty.edu/aat/1814991)', 'base [furniture] (http://vocab.getty.edu/aat/300001656)', 'deciduous tree', 'decorative pot (http://vocab.getty.edu/aat/300260048)', 'construction', 'Deep platter, polychrome decoration, Two Chinese ladies in a garden, green family.'], 'fr': [\"Inst./Coll.: Musées Royaux d'Art et d'Histoire (Bruxelles)  / Inv.: 4716\", 'fleur', 'papillon  (http://vocab.getty.edu/aat/300417320)', 'motif grillagé[ornement]', 'paysage montagneux', 'jardin', 'Chine  (http://vocab.getty.edu/aat/1814991)', 'socle[mobilier]  (http://vocab.getty.edu/aat/300001656)', 'barrière  (http://vocab.getty.edu/aat/)', 'arbre à feuilles caduques', 'pot décoratif  (http://vocab.getty.edu/aat/300260048)', 'costume traditionnel  (http://vocab.getty.edu/aat/300380192)', 'pivoine  (http://vocab.getty.edu/aat/300380052)', 'cerisier[arbre]', 'construction', 'Plat profond, décor polychrome, Deux dames chinoises dans un jardin, famille verte.']}, 'dcTitleLangAware': {'en': ['Two Chinese ladies in a garden'], 'fr': ['Deux dames chinoises dans un jardin']}, 'edmConcept': ['http://data.europeana.eu/concept/1683', 'http://vocab.getty.edu/aat/300043053', 'http://vocab.getty.edu/aat/300010662', 'http://data.europeana.eu/concept/1864', 'http://data.europeana.eu/concept/1757', 'http://data.europeana.eu/concept/2352'], 'edmConceptLabel': [{'def': 'Genre der Fotografie'}, {'def': 'Garten'}, {'def': 'Porzellan'}, {'def': 'Blume'}, {'def': 'Valokuvaustyyli'}, {'def': 'Puutarha'}, {'def': 'Posliini'}, {'def': 'Fotografigenre'}, {'def': 'Trädgård'}, {'def': 'Porslin'}, {'def': 'Blomma'}, {'def': 'Жанр фотографии'}, {'def': 'Сад'}, {'def': 'Фарфор'}, {'def': 'Género fotográfico'}, {'def': 'porcelana (material)'}, {'def': 'Jardim'}, {'def': 'Porcelana'}, {'def': 'Είδος φωτογραφίας'}, {'def': 'Κήπος'}, {'def': 'Πορσελάνη'}, {'def': 'Άνθος'}, {'def': 'Photography genre'}, {'def': 'platters (carrying dishes)'}, {'def': 'porcelain (material)'}, {'def': 'Garden'}, {'def': 'Porcelain'}, {'def': 'Flower'}, {'def': 'Generi fotografici'}, {'def': 'Giardino'}, {'def': 'Porcellana'}, {'def': 'Fiore'}, {'def': 'Genre photographique'}, {'def': 'plat'}, {'def': 'porcelaine (matériau)'}, {'def': 'Jardin'}, {'def': 'Porcelaine'}, {'def': 'Fleur'}, {'def': 'Fotográfia jellege'}, {'def': 'Kert'}, {'def': 'Porcelán'}, {'def': 'Género fotográfico'}, {'def': 'azafates (fuentes para servir)'}, {'def': 'porcelana'}, {'def': 'Jardín'}, {'def': 'Porcelana'}, {'def': 'Fotografický žánr'}, {'def': 'Zahrada'}, {'def': 'Porcelán'}, {'def': 'Genero fotografiko'}, {'def': 'Lorategi'}, {'def': 'Portzelana'}, {'def': 'Seánra grianghrafadóireachta'}, {'def': 'Gairdín'}, {'def': 'Poirceallán'}, {'def': 'Gatunek fotograficzny'}, {'def': 'Ogród'}, {'def': 'Porcelana'}, {'def': 'Fotografisk genre'}, {'def': 'Have'}, {'def': 'Porcelæn'}, {'def': 'Gen fotografic'}, {'def': 'Grădina'}, {'def': 'Porțelan'}, {'def': 'Gènere fotogràfic'}, {'def': 'Jardí'}, {'def': 'Porcellana'}, {'def': 'Fotografiegenre'}, {'def': 'schotels'}, {'def': 'porselein (materiaal)'}, {'def': 'Tuin'}, {'def': 'Porselein'}, {'def': 'Bloem'}, {'def': 'Градина'}, {'def': 'Порцелан'}, {'def': 'Sodas'}, {'def': 'Porcelianas'}, {'def': 'Vrt'}, {'def': 'Porculan'}, {'def': 'Dārzs'}, {'def': 'Porcelāns'}, {'def': 'Záhrada'}, {'def': 'Porcelán'}, {'def': 'Vrt'}, {'def': 'Porcelan'}, {'def': 'Aed'}, {'def': 'Portselan'}], 'edmConceptPrefLabelLangAware': {'de': ['Garten', 'Porzellan', 'Blume', 'Genre der Fotografie'], 'fi': ['Puutarha', 'Posliini', 'Valokuvaustyyli'], 'ru': ['Фарфор', 'Сад', 'Жанр фотографии'], 'pt': ['Porcelana', 'Género fotográfico', 'porcelana (material)', 'Jardim'], 'bg': ['Порцелан', 'Градина'], 'lt': ['Porcelianas', 'Sodas'], 'hr': ['Porculan', 'Vrt'], 'lv': ['Porcelāns', 'Dārzs'], 'fr': ['Genre photographique', 'porcelaine (matériau)', 'Porcelaine', 'Fleur', 'plat', 'Jardin'], 'hu': ['Fotográfia jellege', 'Porcelán', 'Kert'], 'sk': ['Porcelán', 'Záhrada'], 'sl': ['Porcelan', 'Vrt'], 'ga': ['Seánra grianghrafadóireachta', 'Poirceallán', 'Gairdín'], 'ca': ['Gènere fotogràfic', 'Porcellana', 'Jardí'], 'sv': ['Trädgård', 'Fotografigenre', 'Porslin', 'Blomma'], 'el': ['Κήπος', 'Πορσελάνη', 'Είδος φωτογραφίας', 'Άνθος'], 'en': ['Photography genre', 'Garden', 'Porcelain', 'Flower', 'porcelain (material)', 'platters (carrying dishes)'], 'it': ['Porcellana', 'Giardino', 'Fiore', 'Generi fotografici'], 'es': ['Porcelana', 'porcelana', 'Género fotográfico', 'Jardín', 'azafates (fuentes para servir)'], 'et': ['Aed', 'Portselan'], 'cs': ['Fotografický žánr', 'Zahrada', 'Porcelán'], 'eu': ['Genero fotografiko', 'Lorategi', 'Portzelana'], 'pl': ['Porcelana', 'Ogród', 'Gatunek fotograficzny'], 'da': ['Fotografisk genre', 'Porcelæn', 'Have'], 'ro': ['Grădina', 'Porțelan', 'Gen fotografic'], 'nl': ['Tuin', 'Fotografiegenre', 'schotels', 'porselein (materiaal)', 'Porselein', 'Bloem']}, 'edmDatasetName': ['376_Photoconsortium_KIK_IRPA'], 'edmIsShownAt': ['http://balat.kikirpa.be/object/11061314'], 'edmIsShownBy': ['http://balat.kikirpa.be/image/B208112'], 'edmPlaceAltLabel': [{'def': 'VR China'}, {'def': 'China'}, {'def': 'Rotchina'}, {'def': 'V.R. China'}, {'def': 'Chinesische Volksrepublik'}, {'def': 'Folkrepubliken Kina'}, {'def': 'Mittens rike'}, {'def': 'КНР'}, {'def': 'Поднебесная'}, {'def': 'Материковый Китай'}, {'def': 'Континентальный Китай'}, {'def': 'Китайская Народная Республика'}, {'def': 'Kiinan kansantasavalta'}, {'def': 'República Popular da China'}, {'def': 'КНР'}, {'def': 'Китайска народна република'}, {'def': 'Ċina'}, {'def': 'Repubblika Popolari taċ-Ċina'}, {'def': 'Κίνα'}, {'def': 'China'}, {'def': 'CN'}, {'def': 'PR China'}, {'def': 'PRC'}, {'def': 'Cn'}, {'def': 'CHN'}, {'def': 'China PR'}, {'def': 'Mainland China'}, {'def': 'RPC'}, {'def': 'Kina'}, {'def': 'Ķīnas Tautas Republika'}, {'def': 'RPC'}, {'def': 'Cina popolare'}, {'def': 'Repubblica Popolare Cinese'}, {'def': 'Chine communiste'}, {'def': 'Chine populaire'}, {'def': 'RPC'}, {'def': 'Chine continentale'}, {'def': 'Chine'}, {'def': 'CN'}, {'def': 'La République populaire de Chine'}, {'def': 'Kínai Népköztársaság'}, {'def': 'República popular de China'}, {'def': 'China Popular'}, {'def': 'República Popular China'}, {'def': 'Hiina Rahvavabariik'}, {'def': 'Hiina RV'}, {'def': 'Txina'}, {'def': 'CN'}, {'def': 'Txina Popularra'}, {'def': 'CHN'}, {'def': 'Čínská lidová republika'}, {'def': 'ČLR'}, {'def': 'Zipang'}, {'def': 'Cipang'}, {'def': 'Říše středu'}, {'def': 'Čínska ľudová republika'}, {'def': 'Chiny'}, {'def': 'China'}, {'def': 'CN'}, {'def': 'CHN'}, {'def': 'La Xina'}, {'def': 'Xina popular'}, {'def': 'Xina'}], 'edmPlaceAltLabelLangAware': {'de': ['VR China', 'China', 'Rotchina', 'V.R. China', 'Chinesische Volksrepublik'], 'sv': ['Folkrepubliken Kina', 'Mittens rike'], 'ru': ['КНР', 'Поднебесная', 'Материковый Китай', 'Континентальный Китай', 'Китайская Народная Республика'], 'fi': ['Kiinan kansantasavalta'], 'pt': ['República Popular da China'], 'bg': ['КНР', 'Китайска народна република'], 'mt': ['Ċina', 'Repubblika Popolari taċ-Ċina'], 'el': ['Κίνα'], 'en': ['China', 'CN', 'PR China', 'PRC', 'Cn', 'CHN', 'China PR', 'Mainland China', 'RPC'], 'hr': ['Kina'], 'lv': ['Ķīnas Tautas Republika'], 'it': ['RPC', 'Cina popolare', 'Repubblica Popolare Cinese'], 'fr': ['Chine communiste', 'Chine populaire', 'RPC', 'Chine continentale', 'Chine', 'CN', 'La République populaire de Chine'], 'hu': ['Kínai Népköztársaság'], 'es': ['República popular de China', 'China Popular', 'República Popular China'], 'et': ['Hiina Rahvavabariik', 'Hiina RV'], 'eu': ['Txina', 'CN', 'Txina Popularra', 'CHN'], 'cs': ['Čínská lidová republika', 'ČLR', 'Zipang', 'Cipang', 'Říše středu'], 'sk': ['Čínska ľudová republika'], 'pl': ['Chiny'], 'nl': ['China', 'CN', 'CHN'], 'ca': ['La Xina', 'Xina popular', 'Xina']}, 'edmPlaceLabel': [{'def': 'China'}, {'def': \"People's Republic of China\"}, {'def': 'Volksrepublik China'}, {'def': 'Kiina'}, {'def': 'Китай'}, {'def': 'China'}, {'def': 'Китай'}, {'def': 'Kinijos Liaudies Respublika'}, {'def': 'Ķīna'}, {'def': 'Narodna Republika Kina'}, {'def': 'République populaire de Chine'}, {'def': 'Kína'}, {'def': 'Čína'}, {'def': 'Ljudska republika Kitajska'}, {'def': 'Daon-Phoblacht na Síne'}, {'def': 'República Popular de la Xina'}, {'def': 'Kina'}, {'def': 'Repubblika tal-Poplu taċ-Ċina'}, {'def': 'Λαϊκή Δημοκρατία της Κίνας'}, {'def': 'Cina'}, {'def': 'China'}, {'def': 'Hiina'}, {'def': 'Txinako Herri Errepublika'}, {'def': 'Čína'}, {'def': 'Chińska Republika Ludowa'}, {'def': 'Republica Populară Chineză'}, {'def': 'Kina'}, {'def': 'Volksrepubliek China'}], 'edmPlaceLabelLangAware': {'de': ['Volksrepublik China'], 'fi': ['Kiina'], 'ru': ['Китай'], 'pt': ['China'], 'bg': ['Китай'], 'lt': ['Kinijos Liaudies Respublika'], 'lv': ['Ķīna'], 'hr': ['Narodna Republika Kina'], 'fr': ['République populaire de Chine'], 'hu': ['Kína'], 'sk': ['Čína'], 'sl': ['Ljudska republika Kitajska'], 'ga': ['Daon-Phoblacht na Síne'], 'ca': ['República Popular de la Xina'], 'sv': ['Kina'], 'mt': ['Repubblika tal-Poplu taċ-Ċina'], 'el': ['Λαϊκή Δημοκρατία της Κίνας'], 'en': ['China', \"People's Republic of China\"], 'it': ['Cina'], 'es': ['China'], 'et': ['Hiina'], 'eu': ['Txinako Herri Errepublika'], 'cs': ['Čína'], 'pl': ['Chińska Republika Ludowa'], 'ro': ['Republica Populară Chineză'], 'da': ['Kina'], 'nl': ['Volksrepubliek China']}, 'edmPlaceLatitude': ['35.0', '35.844723'], 'edmPlaceLongitude': ['105.0', '103.45194'], 'edmPreview': ['https://api.europeana.eu/thumbnail/v2/url.json?uri=http%3A%2F%2Fbalat.kikirpa.be%2Fimage%2FB208112%2Fsmall&type=IMAGE'], 'edmTimespanLabel': [{'def': '1701'}], 'edmTimespanLabelLangAware': {'zxx': ['1701']}, 'europeanaCollectionName': ['376_Photoconsortium_KIK_IRPA'], 'europeanaCompleteness': 10, 'guid': 'https://www.europeana.eu/item/376/photography_ProvidedCHO_Royal_Institute_for_Cultural_Heritage__KIK_IRPA___Brussels__Belgium__KIK_IRPA_n__11061314?utm_source=api&utm_medium=api&utm_campaign=ndemalem', 'id': '/376/photography_ProvidedCHO_Royal_Institute_for_Cultural_Heritage__KIK_IRPA___Brussels__Belgium__KIK_IRPA_n__11061314', 'index': 0, 'language': ['fr'], 'link': 'https://api.europeana.eu/record/376/photography_ProvidedCHO_Royal_Institute_for_Cultural_Heritage__KIK_IRPA___Brussels__Belgium__KIK_IRPA_n__11061314.json?wskey=ndemalem', 'previewNoDistribute': False, 'provider': ['PHOTOCONSORTIUM'], 'rights': ['http://creativecommons.org/licenses/by-sa/4.0/'], 'score': 49.010498, 'timestamp': 1688699279955, 'timestamp_created': '2021-07-29T08:51:24.051Z', 'timestamp_created_epoch': 1627548684051, 'timestamp_update': '2021-07-29T08:51:24.051Z', 'timestamp_update_epoch': 1627548684051, 'title': ['Two Chinese ladies in a garden', 'Deux dames chinoises dans un jardin'], 'type': 'IMAGE', 'ugc': [False], 'year': ['1701']}\n",
      "\n",
      "Title: ['Ovoid covered jar with Chinese ladies in a landscape', 'Eivormige deksel met Chinese dames in een landschap']\n",
      "Description: [\"Eivormige deksel van porselein, beschilderd in onderglazuur blauw. Op de buik een landschap met twee 'go' spelende Chinese dames (lange lijzen). Daarnaast een twee staande dames, waarvan één met een qin. De voorstelling wordt afgesloten met een wolkmotief. Op de deksel twee dansende jongens (zotjes). Gemerkt op de onderzijde met een artemisiablad. Blauw-wit.\"]\n",
      "Link: https://www.europeana.eu/item/90402/AK_NM_6928_A?utm_source=api&utm_medium=api&utm_campaign=ndemalem\n",
      "Metadata: {'completeness': 10, 'country': ['Netherlands'], 'dataProvider': ['Rijksmuseum'], 'dcDescription': [\"Eivormige deksel van porselein, beschilderd in onderglazuur blauw. Op de buik een landschap met twee 'go' spelende Chinese dames (lange lijzen). Daarnaast een twee staande dames, waarvan één met een qin. De voorstelling wordt afgesloten met een wolkmotief. Op de deksel twee dansende jongens (zotjes). Gemerkt op de onderzijde met een artemisiablad. Blauw-wit.\"], 'dcDescriptionLangAware': {'nl': [\"Eivormige deksel van porselein, beschilderd in onderglazuur blauw. Op de buik een landschap met twee 'go' spelende Chinese dames (lange lijzen). Daarnaast een twee staande dames, waarvan één met een qin. De voorstelling wordt afgesloten met een wolkmotief. Op de deksel twee dansende jongens (zotjes). Gemerkt op de onderzijde met een artemisiablad. Blauw-wit.\"]}, 'dcLanguage': ['nl'], 'dcLanguageLangAware': {'def': ['nl']}, 'dcTitleLangAware': {'en': ['Ovoid covered jar with Chinese ladies in a landscape'], 'nl': ['Eivormige deksel met Chinese dames in een landschap']}, 'edmConcept': ['http://data.europeana.eu/concept/1757'], 'edmConceptLabel': [{'def': 'Porzellan'}, {'def': 'Posliini'}, {'def': 'Фарфор'}, {'def': 'Porcelana'}, {'def': 'Порцелан'}, {'def': 'Porcelianas'}, {'def': 'Porcelāns'}, {'def': 'Porculan'}, {'def': 'Porcelaine'}, {'def': 'Porcelán'}, {'def': 'Porcelán'}, {'def': 'Porcelan'}, {'def': 'Poirceallán'}, {'def': 'Porcellana'}, {'def': 'Porslin'}, {'def': 'Πορσελάνη'}, {'def': 'Porcelain'}, {'def': 'Porcellana'}, {'def': 'Porcelana'}, {'def': 'Portselan'}, {'def': 'Porcelán'}, {'def': 'Portzelana'}, {'def': 'Porcelana'}, {'def': 'Porțelan'}, {'def': 'Porcelæn'}, {'def': 'Porselein'}], 'edmConceptPrefLabelLangAware': {'de': ['Porzellan'], 'fi': ['Posliini'], 'ru': ['Фарфор'], 'pt': ['Porcelana'], 'bg': ['Порцелан'], 'lt': ['Porcelianas'], 'lv': ['Porcelāns'], 'hr': ['Porculan'], 'fr': ['Porcelaine'], 'hu': ['Porcelán'], 'sk': ['Porcelán'], 'sl': ['Porcelan'], 'ga': ['Poirceallán'], 'ca': ['Porcellana'], 'sv': ['Porslin'], 'el': ['Πορσελάνη'], 'en': ['Porcelain'], 'it': ['Porcellana'], 'es': ['Porcelana'], 'et': ['Portselan'], 'cs': ['Porcelán'], 'eu': ['Portzelana'], 'pl': ['Porcelana'], 'ro': ['Porțelan'], 'da': ['Porcelæn'], 'nl': ['Porselein']}, 'edmDatasetName': ['90402_M_NL_Rijksmuseum'], 'edmIsShownAt': ['http://hdl.handle.net/10934/RM0001.COLLECT.2535'], 'edmIsShownBy': ['https://lh3.googleusercontent.com/FTM_uYyfOCon9w-auowuF_w-gJB_AwSQzo4ZhDGVL7oH5le3oyzrJOOAD2uFOdQc5PROrFmjf4MzrRZvVbPrROtcTu0=s0'], 'edmPreview': ['https://api.europeana.eu/thumbnail/v2/url.json?uri=https%3A%2F%2Flh3.googleusercontent.com%2FFTM_uYyfOCon9w-auowuF_w-gJB_AwSQzo4ZhDGVL7oH5le3oyzrJOOAD2uFOdQc5PROrFmjf4MzrRZvVbPrROtcTu0%3Ds0&type=IMAGE'], 'europeanaCollectionName': ['90402_M_NL_Rijksmuseum'], 'europeanaCompleteness': 10, 'guid': 'https://www.europeana.eu/item/90402/AK_NM_6928_A?utm_source=api&utm_medium=api&utm_campaign=ndemalem', 'id': '/90402/AK_NM_6928_A', 'index': 0, 'language': ['nl'], 'link': 'https://api.europeana.eu/record/90402/AK_NM_6928_A.json?wskey=ndemalem', 'previewNoDistribute': False, 'provider': ['Rijksmuseum'], 'rights': ['http://creativecommons.org/publicdomain/mark/1.0/'], 'score': 61.94771, 'timestamp': 1688569558507, 'timestamp_created': '2014-05-27T13:05:19.872Z', 'timestamp_created_epoch': 1401195919872, 'timestamp_update': '2018-03-17T13:01:06.666Z', 'timestamp_update_epoch': 1521291666666, 'title': ['Ovoid covered jar with Chinese ladies in a landscape', 'Eivormige deksel met Chinese dames in een landschap'], 'type': 'IMAGE', 'ugc': [False]}\n",
      "\n",
      "Title: ['Saucer dish with Chinese ladies in a fenced garden and flowering plants', 'Schaal met Chinese dames in een omheinde tuin en bloeiende planten']\n",
      "Description: [\"Schaal van porselein met gelobde rand, beschilderd in onderglazuur blauw. De wand is gemodelleerd in tien vakken. Op het plat een tienhoekig medaillon met een Chinese dame (lange lijs) zittend aan een tafel met een lotusbloem in haar hand; achter haar een lotus in een pot op een kruk. De wand is verdeeld in tien uitstralende vakken met daarin afwisselend een dame met een waaier of een takje in een omheinde tuin of bloeiende planten. De buitenwand met een doorlopende bloemtak. Gemerkt op de onderzijde met 'yù', jade, in een dubbele cirkel. Blauw-wit.\"]\n",
      "Link: https://www.europeana.eu/item/90402/AK_NM_6904_A?utm_source=api&utm_medium=api&utm_campaign=ndemalem\n",
      "Metadata: {'completeness': 10, 'country': ['Netherlands'], 'dataProvider': ['Rijksmuseum'], 'dcDescription': [\"Schaal van porselein met gelobde rand, beschilderd in onderglazuur blauw. De wand is gemodelleerd in tien vakken. Op het plat een tienhoekig medaillon met een Chinese dame (lange lijs) zittend aan een tafel met een lotusbloem in haar hand; achter haar een lotus in een pot op een kruk. De wand is verdeeld in tien uitstralende vakken met daarin afwisselend een dame met een waaier of een takje in een omheinde tuin of bloeiende planten. De buitenwand met een doorlopende bloemtak. Gemerkt op de onderzijde met 'yù', jade, in een dubbele cirkel. Blauw-wit.\"], 'dcDescriptionLangAware': {'nl': [\"Schaal van porselein met gelobde rand, beschilderd in onderglazuur blauw. De wand is gemodelleerd in tien vakken. Op het plat een tienhoekig medaillon met een Chinese dame (lange lijs) zittend aan een tafel met een lotusbloem in haar hand; achter haar een lotus in een pot op een kruk. De wand is verdeeld in tien uitstralende vakken met daarin afwisselend een dame met een waaier of een takje in een omheinde tuin of bloeiende planten. De buitenwand met een doorlopende bloemtak. Gemerkt op de onderzijde met 'yù', jade, in een dubbele cirkel. Blauw-wit.\"]}, 'dcLanguage': ['nl'], 'dcLanguageLangAware': {'def': ['nl']}, 'dcTitleLangAware': {'en': ['Saucer dish with Chinese ladies in a fenced garden and flowering plants'], 'nl': ['Schaal met Chinese dames in een omheinde tuin en bloeiende planten']}, 'edmConcept': ['http://data.europeana.eu/concept/1757', 'http://data.europeana.eu/concept/1918'], 'edmConceptLabel': [{'def': 'Porzellan'}, {'def': 'Teller'}, {'def': 'Posliini'}, {'def': 'Lautanen'}, {'def': 'Фарфор'}, {'def': 'Тарелка'}, {'def': 'Porcelana'}, {'def': 'Prato'}, {'def': 'Порцелан'}, {'def': 'Чиния'}, {'def': 'Porcelianas'}, {'def': 'Lėkštė'}, {'def': 'Porcelāns'}, {'def': 'Šķīvis'}, {'def': 'Porculan'}, {'def': 'Tanjur'}, {'def': 'Porcelaine'}, {'def': 'Assiette'}, {'def': 'Porcelán'}, {'def': 'Porcelán'}, {'def': 'Tanier'}, {'def': 'Porcelan'}, {'def': 'Krožnik'}, {'def': 'Poirceallán'}, {'def': 'Pláta'}, {'def': 'Porcellana'}, {'def': 'Plat'}, {'def': 'Porslin'}, {'def': 'Tallrik'}, {'def': 'Πορσελάνη'}, {'def': 'Πιάτο'}, {'def': 'Porcelain'}, {'def': 'Plate'}, {'def': 'Porcellana'}, {'def': 'Piatto'}, {'def': 'Porcelana'}, {'def': 'Plato'}, {'def': 'Portselan'}, {'def': 'Taldrik'}, {'def': 'Porcelán'}, {'def': 'Talíř'}, {'def': 'Portzelana'}, {'def': 'Plater'}, {'def': 'Porcelana'}, {'def': 'Talerz'}, {'def': 'Porțelan'}, {'def': 'Farfurie'}, {'def': 'Porcelæn'}, {'def': 'Tallerken'}, {'def': 'Porselein'}, {'def': 'Bord'}], 'edmConceptPrefLabelLangAware': {'de': ['Porzellan', 'Teller'], 'fi': ['Posliini', 'Lautanen'], 'ru': ['Фарфор', 'Тарелка'], 'pt': ['Porcelana', 'Prato'], 'bg': ['Порцелан', 'Чиния'], 'lt': ['Porcelianas', 'Lėkštė'], 'lv': ['Porcelāns', 'Šķīvis'], 'hr': ['Porculan', 'Tanjur'], 'fr': ['Porcelaine', 'Assiette'], 'hu': ['Porcelán'], 'sk': ['Tanier', 'Porcelán'], 'sl': ['Porcelan', 'Krožnik'], 'ga': ['Poirceallán', 'Pláta'], 'ca': ['Porcellana', 'Plat'], 'sv': ['Tallrik', 'Porslin'], 'el': ['Πορσελάνη', 'Πιάτο'], 'en': ['Porcelain', 'Plate'], 'it': ['Porcellana', 'Piatto'], 'es': ['Porcelana', 'Plato'], 'et': ['Portselan', 'Taldrik'], 'cs': ['Talíř', 'Porcelán'], 'eu': ['Portzelana', 'Plater'], 'pl': ['Porcelana', 'Talerz'], 'ro': ['Farfurie', 'Porțelan'], 'da': ['Porcelæn', 'Tallerken'], 'nl': ['Bord', 'Porselein']}, 'edmDatasetName': ['90402_M_NL_Rijksmuseum'], 'edmIsShownAt': ['http://hdl.handle.net/10934/RM0001.COLLECT.2720'], 'edmIsShownBy': ['https://lh3.googleusercontent.com/H7xmhhV4ivcxilI_i28v2lkL2tolRvnw8MU2e1RWkFLx-Ikvky0RpupZz_3f4KYA4mjARLs_zwjmmYQJGESiqe97Vmc=s0'], 'edmPreview': ['https://api.europeana.eu/thumbnail/v2/url.json?uri=https%3A%2F%2Fwww.rijksmuseum.nl%2Fassetimage2.jsp%3Fid%3DAK-NM-6904-A&type=IMAGE'], 'europeanaCollectionName': ['90402_M_NL_Rijksmuseum'], 'europeanaCompleteness': 10, 'guid': 'https://www.europeana.eu/item/90402/AK_NM_6904_A?utm_source=api&utm_medium=api&utm_campaign=ndemalem', 'id': '/90402/AK_NM_6904_A', 'index': 0, 'language': ['nl'], 'link': 'https://api.europeana.eu/record/90402/AK_NM_6904_A.json?wskey=ndemalem', 'previewNoDistribute': False, 'provider': ['Rijksmuseum'], 'rights': ['http://creativecommons.org/publicdomain/mark/1.0/'], 'score': 55.18548, 'timestamp': 1688569558894, 'timestamp_created': '2014-05-27T13:05:19.556Z', 'timestamp_created_epoch': 1401195919556, 'timestamp_update': '2018-03-17T13:01:06.437Z', 'timestamp_update_epoch': 1521291666437, 'title': ['Saucer dish with Chinese ladies in a fenced garden and flowering plants', 'Schaal met Chinese dames in een omheinde tuin en bloeiende planten'], 'type': 'IMAGE', 'ugc': [False]}\n",
      "\n",
      "Title: ['Small cilindrical vase with two Chinese ladies and auspicious symbols', 'Kleine cilindrische vaas met twee Chinese dames en geluksvoorwerpen']\n",
      "Description: ['Kleine, cilindrische vaas van porselein met een korte nek en platte rand, beschilderd in onderglazuur blauw. Op de wand twee Chinese dames (lange lijzen) bij een bloeiende aster in een pot. Op de andere zijde antiquiteiten en kostbaarheden (vaas met pauwenveren, wierookbrander, parel en spiegel). Op de schouder drie kostbaarheden (parel, ruit, muzieksteen). Op de nek een band met spiraalwerk en stippen. Gemerkt op de onderzijde met het vier-karaktermerk van keizer Chenghua in een dubbele cirkel. Blauw-wit.']\n",
      "Link: https://www.europeana.eu/item/90402/AK_NM_6726?utm_source=api&utm_medium=api&utm_campaign=ndemalem\n",
      "Metadata: {'completeness': 10, 'country': ['Netherlands'], 'dataProvider': ['Rijksmuseum'], 'dcDescription': ['Kleine, cilindrische vaas van porselein met een korte nek en platte rand, beschilderd in onderglazuur blauw. Op de wand twee Chinese dames (lange lijzen) bij een bloeiende aster in een pot. Op de andere zijde antiquiteiten en kostbaarheden (vaas met pauwenveren, wierookbrander, parel en spiegel). Op de schouder drie kostbaarheden (parel, ruit, muzieksteen). Op de nek een band met spiraalwerk en stippen. Gemerkt op de onderzijde met het vier-karaktermerk van keizer Chenghua in een dubbele cirkel. Blauw-wit.'], 'dcDescriptionLangAware': {'nl': ['Kleine, cilindrische vaas van porselein met een korte nek en platte rand, beschilderd in onderglazuur blauw. Op de wand twee Chinese dames (lange lijzen) bij een bloeiende aster in een pot. Op de andere zijde antiquiteiten en kostbaarheden (vaas met pauwenveren, wierookbrander, parel en spiegel). Op de schouder drie kostbaarheden (parel, ruit, muzieksteen). Op de nek een band met spiraalwerk en stippen. Gemerkt op de onderzijde met het vier-karaktermerk van keizer Chenghua in een dubbele cirkel. Blauw-wit.']}, 'dcLanguage': ['nl'], 'dcLanguageLangAware': {'def': ['nl']}, 'dcTitleLangAware': {'en': ['Small cilindrical vase with two Chinese ladies and auspicious symbols'], 'nl': ['Kleine cilindrische vaas met twee Chinese dames en geluksvoorwerpen']}, 'edmConcept': ['http://data.europeana.eu/concept/1757'], 'edmConceptLabel': [{'def': 'Porzellan'}, {'def': 'Posliini'}, {'def': 'Фарфор'}, {'def': 'Porcelana'}, {'def': 'Порцелан'}, {'def': 'Porcelianas'}, {'def': 'Porcelāns'}, {'def': 'Porculan'}, {'def': 'Porcelaine'}, {'def': 'Porcelán'}, {'def': 'Porcelán'}, {'def': 'Porcelan'}, {'def': 'Poirceallán'}, {'def': 'Porcellana'}, {'def': 'Porslin'}, {'def': 'Πορσελάνη'}, {'def': 'Porcelain'}, {'def': 'Porcellana'}, {'def': 'Porcelana'}, {'def': 'Portselan'}, {'def': 'Porcelán'}, {'def': 'Portzelana'}, {'def': 'Porcelana'}, {'def': 'Porțelan'}, {'def': 'Porcelæn'}, {'def': 'Porselein'}], 'edmConceptPrefLabelLangAware': {'de': ['Porzellan'], 'fi': ['Posliini'], 'ru': ['Фарфор'], 'pt': ['Porcelana'], 'bg': ['Порцелан'], 'lt': ['Porcelianas'], 'lv': ['Porcelāns'], 'hr': ['Porculan'], 'fr': ['Porcelaine'], 'hu': ['Porcelán'], 'sk': ['Porcelán'], 'sl': ['Porcelan'], 'ga': ['Poirceallán'], 'ca': ['Porcellana'], 'sv': ['Porslin'], 'el': ['Πορσελάνη'], 'en': ['Porcelain'], 'it': ['Porcellana'], 'es': ['Porcelana'], 'et': ['Portselan'], 'cs': ['Porcelán'], 'eu': ['Portzelana'], 'pl': ['Porcelana'], 'ro': ['Porțelan'], 'da': ['Porcelæn'], 'nl': ['Porselein']}, 'edmDatasetName': ['90402_M_NL_Rijksmuseum'], 'edmIsShownAt': ['http://hdl.handle.net/10934/RM0001.COLLECT.353993'], 'edmIsShownBy': ['https://lh3.googleusercontent.com/AEFvVJPioESJmUf-FDYxjKvqC6z7kNw1tak-d0z55zlN_cn6-wKUjZtC40nAsBtOdIVFpfOHg-qB0NLbICoy8FR99w=s0'], 'edmPreview': ['https://api.europeana.eu/thumbnail/v2/url.json?uri=https%3A%2F%2Flh3.googleusercontent.com%2FAEFvVJPioESJmUf-FDYxjKvqC6z7kNw1tak-d0z55zlN_cn6-wKUjZtC40nAsBtOdIVFpfOHg-qB0NLbICoy8FR99w%3Ds0&type=IMAGE'], 'europeanaCollectionName': ['90402_M_NL_Rijksmuseum'], 'europeanaCompleteness': 10, 'guid': 'https://www.europeana.eu/item/90402/AK_NM_6726?utm_source=api&utm_medium=api&utm_campaign=ndemalem', 'id': '/90402/AK_NM_6726', 'index': 0, 'language': ['nl'], 'link': 'https://api.europeana.eu/record/90402/AK_NM_6726.json?wskey=ndemalem', 'previewNoDistribute': False, 'provider': ['Rijksmuseum'], 'rights': ['http://creativecommons.org/publicdomain/mark/1.0/'], 'score': 59.360535, 'timestamp': 1688569557569, 'timestamp_created': '2014-05-27T13:05:08.482Z', 'timestamp_created_epoch': 1401195908482, 'timestamp_update': '2018-03-17T13:01:05.765Z', 'timestamp_update_epoch': 1521291665765, 'title': ['Small cilindrical vase with two Chinese ladies and auspicious symbols', 'Kleine cilindrische vaas met twee Chinese dames en geluksvoorwerpen'], 'type': 'IMAGE', 'ugc': [False]}\n",
      "\n",
      "Title: ['Cilindrical vase with Chinese ladies and flower pots', 'Cilindrische vaas met Chinese dames en bloempotten']\n",
      "Description: [\"Kleine, cilindrische vaas van porselein met een rechte schouder en korte, spreidende nek met een vlakke rand, beschilderd in onderglazuur blauw. Op de wand Chinese dames (lange lijzen) bij bloempotten op een kruk. Op de schouder kostbaarheden (parel, boeken). Op de nek een band met stippen. Gemerkt op de onderzijde met 'Fú'. Blauw-wit.\"]\n",
      "Link: https://www.europeana.eu/item/90402/AK_NM_6723_B?utm_source=api&utm_medium=api&utm_campaign=ndemalem\n",
      "Metadata: {'completeness': 10, 'country': ['Netherlands'], 'dataProvider': ['Rijksmuseum'], 'dcDescription': [\"Kleine, cilindrische vaas van porselein met een rechte schouder en korte, spreidende nek met een vlakke rand, beschilderd in onderglazuur blauw. Op de wand Chinese dames (lange lijzen) bij bloempotten op een kruk. Op de schouder kostbaarheden (parel, boeken). Op de nek een band met stippen. Gemerkt op de onderzijde met 'Fú'. Blauw-wit.\"], 'dcDescriptionLangAware': {'nl': [\"Kleine, cilindrische vaas van porselein met een rechte schouder en korte, spreidende nek met een vlakke rand, beschilderd in onderglazuur blauw. Op de wand Chinese dames (lange lijzen) bij bloempotten op een kruk. Op de schouder kostbaarheden (parel, boeken). Op de nek een band met stippen. Gemerkt op de onderzijde met 'Fú'. Blauw-wit.\"]}, 'dcLanguage': ['nl'], 'dcLanguageLangAware': {'def': ['nl']}, 'dcTitleLangAware': {'en': ['Cilindrical vase with Chinese ladies and flower pots'], 'nl': ['Cilindrische vaas met Chinese dames en bloempotten']}, 'edmConcept': ['http://data.europeana.eu/concept/1757'], 'edmConceptLabel': [{'def': 'Porzellan'}, {'def': 'Posliini'}, {'def': 'Фарфор'}, {'def': 'Porcelana'}, {'def': 'Порцелан'}, {'def': 'Porcelianas'}, {'def': 'Porcelāns'}, {'def': 'Porculan'}, {'def': 'Porcelaine'}, {'def': 'Porcelán'}, {'def': 'Porcelán'}, {'def': 'Porcelan'}, {'def': 'Poirceallán'}, {'def': 'Porcellana'}, {'def': 'Porslin'}, {'def': 'Πορσελάνη'}, {'def': 'Porcelain'}, {'def': 'Porcellana'}, {'def': 'Porcelana'}, {'def': 'Portselan'}, {'def': 'Porcelán'}, {'def': 'Portzelana'}, {'def': 'Porcelana'}, {'def': 'Porțelan'}, {'def': 'Porcelæn'}, {'def': 'Porselein'}], 'edmConceptPrefLabelLangAware': {'de': ['Porzellan'], 'fi': ['Posliini'], 'ru': ['Фарфор'], 'pt': ['Porcelana'], 'bg': ['Порцелан'], 'lt': ['Porcelianas'], 'lv': ['Porcelāns'], 'hr': ['Porculan'], 'fr': ['Porcelaine'], 'hu': ['Porcelán'], 'sk': ['Porcelán'], 'sl': ['Porcelan'], 'ga': ['Poirceallán'], 'ca': ['Porcellana'], 'sv': ['Porslin'], 'el': ['Πορσελάνη'], 'en': ['Porcelain'], 'it': ['Porcellana'], 'es': ['Porcelana'], 'et': ['Portselan'], 'cs': ['Porcelán'], 'eu': ['Portzelana'], 'pl': ['Porcelana'], 'ro': ['Porțelan'], 'da': ['Porcelæn'], 'nl': ['Porselein']}, 'edmDatasetName': ['90402_M_NL_Rijksmuseum'], 'edmIsShownAt': ['http://hdl.handle.net/10934/RM0001.COLLECT.19969'], 'edmIsShownBy': ['https://lh3.googleusercontent.com/Jbq3qOv5eLln0sEpeamcd8Ox2FuS6AkeMriKKmS3-BwqB345Yv7zOcmPzWwlGcUodZMcn3-8FzFeWnI-qJhZHsWWt-Q0=s0'], 'edmPreview': ['https://api.europeana.eu/thumbnail/v2/url.json?uri=https%3A%2F%2Flh3.googleusercontent.com%2FJbq3qOv5eLln0sEpeamcd8Ox2FuS6AkeMriKKmS3-BwqB345Yv7zOcmPzWwlGcUodZMcn3-8FzFeWnI-qJhZHsWWt-Q0%3Ds0&type=IMAGE'], 'europeanaCollectionName': ['90402_M_NL_Rijksmuseum'], 'europeanaCompleteness': 10, 'guid': 'https://www.europeana.eu/item/90402/AK_NM_6723_B?utm_source=api&utm_medium=api&utm_campaign=ndemalem', 'id': '/90402/AK_NM_6723_B', 'index': 0, 'language': ['nl'], 'link': 'https://api.europeana.eu/record/90402/AK_NM_6723_B.json?wskey=ndemalem', 'previewNoDistribute': False, 'provider': ['Rijksmuseum'], 'rights': ['http://creativecommons.org/publicdomain/mark/1.0/'], 'score': 64.33444, 'timestamp': 1688569557253, 'timestamp_created': '2014-05-27T13:05:08.469Z', 'timestamp_created_epoch': 1401195908469, 'timestamp_update': '2018-03-17T13:01:05.752Z', 'timestamp_update_epoch': 1521291665752, 'title': ['Cilindrical vase with Chinese ladies and flower pots', 'Cilindrische vaas met Chinese dames en bloempotten'], 'type': 'IMAGE', 'ugc': [False]}\n",
      "\n"
     ]
    }
   ],
   "source": [
    "import json\n",
    "\n",
    "# Load the dataset\n",
    "with open('chinese_porcelain_metadata.json', 'r', encoding='utf-8') as f:\n",
    "    items = json.load(f)\n",
    "\n",
    "# Initialize a list to store filtered results related to \"Chinese ladies\"\n",
    "chinese_ladies_items = []\n",
    "\n",
    "# Define the search term\n",
    "search_term = \"Chinese ladies\"\n",
    "\n",
    "# Filter the dataset\n",
    "for item in items:\n",
    "    # Ensure item is a dictionary before accessing fields\n",
    "    if isinstance(item, dict):\n",
    "        # Extract title and description, handling cases where they might be lists\n",
    "        title_list = item.get('title', [])\n",
    "        description_list = item.get('dcDescription', [])\n",
    "        \n",
    "        # Convert lists to strings if needed\n",
    "        title = ' '.join(title_list).lower() if isinstance(title_list, list) else title_list.lower()\n",
    "        description = ' '.join(description_list).lower() if isinstance(description_list, list) else description_list.lower()\n",
    "        \n",
    "        # Check if search term is in title or description\n",
    "        if search_term.lower() in title or search_term.lower() in description:\n",
    "            chinese_ladies_items.append(item)\n",
    "\n",
    "# Print the number of items found and output some examples\n",
    "print(f\"Total items related to '{search_term}': {len(chinese_ladies_items)}\")\n",
    "\n",
    "# Print a few example items\n",
    "for item in chinese_ladies_items[:5]:  # Adjust the number to print more or fewer items\n",
    "    print(f\"Title: {item.get('title')}\")\n",
    "    print(f\"Description: {item.get('dcDescription')}\")\n",
    "    print(f\"Link: {item.get('guid')}\")\n",
    "    print(f\"Metadata: {item}\\n\")\n",
    "\n",
    "# Save the filtered data to a new JSON file\n",
    "with open('chinese_ladies_metadata.json', 'w', encoding='utf-8') as f:\n",
    "    json.dump(chinese_ladies_items, f, ensure_ascii=False, indent=4)"
   ]
  },
  {
   "cell_type": "code",
   "execution_count": 9,
   "id": "2418d3d2",
   "metadata": {},
   "outputs": [
    {
     "name": "stdout",
     "output_type": "stream",
     "text": [
      "Total items related to 'Chinese ladies': 95\n",
      "Title: ['Two Chinese ladies in a garden', 'Deux dames chinoises dans un jardin']\n",
      "Description: ['flower', 'Butterfly (http://vocab.getty.edu/aat/300417320)', 'mountainous landscape', 'garden', 'China (http://vocab.getty.edu/aat/1814991)', 'base [furniture] (http://vocab.getty.edu/aat/300001656)', 'deciduous tree', 'decorative pot (http://vocab.getty.edu/aat/300260048)', 'construction', 'Deep platter, polychrome decoration, Two Chinese ladies in a garden, green family.', \"Inst./Coll.: Musées Royaux d'Art et d'Histoire (Bruxelles)  / Inv.: 4716\", 'fleur', 'papillon  (http://vocab.getty.edu/aat/300417320)', 'motif grillagé[ornement]', 'paysage montagneux', 'jardin', 'Chine  (http://vocab.getty.edu/aat/1814991)', 'socle[mobilier]  (http://vocab.getty.edu/aat/300001656)', 'barrière  (http://vocab.getty.edu/aat/)', 'arbre à feuilles caduques', 'pot décoratif  (http://vocab.getty.edu/aat/300260048)', 'costume traditionnel  (http://vocab.getty.edu/aat/300380192)', 'pivoine  (http://vocab.getty.edu/aat/300380052)', 'cerisier[arbre]', 'construction', 'Plat profond, décor polychrome, Deux dames chinoises dans un jardin, famille verte.']\n",
      "Link: https://www.europeana.eu/item/376/photography_ProvidedCHO_Royal_Institute_for_Cultural_Heritage__KIK_IRPA___Brussels__Belgium__KIK_IRPA_n__11061314?utm_source=api&utm_medium=api&utm_campaign=ndemalem\n",
      "Metadata: {'completeness': 10, 'country': ['Belgium'], 'dataProvider': ['Royal Institute for Cultural Heritage'], 'dcCreator': ['Unknown (ceramist)', 'inconnu (céramiste)', 'inconnu'], 'dcCreatorLangAware': {'en': ['Unknown (ceramist)'], 'fr': ['inconnu (céramiste)', 'inconnu']}, 'dcDescription': ['flower', 'Butterfly (http://vocab.getty.edu/aat/300417320)', 'mountainous landscape', 'garden', 'China (http://vocab.getty.edu/aat/1814991)', 'base [furniture] (http://vocab.getty.edu/aat/300001656)', 'deciduous tree', 'decorative pot (http://vocab.getty.edu/aat/300260048)', 'construction', 'Deep platter, polychrome decoration, Two Chinese ladies in a garden, green family.', \"Inst./Coll.: Musées Royaux d'Art et d'Histoire (Bruxelles)  / Inv.: 4716\", 'fleur', 'papillon  (http://vocab.getty.edu/aat/300417320)', 'motif grillagé[ornement]', 'paysage montagneux', 'jardin', 'Chine  (http://vocab.getty.edu/aat/1814991)', 'socle[mobilier]  (http://vocab.getty.edu/aat/300001656)', 'barrière  (http://vocab.getty.edu/aat/)', 'arbre à feuilles caduques', 'pot décoratif  (http://vocab.getty.edu/aat/300260048)', 'costume traditionnel  (http://vocab.getty.edu/aat/300380192)', 'pivoine  (http://vocab.getty.edu/aat/300380052)', 'cerisier[arbre]', 'construction', 'Plat profond, décor polychrome, Deux dames chinoises dans un jardin, famille verte.'], 'dcDescriptionLangAware': {'en': ['flower', 'Butterfly (http://vocab.getty.edu/aat/300417320)', 'mountainous landscape', 'garden', 'China (http://vocab.getty.edu/aat/1814991)', 'base [furniture] (http://vocab.getty.edu/aat/300001656)', 'deciduous tree', 'decorative pot (http://vocab.getty.edu/aat/300260048)', 'construction', 'Deep platter, polychrome decoration, Two Chinese ladies in a garden, green family.'], 'fr': [\"Inst./Coll.: Musées Royaux d'Art et d'Histoire (Bruxelles)  / Inv.: 4716\", 'fleur', 'papillon  (http://vocab.getty.edu/aat/300417320)', 'motif grillagé[ornement]', 'paysage montagneux', 'jardin', 'Chine  (http://vocab.getty.edu/aat/1814991)', 'socle[mobilier]  (http://vocab.getty.edu/aat/300001656)', 'barrière  (http://vocab.getty.edu/aat/)', 'arbre à feuilles caduques', 'pot décoratif  (http://vocab.getty.edu/aat/300260048)', 'costume traditionnel  (http://vocab.getty.edu/aat/300380192)', 'pivoine  (http://vocab.getty.edu/aat/300380052)', 'cerisier[arbre]', 'construction', 'Plat profond, décor polychrome, Deux dames chinoises dans un jardin, famille verte.']}, 'dcTitleLangAware': {'en': ['Two Chinese ladies in a garden'], 'fr': ['Deux dames chinoises dans un jardin']}, 'edmConcept': ['http://data.europeana.eu/concept/1683', 'http://vocab.getty.edu/aat/300043053', 'http://vocab.getty.edu/aat/300010662', 'http://data.europeana.eu/concept/1864', 'http://data.europeana.eu/concept/1757', 'http://data.europeana.eu/concept/2352'], 'edmConceptLabel': [{'def': 'Genre der Fotografie'}, {'def': 'Garten'}, {'def': 'Porzellan'}, {'def': 'Blume'}, {'def': 'Valokuvaustyyli'}, {'def': 'Puutarha'}, {'def': 'Posliini'}, {'def': 'Fotografigenre'}, {'def': 'Trädgård'}, {'def': 'Porslin'}, {'def': 'Blomma'}, {'def': 'Жанр фотографии'}, {'def': 'Сад'}, {'def': 'Фарфор'}, {'def': 'Género fotográfico'}, {'def': 'porcelana (material)'}, {'def': 'Jardim'}, {'def': 'Porcelana'}, {'def': 'Είδος φωτογραφίας'}, {'def': 'Κήπος'}, {'def': 'Πορσελάνη'}, {'def': 'Άνθος'}, {'def': 'Photography genre'}, {'def': 'platters (carrying dishes)'}, {'def': 'porcelain (material)'}, {'def': 'Garden'}, {'def': 'Porcelain'}, {'def': 'Flower'}, {'def': 'Generi fotografici'}, {'def': 'Giardino'}, {'def': 'Porcellana'}, {'def': 'Fiore'}, {'def': 'Genre photographique'}, {'def': 'plat'}, {'def': 'porcelaine (matériau)'}, {'def': 'Jardin'}, {'def': 'Porcelaine'}, {'def': 'Fleur'}, {'def': 'Fotográfia jellege'}, {'def': 'Kert'}, {'def': 'Porcelán'}, {'def': 'Género fotográfico'}, {'def': 'azafates (fuentes para servir)'}, {'def': 'porcelana'}, {'def': 'Jardín'}, {'def': 'Porcelana'}, {'def': 'Fotografický žánr'}, {'def': 'Zahrada'}, {'def': 'Porcelán'}, {'def': 'Genero fotografiko'}, {'def': 'Lorategi'}, {'def': 'Portzelana'}, {'def': 'Seánra grianghrafadóireachta'}, {'def': 'Gairdín'}, {'def': 'Poirceallán'}, {'def': 'Gatunek fotograficzny'}, {'def': 'Ogród'}, {'def': 'Porcelana'}, {'def': 'Fotografisk genre'}, {'def': 'Have'}, {'def': 'Porcelæn'}, {'def': 'Gen fotografic'}, {'def': 'Grădina'}, {'def': 'Porțelan'}, {'def': 'Gènere fotogràfic'}, {'def': 'Jardí'}, {'def': 'Porcellana'}, {'def': 'Fotografiegenre'}, {'def': 'schotels'}, {'def': 'porselein (materiaal)'}, {'def': 'Tuin'}, {'def': 'Porselein'}, {'def': 'Bloem'}, {'def': 'Градина'}, {'def': 'Порцелан'}, {'def': 'Sodas'}, {'def': 'Porcelianas'}, {'def': 'Vrt'}, {'def': 'Porculan'}, {'def': 'Dārzs'}, {'def': 'Porcelāns'}, {'def': 'Záhrada'}, {'def': 'Porcelán'}, {'def': 'Vrt'}, {'def': 'Porcelan'}, {'def': 'Aed'}, {'def': 'Portselan'}], 'edmConceptPrefLabelLangAware': {'de': ['Garten', 'Porzellan', 'Blume', 'Genre der Fotografie'], 'fi': ['Puutarha', 'Posliini', 'Valokuvaustyyli'], 'ru': ['Фарфор', 'Сад', 'Жанр фотографии'], 'pt': ['Porcelana', 'Género fotográfico', 'porcelana (material)', 'Jardim'], 'bg': ['Порцелан', 'Градина'], 'lt': ['Porcelianas', 'Sodas'], 'hr': ['Porculan', 'Vrt'], 'lv': ['Porcelāns', 'Dārzs'], 'fr': ['Genre photographique', 'porcelaine (matériau)', 'Porcelaine', 'Fleur', 'plat', 'Jardin'], 'hu': ['Fotográfia jellege', 'Porcelán', 'Kert'], 'sk': ['Porcelán', 'Záhrada'], 'sl': ['Porcelan', 'Vrt'], 'ga': ['Seánra grianghrafadóireachta', 'Poirceallán', 'Gairdín'], 'ca': ['Gènere fotogràfic', 'Porcellana', 'Jardí'], 'sv': ['Trädgård', 'Fotografigenre', 'Porslin', 'Blomma'], 'el': ['Κήπος', 'Πορσελάνη', 'Είδος φωτογραφίας', 'Άνθος'], 'en': ['Photography genre', 'Garden', 'Porcelain', 'Flower', 'porcelain (material)', 'platters (carrying dishes)'], 'it': ['Porcellana', 'Giardino', 'Fiore', 'Generi fotografici'], 'es': ['Porcelana', 'porcelana', 'Género fotográfico', 'Jardín', 'azafates (fuentes para servir)'], 'et': ['Aed', 'Portselan'], 'cs': ['Fotografický žánr', 'Zahrada', 'Porcelán'], 'eu': ['Genero fotografiko', 'Lorategi', 'Portzelana'], 'pl': ['Porcelana', 'Ogród', 'Gatunek fotograficzny'], 'da': ['Fotografisk genre', 'Porcelæn', 'Have'], 'ro': ['Grădina', 'Porțelan', 'Gen fotografic'], 'nl': ['Tuin', 'Fotografiegenre', 'schotels', 'porselein (materiaal)', 'Porselein', 'Bloem']}, 'edmDatasetName': ['376_Photoconsortium_KIK_IRPA'], 'edmIsShownAt': ['http://balat.kikirpa.be/object/11061314'], 'edmIsShownBy': ['http://balat.kikirpa.be/image/B208112'], 'edmPlaceAltLabel': [{'def': 'VR China'}, {'def': 'China'}, {'def': 'Rotchina'}, {'def': 'V.R. China'}, {'def': 'Chinesische Volksrepublik'}, {'def': 'Folkrepubliken Kina'}, {'def': 'Mittens rike'}, {'def': 'КНР'}, {'def': 'Поднебесная'}, {'def': 'Материковый Китай'}, {'def': 'Континентальный Китай'}, {'def': 'Китайская Народная Республика'}, {'def': 'Kiinan kansantasavalta'}, {'def': 'República Popular da China'}, {'def': 'КНР'}, {'def': 'Китайска народна република'}, {'def': 'Ċina'}, {'def': 'Repubblika Popolari taċ-Ċina'}, {'def': 'Κίνα'}, {'def': 'China'}, {'def': 'CN'}, {'def': 'PR China'}, {'def': 'PRC'}, {'def': 'Cn'}, {'def': 'CHN'}, {'def': 'China PR'}, {'def': 'Mainland China'}, {'def': 'RPC'}, {'def': 'Kina'}, {'def': 'Ķīnas Tautas Republika'}, {'def': 'RPC'}, {'def': 'Cina popolare'}, {'def': 'Repubblica Popolare Cinese'}, {'def': 'Chine communiste'}, {'def': 'Chine populaire'}, {'def': 'RPC'}, {'def': 'Chine continentale'}, {'def': 'Chine'}, {'def': 'CN'}, {'def': 'La République populaire de Chine'}, {'def': 'Kínai Népköztársaság'}, {'def': 'República popular de China'}, {'def': 'China Popular'}, {'def': 'República Popular China'}, {'def': 'Hiina Rahvavabariik'}, {'def': 'Hiina RV'}, {'def': 'Txina'}, {'def': 'CN'}, {'def': 'Txina Popularra'}, {'def': 'CHN'}, {'def': 'Čínská lidová republika'}, {'def': 'ČLR'}, {'def': 'Zipang'}, {'def': 'Cipang'}, {'def': 'Říše středu'}, {'def': 'Čínska ľudová republika'}, {'def': 'Chiny'}, {'def': 'China'}, {'def': 'CN'}, {'def': 'CHN'}, {'def': 'La Xina'}, {'def': 'Xina popular'}, {'def': 'Xina'}], 'edmPlaceAltLabelLangAware': {'de': ['VR China', 'China', 'Rotchina', 'V.R. China', 'Chinesische Volksrepublik'], 'sv': ['Folkrepubliken Kina', 'Mittens rike'], 'ru': ['КНР', 'Поднебесная', 'Материковый Китай', 'Континентальный Китай', 'Китайская Народная Республика'], 'fi': ['Kiinan kansantasavalta'], 'pt': ['República Popular da China'], 'bg': ['КНР', 'Китайска народна република'], 'mt': ['Ċina', 'Repubblika Popolari taċ-Ċina'], 'el': ['Κίνα'], 'en': ['China', 'CN', 'PR China', 'PRC', 'Cn', 'CHN', 'China PR', 'Mainland China', 'RPC'], 'hr': ['Kina'], 'lv': ['Ķīnas Tautas Republika'], 'it': ['RPC', 'Cina popolare', 'Repubblica Popolare Cinese'], 'fr': ['Chine communiste', 'Chine populaire', 'RPC', 'Chine continentale', 'Chine', 'CN', 'La République populaire de Chine'], 'hu': ['Kínai Népköztársaság'], 'es': ['República popular de China', 'China Popular', 'República Popular China'], 'et': ['Hiina Rahvavabariik', 'Hiina RV'], 'eu': ['Txina', 'CN', 'Txina Popularra', 'CHN'], 'cs': ['Čínská lidová republika', 'ČLR', 'Zipang', 'Cipang', 'Říše středu'], 'sk': ['Čínska ľudová republika'], 'pl': ['Chiny'], 'nl': ['China', 'CN', 'CHN'], 'ca': ['La Xina', 'Xina popular', 'Xina']}, 'edmPlaceLabel': [{'def': 'China'}, {'def': \"People's Republic of China\"}, {'def': 'Volksrepublik China'}, {'def': 'Kiina'}, {'def': 'Китай'}, {'def': 'China'}, {'def': 'Китай'}, {'def': 'Kinijos Liaudies Respublika'}, {'def': 'Ķīna'}, {'def': 'Narodna Republika Kina'}, {'def': 'République populaire de Chine'}, {'def': 'Kína'}, {'def': 'Čína'}, {'def': 'Ljudska republika Kitajska'}, {'def': 'Daon-Phoblacht na Síne'}, {'def': 'República Popular de la Xina'}, {'def': 'Kina'}, {'def': 'Repubblika tal-Poplu taċ-Ċina'}, {'def': 'Λαϊκή Δημοκρατία της Κίνας'}, {'def': 'Cina'}, {'def': 'China'}, {'def': 'Hiina'}, {'def': 'Txinako Herri Errepublika'}, {'def': 'Čína'}, {'def': 'Chińska Republika Ludowa'}, {'def': 'Republica Populară Chineză'}, {'def': 'Kina'}, {'def': 'Volksrepubliek China'}], 'edmPlaceLabelLangAware': {'de': ['Volksrepublik China'], 'fi': ['Kiina'], 'ru': ['Китай'], 'pt': ['China'], 'bg': ['Китай'], 'lt': ['Kinijos Liaudies Respublika'], 'lv': ['Ķīna'], 'hr': ['Narodna Republika Kina'], 'fr': ['République populaire de Chine'], 'hu': ['Kína'], 'sk': ['Čína'], 'sl': ['Ljudska republika Kitajska'], 'ga': ['Daon-Phoblacht na Síne'], 'ca': ['República Popular de la Xina'], 'sv': ['Kina'], 'mt': ['Repubblika tal-Poplu taċ-Ċina'], 'el': ['Λαϊκή Δημοκρατία της Κίνας'], 'en': ['China', \"People's Republic of China\"], 'it': ['Cina'], 'es': ['China'], 'et': ['Hiina'], 'eu': ['Txinako Herri Errepublika'], 'cs': ['Čína'], 'pl': ['Chińska Republika Ludowa'], 'ro': ['Republica Populară Chineză'], 'da': ['Kina'], 'nl': ['Volksrepubliek China']}, 'edmPlaceLatitude': ['35.0', '35.844723'], 'edmPlaceLongitude': ['105.0', '103.45194'], 'edmPreview': ['https://api.europeana.eu/thumbnail/v2/url.json?uri=http%3A%2F%2Fbalat.kikirpa.be%2Fimage%2FB208112%2Fsmall&type=IMAGE'], 'edmTimespanLabel': [{'def': '1701'}], 'edmTimespanLabelLangAware': {'zxx': ['1701']}, 'europeanaCollectionName': ['376_Photoconsortium_KIK_IRPA'], 'europeanaCompleteness': 10, 'guid': 'https://www.europeana.eu/item/376/photography_ProvidedCHO_Royal_Institute_for_Cultural_Heritage__KIK_IRPA___Brussels__Belgium__KIK_IRPA_n__11061314?utm_source=api&utm_medium=api&utm_campaign=ndemalem', 'id': '/376/photography_ProvidedCHO_Royal_Institute_for_Cultural_Heritage__KIK_IRPA___Brussels__Belgium__KIK_IRPA_n__11061314', 'index': 0, 'language': ['fr'], 'link': 'https://api.europeana.eu/record/376/photography_ProvidedCHO_Royal_Institute_for_Cultural_Heritage__KIK_IRPA___Brussels__Belgium__KIK_IRPA_n__11061314.json?wskey=ndemalem', 'previewNoDistribute': False, 'provider': ['PHOTOCONSORTIUM'], 'rights': ['http://creativecommons.org/licenses/by-sa/4.0/'], 'score': 49.010498, 'timestamp': 1688699279955, 'timestamp_created': '2021-07-29T08:51:24.051Z', 'timestamp_created_epoch': 1627548684051, 'timestamp_update': '2021-07-29T08:51:24.051Z', 'timestamp_update_epoch': 1627548684051, 'title': ['Two Chinese ladies in a garden', 'Deux dames chinoises dans un jardin'], 'type': 'IMAGE', 'ugc': [False], 'year': ['1701']}\n",
      "\n",
      "Title: ['Ovoid covered jar with Chinese ladies in a landscape', 'Eivormige deksel met Chinese dames in een landschap']\n",
      "Description: [\"Eivormige deksel van porselein, beschilderd in onderglazuur blauw. Op de buik een landschap met twee 'go' spelende Chinese dames (lange lijzen). Daarnaast een twee staande dames, waarvan één met een qin. De voorstelling wordt afgesloten met een wolkmotief. Op de deksel twee dansende jongens (zotjes). Gemerkt op de onderzijde met een artemisiablad. Blauw-wit.\"]\n",
      "Link: https://www.europeana.eu/item/90402/AK_NM_6928_A?utm_source=api&utm_medium=api&utm_campaign=ndemalem\n",
      "Metadata: {'completeness': 10, 'country': ['Netherlands'], 'dataProvider': ['Rijksmuseum'], 'dcDescription': [\"Eivormige deksel van porselein, beschilderd in onderglazuur blauw. Op de buik een landschap met twee 'go' spelende Chinese dames (lange lijzen). Daarnaast een twee staande dames, waarvan één met een qin. De voorstelling wordt afgesloten met een wolkmotief. Op de deksel twee dansende jongens (zotjes). Gemerkt op de onderzijde met een artemisiablad. Blauw-wit.\"], 'dcDescriptionLangAware': {'nl': [\"Eivormige deksel van porselein, beschilderd in onderglazuur blauw. Op de buik een landschap met twee 'go' spelende Chinese dames (lange lijzen). Daarnaast een twee staande dames, waarvan één met een qin. De voorstelling wordt afgesloten met een wolkmotief. Op de deksel twee dansende jongens (zotjes). Gemerkt op de onderzijde met een artemisiablad. Blauw-wit.\"]}, 'dcLanguage': ['nl'], 'dcLanguageLangAware': {'def': ['nl']}, 'dcTitleLangAware': {'en': ['Ovoid covered jar with Chinese ladies in a landscape'], 'nl': ['Eivormige deksel met Chinese dames in een landschap']}, 'edmConcept': ['http://data.europeana.eu/concept/1757'], 'edmConceptLabel': [{'def': 'Porzellan'}, {'def': 'Posliini'}, {'def': 'Фарфор'}, {'def': 'Porcelana'}, {'def': 'Порцелан'}, {'def': 'Porcelianas'}, {'def': 'Porcelāns'}, {'def': 'Porculan'}, {'def': 'Porcelaine'}, {'def': 'Porcelán'}, {'def': 'Porcelán'}, {'def': 'Porcelan'}, {'def': 'Poirceallán'}, {'def': 'Porcellana'}, {'def': 'Porslin'}, {'def': 'Πορσελάνη'}, {'def': 'Porcelain'}, {'def': 'Porcellana'}, {'def': 'Porcelana'}, {'def': 'Portselan'}, {'def': 'Porcelán'}, {'def': 'Portzelana'}, {'def': 'Porcelana'}, {'def': 'Porțelan'}, {'def': 'Porcelæn'}, {'def': 'Porselein'}], 'edmConceptPrefLabelLangAware': {'de': ['Porzellan'], 'fi': ['Posliini'], 'ru': ['Фарфор'], 'pt': ['Porcelana'], 'bg': ['Порцелан'], 'lt': ['Porcelianas'], 'lv': ['Porcelāns'], 'hr': ['Porculan'], 'fr': ['Porcelaine'], 'hu': ['Porcelán'], 'sk': ['Porcelán'], 'sl': ['Porcelan'], 'ga': ['Poirceallán'], 'ca': ['Porcellana'], 'sv': ['Porslin'], 'el': ['Πορσελάνη'], 'en': ['Porcelain'], 'it': ['Porcellana'], 'es': ['Porcelana'], 'et': ['Portselan'], 'cs': ['Porcelán'], 'eu': ['Portzelana'], 'pl': ['Porcelana'], 'ro': ['Porțelan'], 'da': ['Porcelæn'], 'nl': ['Porselein']}, 'edmDatasetName': ['90402_M_NL_Rijksmuseum'], 'edmIsShownAt': ['http://hdl.handle.net/10934/RM0001.COLLECT.2535'], 'edmIsShownBy': ['https://lh3.googleusercontent.com/FTM_uYyfOCon9w-auowuF_w-gJB_AwSQzo4ZhDGVL7oH5le3oyzrJOOAD2uFOdQc5PROrFmjf4MzrRZvVbPrROtcTu0=s0'], 'edmPreview': ['https://api.europeana.eu/thumbnail/v2/url.json?uri=https%3A%2F%2Flh3.googleusercontent.com%2FFTM_uYyfOCon9w-auowuF_w-gJB_AwSQzo4ZhDGVL7oH5le3oyzrJOOAD2uFOdQc5PROrFmjf4MzrRZvVbPrROtcTu0%3Ds0&type=IMAGE'], 'europeanaCollectionName': ['90402_M_NL_Rijksmuseum'], 'europeanaCompleteness': 10, 'guid': 'https://www.europeana.eu/item/90402/AK_NM_6928_A?utm_source=api&utm_medium=api&utm_campaign=ndemalem', 'id': '/90402/AK_NM_6928_A', 'index': 0, 'language': ['nl'], 'link': 'https://api.europeana.eu/record/90402/AK_NM_6928_A.json?wskey=ndemalem', 'previewNoDistribute': False, 'provider': ['Rijksmuseum'], 'rights': ['http://creativecommons.org/publicdomain/mark/1.0/'], 'score': 61.94771, 'timestamp': 1688569558507, 'timestamp_created': '2014-05-27T13:05:19.872Z', 'timestamp_created_epoch': 1401195919872, 'timestamp_update': '2018-03-17T13:01:06.666Z', 'timestamp_update_epoch': 1521291666666, 'title': ['Ovoid covered jar with Chinese ladies in a landscape', 'Eivormige deksel met Chinese dames in een landschap'], 'type': 'IMAGE', 'ugc': [False]}\n",
      "\n",
      "Title: ['Saucer dish with Chinese ladies in a fenced garden and flowering plants', 'Schaal met Chinese dames in een omheinde tuin en bloeiende planten']\n",
      "Description: [\"Schaal van porselein met gelobde rand, beschilderd in onderglazuur blauw. De wand is gemodelleerd in tien vakken. Op het plat een tienhoekig medaillon met een Chinese dame (lange lijs) zittend aan een tafel met een lotusbloem in haar hand; achter haar een lotus in een pot op een kruk. De wand is verdeeld in tien uitstralende vakken met daarin afwisselend een dame met een waaier of een takje in een omheinde tuin of bloeiende planten. De buitenwand met een doorlopende bloemtak. Gemerkt op de onderzijde met 'yù', jade, in een dubbele cirkel. Blauw-wit.\"]\n",
      "Link: https://www.europeana.eu/item/90402/AK_NM_6904_A?utm_source=api&utm_medium=api&utm_campaign=ndemalem\n",
      "Metadata: {'completeness': 10, 'country': ['Netherlands'], 'dataProvider': ['Rijksmuseum'], 'dcDescription': [\"Schaal van porselein met gelobde rand, beschilderd in onderglazuur blauw. De wand is gemodelleerd in tien vakken. Op het plat een tienhoekig medaillon met een Chinese dame (lange lijs) zittend aan een tafel met een lotusbloem in haar hand; achter haar een lotus in een pot op een kruk. De wand is verdeeld in tien uitstralende vakken met daarin afwisselend een dame met een waaier of een takje in een omheinde tuin of bloeiende planten. De buitenwand met een doorlopende bloemtak. Gemerkt op de onderzijde met 'yù', jade, in een dubbele cirkel. Blauw-wit.\"], 'dcDescriptionLangAware': {'nl': [\"Schaal van porselein met gelobde rand, beschilderd in onderglazuur blauw. De wand is gemodelleerd in tien vakken. Op het plat een tienhoekig medaillon met een Chinese dame (lange lijs) zittend aan een tafel met een lotusbloem in haar hand; achter haar een lotus in een pot op een kruk. De wand is verdeeld in tien uitstralende vakken met daarin afwisselend een dame met een waaier of een takje in een omheinde tuin of bloeiende planten. De buitenwand met een doorlopende bloemtak. Gemerkt op de onderzijde met 'yù', jade, in een dubbele cirkel. Blauw-wit.\"]}, 'dcLanguage': ['nl'], 'dcLanguageLangAware': {'def': ['nl']}, 'dcTitleLangAware': {'en': ['Saucer dish with Chinese ladies in a fenced garden and flowering plants'], 'nl': ['Schaal met Chinese dames in een omheinde tuin en bloeiende planten']}, 'edmConcept': ['http://data.europeana.eu/concept/1757', 'http://data.europeana.eu/concept/1918'], 'edmConceptLabel': [{'def': 'Porzellan'}, {'def': 'Teller'}, {'def': 'Posliini'}, {'def': 'Lautanen'}, {'def': 'Фарфор'}, {'def': 'Тарелка'}, {'def': 'Porcelana'}, {'def': 'Prato'}, {'def': 'Порцелан'}, {'def': 'Чиния'}, {'def': 'Porcelianas'}, {'def': 'Lėkštė'}, {'def': 'Porcelāns'}, {'def': 'Šķīvis'}, {'def': 'Porculan'}, {'def': 'Tanjur'}, {'def': 'Porcelaine'}, {'def': 'Assiette'}, {'def': 'Porcelán'}, {'def': 'Porcelán'}, {'def': 'Tanier'}, {'def': 'Porcelan'}, {'def': 'Krožnik'}, {'def': 'Poirceallán'}, {'def': 'Pláta'}, {'def': 'Porcellana'}, {'def': 'Plat'}, {'def': 'Porslin'}, {'def': 'Tallrik'}, {'def': 'Πορσελάνη'}, {'def': 'Πιάτο'}, {'def': 'Porcelain'}, {'def': 'Plate'}, {'def': 'Porcellana'}, {'def': 'Piatto'}, {'def': 'Porcelana'}, {'def': 'Plato'}, {'def': 'Portselan'}, {'def': 'Taldrik'}, {'def': 'Porcelán'}, {'def': 'Talíř'}, {'def': 'Portzelana'}, {'def': 'Plater'}, {'def': 'Porcelana'}, {'def': 'Talerz'}, {'def': 'Porțelan'}, {'def': 'Farfurie'}, {'def': 'Porcelæn'}, {'def': 'Tallerken'}, {'def': 'Porselein'}, {'def': 'Bord'}], 'edmConceptPrefLabelLangAware': {'de': ['Porzellan', 'Teller'], 'fi': ['Posliini', 'Lautanen'], 'ru': ['Фарфор', 'Тарелка'], 'pt': ['Porcelana', 'Prato'], 'bg': ['Порцелан', 'Чиния'], 'lt': ['Porcelianas', 'Lėkštė'], 'lv': ['Porcelāns', 'Šķīvis'], 'hr': ['Porculan', 'Tanjur'], 'fr': ['Porcelaine', 'Assiette'], 'hu': ['Porcelán'], 'sk': ['Tanier', 'Porcelán'], 'sl': ['Porcelan', 'Krožnik'], 'ga': ['Poirceallán', 'Pláta'], 'ca': ['Porcellana', 'Plat'], 'sv': ['Tallrik', 'Porslin'], 'el': ['Πορσελάνη', 'Πιάτο'], 'en': ['Porcelain', 'Plate'], 'it': ['Porcellana', 'Piatto'], 'es': ['Porcelana', 'Plato'], 'et': ['Portselan', 'Taldrik'], 'cs': ['Talíř', 'Porcelán'], 'eu': ['Portzelana', 'Plater'], 'pl': ['Porcelana', 'Talerz'], 'ro': ['Farfurie', 'Porțelan'], 'da': ['Porcelæn', 'Tallerken'], 'nl': ['Bord', 'Porselein']}, 'edmDatasetName': ['90402_M_NL_Rijksmuseum'], 'edmIsShownAt': ['http://hdl.handle.net/10934/RM0001.COLLECT.2720'], 'edmIsShownBy': ['https://lh3.googleusercontent.com/H7xmhhV4ivcxilI_i28v2lkL2tolRvnw8MU2e1RWkFLx-Ikvky0RpupZz_3f4KYA4mjARLs_zwjmmYQJGESiqe97Vmc=s0'], 'edmPreview': ['https://api.europeana.eu/thumbnail/v2/url.json?uri=https%3A%2F%2Fwww.rijksmuseum.nl%2Fassetimage2.jsp%3Fid%3DAK-NM-6904-A&type=IMAGE'], 'europeanaCollectionName': ['90402_M_NL_Rijksmuseum'], 'europeanaCompleteness': 10, 'guid': 'https://www.europeana.eu/item/90402/AK_NM_6904_A?utm_source=api&utm_medium=api&utm_campaign=ndemalem', 'id': '/90402/AK_NM_6904_A', 'index': 0, 'language': ['nl'], 'link': 'https://api.europeana.eu/record/90402/AK_NM_6904_A.json?wskey=ndemalem', 'previewNoDistribute': False, 'provider': ['Rijksmuseum'], 'rights': ['http://creativecommons.org/publicdomain/mark/1.0/'], 'score': 55.18548, 'timestamp': 1688569558894, 'timestamp_created': '2014-05-27T13:05:19.556Z', 'timestamp_created_epoch': 1401195919556, 'timestamp_update': '2018-03-17T13:01:06.437Z', 'timestamp_update_epoch': 1521291666437, 'title': ['Saucer dish with Chinese ladies in a fenced garden and flowering plants', 'Schaal met Chinese dames in een omheinde tuin en bloeiende planten'], 'type': 'IMAGE', 'ugc': [False]}\n",
      "\n",
      "Title: ['Small cilindrical vase with two Chinese ladies and auspicious symbols', 'Kleine cilindrische vaas met twee Chinese dames en geluksvoorwerpen']\n",
      "Description: ['Kleine, cilindrische vaas van porselein met een korte nek en platte rand, beschilderd in onderglazuur blauw. Op de wand twee Chinese dames (lange lijzen) bij een bloeiende aster in een pot. Op de andere zijde antiquiteiten en kostbaarheden (vaas met pauwenveren, wierookbrander, parel en spiegel). Op de schouder drie kostbaarheden (parel, ruit, muzieksteen). Op de nek een band met spiraalwerk en stippen. Gemerkt op de onderzijde met het vier-karaktermerk van keizer Chenghua in een dubbele cirkel. Blauw-wit.']\n",
      "Link: https://www.europeana.eu/item/90402/AK_NM_6726?utm_source=api&utm_medium=api&utm_campaign=ndemalem\n",
      "Metadata: {'completeness': 10, 'country': ['Netherlands'], 'dataProvider': ['Rijksmuseum'], 'dcDescription': ['Kleine, cilindrische vaas van porselein met een korte nek en platte rand, beschilderd in onderglazuur blauw. Op de wand twee Chinese dames (lange lijzen) bij een bloeiende aster in een pot. Op de andere zijde antiquiteiten en kostbaarheden (vaas met pauwenveren, wierookbrander, parel en spiegel). Op de schouder drie kostbaarheden (parel, ruit, muzieksteen). Op de nek een band met spiraalwerk en stippen. Gemerkt op de onderzijde met het vier-karaktermerk van keizer Chenghua in een dubbele cirkel. Blauw-wit.'], 'dcDescriptionLangAware': {'nl': ['Kleine, cilindrische vaas van porselein met een korte nek en platte rand, beschilderd in onderglazuur blauw. Op de wand twee Chinese dames (lange lijzen) bij een bloeiende aster in een pot. Op de andere zijde antiquiteiten en kostbaarheden (vaas met pauwenveren, wierookbrander, parel en spiegel). Op de schouder drie kostbaarheden (parel, ruit, muzieksteen). Op de nek een band met spiraalwerk en stippen. Gemerkt op de onderzijde met het vier-karaktermerk van keizer Chenghua in een dubbele cirkel. Blauw-wit.']}, 'dcLanguage': ['nl'], 'dcLanguageLangAware': {'def': ['nl']}, 'dcTitleLangAware': {'en': ['Small cilindrical vase with two Chinese ladies and auspicious symbols'], 'nl': ['Kleine cilindrische vaas met twee Chinese dames en geluksvoorwerpen']}, 'edmConcept': ['http://data.europeana.eu/concept/1757'], 'edmConceptLabel': [{'def': 'Porzellan'}, {'def': 'Posliini'}, {'def': 'Фарфор'}, {'def': 'Porcelana'}, {'def': 'Порцелан'}, {'def': 'Porcelianas'}, {'def': 'Porcelāns'}, {'def': 'Porculan'}, {'def': 'Porcelaine'}, {'def': 'Porcelán'}, {'def': 'Porcelán'}, {'def': 'Porcelan'}, {'def': 'Poirceallán'}, {'def': 'Porcellana'}, {'def': 'Porslin'}, {'def': 'Πορσελάνη'}, {'def': 'Porcelain'}, {'def': 'Porcellana'}, {'def': 'Porcelana'}, {'def': 'Portselan'}, {'def': 'Porcelán'}, {'def': 'Portzelana'}, {'def': 'Porcelana'}, {'def': 'Porțelan'}, {'def': 'Porcelæn'}, {'def': 'Porselein'}], 'edmConceptPrefLabelLangAware': {'de': ['Porzellan'], 'fi': ['Posliini'], 'ru': ['Фарфор'], 'pt': ['Porcelana'], 'bg': ['Порцелан'], 'lt': ['Porcelianas'], 'lv': ['Porcelāns'], 'hr': ['Porculan'], 'fr': ['Porcelaine'], 'hu': ['Porcelán'], 'sk': ['Porcelán'], 'sl': ['Porcelan'], 'ga': ['Poirceallán'], 'ca': ['Porcellana'], 'sv': ['Porslin'], 'el': ['Πορσελάνη'], 'en': ['Porcelain'], 'it': ['Porcellana'], 'es': ['Porcelana'], 'et': ['Portselan'], 'cs': ['Porcelán'], 'eu': ['Portzelana'], 'pl': ['Porcelana'], 'ro': ['Porțelan'], 'da': ['Porcelæn'], 'nl': ['Porselein']}, 'edmDatasetName': ['90402_M_NL_Rijksmuseum'], 'edmIsShownAt': ['http://hdl.handle.net/10934/RM0001.COLLECT.353993'], 'edmIsShownBy': ['https://lh3.googleusercontent.com/AEFvVJPioESJmUf-FDYxjKvqC6z7kNw1tak-d0z55zlN_cn6-wKUjZtC40nAsBtOdIVFpfOHg-qB0NLbICoy8FR99w=s0'], 'edmPreview': ['https://api.europeana.eu/thumbnail/v2/url.json?uri=https%3A%2F%2Flh3.googleusercontent.com%2FAEFvVJPioESJmUf-FDYxjKvqC6z7kNw1tak-d0z55zlN_cn6-wKUjZtC40nAsBtOdIVFpfOHg-qB0NLbICoy8FR99w%3Ds0&type=IMAGE'], 'europeanaCollectionName': ['90402_M_NL_Rijksmuseum'], 'europeanaCompleteness': 10, 'guid': 'https://www.europeana.eu/item/90402/AK_NM_6726?utm_source=api&utm_medium=api&utm_campaign=ndemalem', 'id': '/90402/AK_NM_6726', 'index': 0, 'language': ['nl'], 'link': 'https://api.europeana.eu/record/90402/AK_NM_6726.json?wskey=ndemalem', 'previewNoDistribute': False, 'provider': ['Rijksmuseum'], 'rights': ['http://creativecommons.org/publicdomain/mark/1.0/'], 'score': 59.360535, 'timestamp': 1688569557569, 'timestamp_created': '2014-05-27T13:05:08.482Z', 'timestamp_created_epoch': 1401195908482, 'timestamp_update': '2018-03-17T13:01:05.765Z', 'timestamp_update_epoch': 1521291665765, 'title': ['Small cilindrical vase with two Chinese ladies and auspicious symbols', 'Kleine cilindrische vaas met twee Chinese dames en geluksvoorwerpen'], 'type': 'IMAGE', 'ugc': [False]}\n",
      "\n",
      "Title: ['Cilindrical vase with Chinese ladies and flower pots', 'Cilindrische vaas met Chinese dames en bloempotten']\n",
      "Description: [\"Kleine, cilindrische vaas van porselein met een rechte schouder en korte, spreidende nek met een vlakke rand, beschilderd in onderglazuur blauw. Op de wand Chinese dames (lange lijzen) bij bloempotten op een kruk. Op de schouder kostbaarheden (parel, boeken). Op de nek een band met stippen. Gemerkt op de onderzijde met 'Fú'. Blauw-wit.\"]\n",
      "Link: https://www.europeana.eu/item/90402/AK_NM_6723_B?utm_source=api&utm_medium=api&utm_campaign=ndemalem\n",
      "Metadata: {'completeness': 10, 'country': ['Netherlands'], 'dataProvider': ['Rijksmuseum'], 'dcDescription': [\"Kleine, cilindrische vaas van porselein met een rechte schouder en korte, spreidende nek met een vlakke rand, beschilderd in onderglazuur blauw. Op de wand Chinese dames (lange lijzen) bij bloempotten op een kruk. Op de schouder kostbaarheden (parel, boeken). Op de nek een band met stippen. Gemerkt op de onderzijde met 'Fú'. Blauw-wit.\"], 'dcDescriptionLangAware': {'nl': [\"Kleine, cilindrische vaas van porselein met een rechte schouder en korte, spreidende nek met een vlakke rand, beschilderd in onderglazuur blauw. Op de wand Chinese dames (lange lijzen) bij bloempotten op een kruk. Op de schouder kostbaarheden (parel, boeken). Op de nek een band met stippen. Gemerkt op de onderzijde met 'Fú'. Blauw-wit.\"]}, 'dcLanguage': ['nl'], 'dcLanguageLangAware': {'def': ['nl']}, 'dcTitleLangAware': {'en': ['Cilindrical vase with Chinese ladies and flower pots'], 'nl': ['Cilindrische vaas met Chinese dames en bloempotten']}, 'edmConcept': ['http://data.europeana.eu/concept/1757'], 'edmConceptLabel': [{'def': 'Porzellan'}, {'def': 'Posliini'}, {'def': 'Фарфор'}, {'def': 'Porcelana'}, {'def': 'Порцелан'}, {'def': 'Porcelianas'}, {'def': 'Porcelāns'}, {'def': 'Porculan'}, {'def': 'Porcelaine'}, {'def': 'Porcelán'}, {'def': 'Porcelán'}, {'def': 'Porcelan'}, {'def': 'Poirceallán'}, {'def': 'Porcellana'}, {'def': 'Porslin'}, {'def': 'Πορσελάνη'}, {'def': 'Porcelain'}, {'def': 'Porcellana'}, {'def': 'Porcelana'}, {'def': 'Portselan'}, {'def': 'Porcelán'}, {'def': 'Portzelana'}, {'def': 'Porcelana'}, {'def': 'Porțelan'}, {'def': 'Porcelæn'}, {'def': 'Porselein'}], 'edmConceptPrefLabelLangAware': {'de': ['Porzellan'], 'fi': ['Posliini'], 'ru': ['Фарфор'], 'pt': ['Porcelana'], 'bg': ['Порцелан'], 'lt': ['Porcelianas'], 'lv': ['Porcelāns'], 'hr': ['Porculan'], 'fr': ['Porcelaine'], 'hu': ['Porcelán'], 'sk': ['Porcelán'], 'sl': ['Porcelan'], 'ga': ['Poirceallán'], 'ca': ['Porcellana'], 'sv': ['Porslin'], 'el': ['Πορσελάνη'], 'en': ['Porcelain'], 'it': ['Porcellana'], 'es': ['Porcelana'], 'et': ['Portselan'], 'cs': ['Porcelán'], 'eu': ['Portzelana'], 'pl': ['Porcelana'], 'ro': ['Porțelan'], 'da': ['Porcelæn'], 'nl': ['Porselein']}, 'edmDatasetName': ['90402_M_NL_Rijksmuseum'], 'edmIsShownAt': ['http://hdl.handle.net/10934/RM0001.COLLECT.19969'], 'edmIsShownBy': ['https://lh3.googleusercontent.com/Jbq3qOv5eLln0sEpeamcd8Ox2FuS6AkeMriKKmS3-BwqB345Yv7zOcmPzWwlGcUodZMcn3-8FzFeWnI-qJhZHsWWt-Q0=s0'], 'edmPreview': ['https://api.europeana.eu/thumbnail/v2/url.json?uri=https%3A%2F%2Flh3.googleusercontent.com%2FJbq3qOv5eLln0sEpeamcd8Ox2FuS6AkeMriKKmS3-BwqB345Yv7zOcmPzWwlGcUodZMcn3-8FzFeWnI-qJhZHsWWt-Q0%3Ds0&type=IMAGE'], 'europeanaCollectionName': ['90402_M_NL_Rijksmuseum'], 'europeanaCompleteness': 10, 'guid': 'https://www.europeana.eu/item/90402/AK_NM_6723_B?utm_source=api&utm_medium=api&utm_campaign=ndemalem', 'id': '/90402/AK_NM_6723_B', 'index': 0, 'language': ['nl'], 'link': 'https://api.europeana.eu/record/90402/AK_NM_6723_B.json?wskey=ndemalem', 'previewNoDistribute': False, 'provider': ['Rijksmuseum'], 'rights': ['http://creativecommons.org/publicdomain/mark/1.0/'], 'score': 64.33444, 'timestamp': 1688569557253, 'timestamp_created': '2014-05-27T13:05:08.469Z', 'timestamp_created_epoch': 1401195908469, 'timestamp_update': '2018-03-17T13:01:05.752Z', 'timestamp_update_epoch': 1521291665752, 'title': ['Cilindrical vase with Chinese ladies and flower pots', 'Cilindrische vaas met Chinese dames en bloempotten'], 'type': 'IMAGE', 'ugc': [False]}\n",
      "\n"
     ]
    }
   ],
   "source": [
    "import json\n",
    "\n",
    "# Load the dataset\n",
    "with open('chinese_porcelain_metadata.json', 'r', encoding='utf-8') as f:\n",
    "    items = json.load(f)\n",
    "\n",
    "# Initialize a list to store filtered results related to \"Chinese ladies\"\n",
    "chinese_ladies_items = []\n",
    "\n",
    "# Define the search term\n",
    "search_term = \"Chinese ladies\"\n",
    "\n",
    "# Filter the dataset\n",
    "for item in items:\n",
    "    # Ensure item is a dictionary before accessing fields\n",
    "    if isinstance(item, dict):\n",
    "        # Extract title and description, handling cases where they might be lists\n",
    "        title_list = item.get('title', [])\n",
    "        description_list = item.get('dcDescription', [])\n",
    "        \n",
    "        # Convert lists to strings if needed\n",
    "        title = ' '.join(title_list).lower() if isinstance(title_list, list) else title_list.lower()\n",
    "        description = ' '.join(description_list).lower() if isinstance(description_list, list) else description_list.lower()\n",
    "        \n",
    "        # Check if search term is in title or description\n",
    "        if search_term.lower() in title or search_term.lower() in description:\n",
    "            chinese_ladies_items.append(item)\n",
    "\n",
    "# Print the number of items found and output some examples\n",
    "print(f\"Total items related to '{search_term}': {len(chinese_ladies_items)}\")\n",
    "\n",
    "# Print a few example items\n",
    "for item in chinese_ladies_items[:5]:  # Adjust the number to print more or fewer items\n",
    "    print(f\"Title: {item.get('title')}\")\n",
    "    print(f\"Description: {item.get('dcDescription')}\")\n",
    "    print(f\"Link: {item.get('guid')}\")\n",
    "    print(f\"Metadata: {item}\\n\")\n",
    "\n",
    "# Optionally, save the filtered data to a new JSON file\n",
    "with open('chinese_ladies_metadata.json', 'w', encoding='utf-8') as f:\n",
    "    json.dump(chinese_ladies_items, f, ensure_ascii=False, indent=4)"
   ]
  },
  {
   "cell_type": "code",
   "execution_count": 21,
   "id": "6a123578",
   "metadata": {
    "scrolled": true
   },
   "outputs": [
    {
     "name": "stdout",
     "output_type": "stream",
     "text": [
      "Total items related to 'Chinese ladies': 95\n",
      "Title: ['Two Chinese ladies in a garden', 'Deux dames chinoises dans un jardin']\n",
      "Description: ['flower', 'Butterfly (http://vocab.getty.edu/aat/300417320)', 'mountainous landscape', 'garden', 'China (http://vocab.getty.edu/aat/1814991)', 'base [furniture] (http://vocab.getty.edu/aat/300001656)', 'deciduous tree', 'decorative pot (http://vocab.getty.edu/aat/300260048)', 'construction', 'Deep platter, polychrome decoration, Two Chinese ladies in a garden, green family.', \"Inst./Coll.: Musées Royaux d'Art et d'Histoire (Bruxelles)  / Inv.: 4716\", 'fleur', 'papillon  (http://vocab.getty.edu/aat/300417320)', 'motif grillagé[ornement]', 'paysage montagneux', 'jardin', 'Chine  (http://vocab.getty.edu/aat/1814991)', 'socle[mobilier]  (http://vocab.getty.edu/aat/300001656)', 'barrière  (http://vocab.getty.edu/aat/)', 'arbre à feuilles caduques', 'pot décoratif  (http://vocab.getty.edu/aat/300260048)', 'costume traditionnel  (http://vocab.getty.edu/aat/300380192)', 'pivoine  (http://vocab.getty.edu/aat/300380052)', 'cerisier[arbre]', 'construction', 'Plat profond, décor polychrome, Deux dames chinoises dans un jardin, famille verte.']\n",
      "Link: https://www.europeana.eu/item/376/photography_ProvidedCHO_Royal_Institute_for_Cultural_Heritage__KIK_IRPA___Brussels__Belgium__KIK_IRPA_n__11061314?utm_source=api&utm_medium=api&utm_campaign=ndemalem\n",
      "Metadata: {'completeness': 10, 'country': ['Belgium'], 'dataProvider': ['Royal Institute for Cultural Heritage'], 'dcCreator': ['Unknown (ceramist)', 'inconnu (céramiste)', 'inconnu'], 'dcCreatorLangAware': {'en': ['Unknown (ceramist)'], 'fr': ['inconnu (céramiste)', 'inconnu']}, 'dcDescription': ['flower', 'Butterfly (http://vocab.getty.edu/aat/300417320)', 'mountainous landscape', 'garden', 'China (http://vocab.getty.edu/aat/1814991)', 'base [furniture] (http://vocab.getty.edu/aat/300001656)', 'deciduous tree', 'decorative pot (http://vocab.getty.edu/aat/300260048)', 'construction', 'Deep platter, polychrome decoration, Two Chinese ladies in a garden, green family.', \"Inst./Coll.: Musées Royaux d'Art et d'Histoire (Bruxelles)  / Inv.: 4716\", 'fleur', 'papillon  (http://vocab.getty.edu/aat/300417320)', 'motif grillagé[ornement]', 'paysage montagneux', 'jardin', 'Chine  (http://vocab.getty.edu/aat/1814991)', 'socle[mobilier]  (http://vocab.getty.edu/aat/300001656)', 'barrière  (http://vocab.getty.edu/aat/)', 'arbre à feuilles caduques', 'pot décoratif  (http://vocab.getty.edu/aat/300260048)', 'costume traditionnel  (http://vocab.getty.edu/aat/300380192)', 'pivoine  (http://vocab.getty.edu/aat/300380052)', 'cerisier[arbre]', 'construction', 'Plat profond, décor polychrome, Deux dames chinoises dans un jardin, famille verte.'], 'dcDescriptionLangAware': {'en': ['flower', 'Butterfly (http://vocab.getty.edu/aat/300417320)', 'mountainous landscape', 'garden', 'China (http://vocab.getty.edu/aat/1814991)', 'base [furniture] (http://vocab.getty.edu/aat/300001656)', 'deciduous tree', 'decorative pot (http://vocab.getty.edu/aat/300260048)', 'construction', 'Deep platter, polychrome decoration, Two Chinese ladies in a garden, green family.'], 'fr': [\"Inst./Coll.: Musées Royaux d'Art et d'Histoire (Bruxelles)  / Inv.: 4716\", 'fleur', 'papillon  (http://vocab.getty.edu/aat/300417320)', 'motif grillagé[ornement]', 'paysage montagneux', 'jardin', 'Chine  (http://vocab.getty.edu/aat/1814991)', 'socle[mobilier]  (http://vocab.getty.edu/aat/300001656)', 'barrière  (http://vocab.getty.edu/aat/)', 'arbre à feuilles caduques', 'pot décoratif  (http://vocab.getty.edu/aat/300260048)', 'costume traditionnel  (http://vocab.getty.edu/aat/300380192)', 'pivoine  (http://vocab.getty.edu/aat/300380052)', 'cerisier[arbre]', 'construction', 'Plat profond, décor polychrome, Deux dames chinoises dans un jardin, famille verte.']}, 'dcTitleLangAware': {'en': ['Two Chinese ladies in a garden'], 'fr': ['Deux dames chinoises dans un jardin']}, 'edmConcept': ['http://data.europeana.eu/concept/1683', 'http://vocab.getty.edu/aat/300043053', 'http://vocab.getty.edu/aat/300010662', 'http://data.europeana.eu/concept/1864', 'http://data.europeana.eu/concept/1757', 'http://data.europeana.eu/concept/2352'], 'edmConceptLabel': [{'def': 'Genre der Fotografie'}, {'def': 'Garten'}, {'def': 'Porzellan'}, {'def': 'Blume'}, {'def': 'Valokuvaustyyli'}, {'def': 'Puutarha'}, {'def': 'Posliini'}, {'def': 'Fotografigenre'}, {'def': 'Trädgård'}, {'def': 'Porslin'}, {'def': 'Blomma'}, {'def': 'Жанр фотографии'}, {'def': 'Сад'}, {'def': 'Фарфор'}, {'def': 'Género fotográfico'}, {'def': 'porcelana (material)'}, {'def': 'Jardim'}, {'def': 'Porcelana'}, {'def': 'Είδος φωτογραφίας'}, {'def': 'Κήπος'}, {'def': 'Πορσελάνη'}, {'def': 'Άνθος'}, {'def': 'Photography genre'}, {'def': 'platters (carrying dishes)'}, {'def': 'porcelain (material)'}, {'def': 'Garden'}, {'def': 'Porcelain'}, {'def': 'Flower'}, {'def': 'Generi fotografici'}, {'def': 'Giardino'}, {'def': 'Porcellana'}, {'def': 'Fiore'}, {'def': 'Genre photographique'}, {'def': 'plat'}, {'def': 'porcelaine (matériau)'}, {'def': 'Jardin'}, {'def': 'Porcelaine'}, {'def': 'Fleur'}, {'def': 'Fotográfia jellege'}, {'def': 'Kert'}, {'def': 'Porcelán'}, {'def': 'Género fotográfico'}, {'def': 'azafates (fuentes para servir)'}, {'def': 'porcelana'}, {'def': 'Jardín'}, {'def': 'Porcelana'}, {'def': 'Fotografický žánr'}, {'def': 'Zahrada'}, {'def': 'Porcelán'}, {'def': 'Genero fotografiko'}, {'def': 'Lorategi'}, {'def': 'Portzelana'}, {'def': 'Seánra grianghrafadóireachta'}, {'def': 'Gairdín'}, {'def': 'Poirceallán'}, {'def': 'Gatunek fotograficzny'}, {'def': 'Ogród'}, {'def': 'Porcelana'}, {'def': 'Fotografisk genre'}, {'def': 'Have'}, {'def': 'Porcelæn'}, {'def': 'Gen fotografic'}, {'def': 'Grădina'}, {'def': 'Porțelan'}, {'def': 'Gènere fotogràfic'}, {'def': 'Jardí'}, {'def': 'Porcellana'}, {'def': 'Fotografiegenre'}, {'def': 'schotels'}, {'def': 'porselein (materiaal)'}, {'def': 'Tuin'}, {'def': 'Porselein'}, {'def': 'Bloem'}, {'def': 'Градина'}, {'def': 'Порцелан'}, {'def': 'Sodas'}, {'def': 'Porcelianas'}, {'def': 'Vrt'}, {'def': 'Porculan'}, {'def': 'Dārzs'}, {'def': 'Porcelāns'}, {'def': 'Záhrada'}, {'def': 'Porcelán'}, {'def': 'Vrt'}, {'def': 'Porcelan'}, {'def': 'Aed'}, {'def': 'Portselan'}], 'edmConceptPrefLabelLangAware': {'de': ['Garten', 'Porzellan', 'Blume', 'Genre der Fotografie'], 'fi': ['Puutarha', 'Posliini', 'Valokuvaustyyli'], 'ru': ['Фарфор', 'Сад', 'Жанр фотографии'], 'pt': ['Porcelana', 'Género fotográfico', 'porcelana (material)', 'Jardim'], 'bg': ['Порцелан', 'Градина'], 'lt': ['Porcelianas', 'Sodas'], 'hr': ['Porculan', 'Vrt'], 'lv': ['Porcelāns', 'Dārzs'], 'fr': ['Genre photographique', 'porcelaine (matériau)', 'Porcelaine', 'Fleur', 'plat', 'Jardin'], 'hu': ['Fotográfia jellege', 'Porcelán', 'Kert'], 'sk': ['Porcelán', 'Záhrada'], 'sl': ['Porcelan', 'Vrt'], 'ga': ['Seánra grianghrafadóireachta', 'Poirceallán', 'Gairdín'], 'ca': ['Gènere fotogràfic', 'Porcellana', 'Jardí'], 'sv': ['Trädgård', 'Fotografigenre', 'Porslin', 'Blomma'], 'el': ['Κήπος', 'Πορσελάνη', 'Είδος φωτογραφίας', 'Άνθος'], 'en': ['Photography genre', 'Garden', 'Porcelain', 'Flower', 'porcelain (material)', 'platters (carrying dishes)'], 'it': ['Porcellana', 'Giardino', 'Fiore', 'Generi fotografici'], 'es': ['Porcelana', 'porcelana', 'Género fotográfico', 'Jardín', 'azafates (fuentes para servir)'], 'et': ['Aed', 'Portselan'], 'cs': ['Fotografický žánr', 'Zahrada', 'Porcelán'], 'eu': ['Genero fotografiko', 'Lorategi', 'Portzelana'], 'pl': ['Porcelana', 'Ogród', 'Gatunek fotograficzny'], 'da': ['Fotografisk genre', 'Porcelæn', 'Have'], 'ro': ['Grădina', 'Porțelan', 'Gen fotografic'], 'nl': ['Tuin', 'Fotografiegenre', 'schotels', 'porselein (materiaal)', 'Porselein', 'Bloem']}, 'edmDatasetName': ['376_Photoconsortium_KIK_IRPA'], 'edmIsShownAt': ['http://balat.kikirpa.be/object/11061314'], 'edmIsShownBy': ['http://balat.kikirpa.be/image/B208112'], 'edmPlaceAltLabel': [{'def': 'VR China'}, {'def': 'China'}, {'def': 'Rotchina'}, {'def': 'V.R. China'}, {'def': 'Chinesische Volksrepublik'}, {'def': 'Folkrepubliken Kina'}, {'def': 'Mittens rike'}, {'def': 'КНР'}, {'def': 'Поднебесная'}, {'def': 'Материковый Китай'}, {'def': 'Континентальный Китай'}, {'def': 'Китайская Народная Республика'}, {'def': 'Kiinan kansantasavalta'}, {'def': 'República Popular da China'}, {'def': 'КНР'}, {'def': 'Китайска народна република'}, {'def': 'Ċina'}, {'def': 'Repubblika Popolari taċ-Ċina'}, {'def': 'Κίνα'}, {'def': 'China'}, {'def': 'CN'}, {'def': 'PR China'}, {'def': 'PRC'}, {'def': 'Cn'}, {'def': 'CHN'}, {'def': 'China PR'}, {'def': 'Mainland China'}, {'def': 'RPC'}, {'def': 'Kina'}, {'def': 'Ķīnas Tautas Republika'}, {'def': 'RPC'}, {'def': 'Cina popolare'}, {'def': 'Repubblica Popolare Cinese'}, {'def': 'Chine communiste'}, {'def': 'Chine populaire'}, {'def': 'RPC'}, {'def': 'Chine continentale'}, {'def': 'Chine'}, {'def': 'CN'}, {'def': 'La République populaire de Chine'}, {'def': 'Kínai Népköztársaság'}, {'def': 'República popular de China'}, {'def': 'China Popular'}, {'def': 'República Popular China'}, {'def': 'Hiina Rahvavabariik'}, {'def': 'Hiina RV'}, {'def': 'Txina'}, {'def': 'CN'}, {'def': 'Txina Popularra'}, {'def': 'CHN'}, {'def': 'Čínská lidová republika'}, {'def': 'ČLR'}, {'def': 'Zipang'}, {'def': 'Cipang'}, {'def': 'Říše středu'}, {'def': 'Čínska ľudová republika'}, {'def': 'Chiny'}, {'def': 'China'}, {'def': 'CN'}, {'def': 'CHN'}, {'def': 'La Xina'}, {'def': 'Xina popular'}, {'def': 'Xina'}], 'edmPlaceAltLabelLangAware': {'de': ['VR China', 'China', 'Rotchina', 'V.R. China', 'Chinesische Volksrepublik'], 'sv': ['Folkrepubliken Kina', 'Mittens rike'], 'ru': ['КНР', 'Поднебесная', 'Материковый Китай', 'Континентальный Китай', 'Китайская Народная Республика'], 'fi': ['Kiinan kansantasavalta'], 'pt': ['República Popular da China'], 'bg': ['КНР', 'Китайска народна република'], 'mt': ['Ċina', 'Repubblika Popolari taċ-Ċina'], 'el': ['Κίνα'], 'en': ['China', 'CN', 'PR China', 'PRC', 'Cn', 'CHN', 'China PR', 'Mainland China', 'RPC'], 'hr': ['Kina'], 'lv': ['Ķīnas Tautas Republika'], 'it': ['RPC', 'Cina popolare', 'Repubblica Popolare Cinese'], 'fr': ['Chine communiste', 'Chine populaire', 'RPC', 'Chine continentale', 'Chine', 'CN', 'La République populaire de Chine'], 'hu': ['Kínai Népköztársaság'], 'es': ['República popular de China', 'China Popular', 'República Popular China'], 'et': ['Hiina Rahvavabariik', 'Hiina RV'], 'eu': ['Txina', 'CN', 'Txina Popularra', 'CHN'], 'cs': ['Čínská lidová republika', 'ČLR', 'Zipang', 'Cipang', 'Říše středu'], 'sk': ['Čínska ľudová republika'], 'pl': ['Chiny'], 'nl': ['China', 'CN', 'CHN'], 'ca': ['La Xina', 'Xina popular', 'Xina']}, 'edmPlaceLabel': [{'def': 'China'}, {'def': \"People's Republic of China\"}, {'def': 'Volksrepublik China'}, {'def': 'Kiina'}, {'def': 'Китай'}, {'def': 'China'}, {'def': 'Китай'}, {'def': 'Kinijos Liaudies Respublika'}, {'def': 'Ķīna'}, {'def': 'Narodna Republika Kina'}, {'def': 'République populaire de Chine'}, {'def': 'Kína'}, {'def': 'Čína'}, {'def': 'Ljudska republika Kitajska'}, {'def': 'Daon-Phoblacht na Síne'}, {'def': 'República Popular de la Xina'}, {'def': 'Kina'}, {'def': 'Repubblika tal-Poplu taċ-Ċina'}, {'def': 'Λαϊκή Δημοκρατία της Κίνας'}, {'def': 'Cina'}, {'def': 'China'}, {'def': 'Hiina'}, {'def': 'Txinako Herri Errepublika'}, {'def': 'Čína'}, {'def': 'Chińska Republika Ludowa'}, {'def': 'Republica Populară Chineză'}, {'def': 'Kina'}, {'def': 'Volksrepubliek China'}], 'edmPlaceLabelLangAware': {'de': ['Volksrepublik China'], 'fi': ['Kiina'], 'ru': ['Китай'], 'pt': ['China'], 'bg': ['Китай'], 'lt': ['Kinijos Liaudies Respublika'], 'lv': ['Ķīna'], 'hr': ['Narodna Republika Kina'], 'fr': ['République populaire de Chine'], 'hu': ['Kína'], 'sk': ['Čína'], 'sl': ['Ljudska republika Kitajska'], 'ga': ['Daon-Phoblacht na Síne'], 'ca': ['República Popular de la Xina'], 'sv': ['Kina'], 'mt': ['Repubblika tal-Poplu taċ-Ċina'], 'el': ['Λαϊκή Δημοκρατία της Κίνας'], 'en': ['China', \"People's Republic of China\"], 'it': ['Cina'], 'es': ['China'], 'et': ['Hiina'], 'eu': ['Txinako Herri Errepublika'], 'cs': ['Čína'], 'pl': ['Chińska Republika Ludowa'], 'ro': ['Republica Populară Chineză'], 'da': ['Kina'], 'nl': ['Volksrepubliek China']}, 'edmPlaceLatitude': ['35.0', '35.844723'], 'edmPlaceLongitude': ['105.0', '103.45194'], 'edmPreview': ['https://api.europeana.eu/thumbnail/v2/url.json?uri=http%3A%2F%2Fbalat.kikirpa.be%2Fimage%2FB208112%2Fsmall&type=IMAGE'], 'edmTimespanLabel': [{'def': '1701'}], 'edmTimespanLabelLangAware': {'zxx': ['1701']}, 'europeanaCollectionName': ['376_Photoconsortium_KIK_IRPA'], 'europeanaCompleteness': 10, 'guid': 'https://www.europeana.eu/item/376/photography_ProvidedCHO_Royal_Institute_for_Cultural_Heritage__KIK_IRPA___Brussels__Belgium__KIK_IRPA_n__11061314?utm_source=api&utm_medium=api&utm_campaign=ndemalem', 'id': '/376/photography_ProvidedCHO_Royal_Institute_for_Cultural_Heritage__KIK_IRPA___Brussels__Belgium__KIK_IRPA_n__11061314', 'index': 0, 'language': ['fr'], 'link': 'https://api.europeana.eu/record/376/photography_ProvidedCHO_Royal_Institute_for_Cultural_Heritage__KIK_IRPA___Brussels__Belgium__KIK_IRPA_n__11061314.json?wskey=ndemalem', 'previewNoDistribute': False, 'provider': ['PHOTOCONSORTIUM'], 'rights': ['http://creativecommons.org/licenses/by-sa/4.0/'], 'score': 49.010498, 'timestamp': 1688699279955, 'timestamp_created': '2021-07-29T08:51:24.051Z', 'timestamp_created_epoch': 1627548684051, 'timestamp_update': '2021-07-29T08:51:24.051Z', 'timestamp_update_epoch': 1627548684051, 'title': ['Two Chinese ladies in a garden', 'Deux dames chinoises dans un jardin'], 'type': 'IMAGE', 'ugc': [False], 'year': ['1701']}\n",
      "\n",
      "Title: ['Ovoid covered jar with Chinese ladies in a landscape', 'Eivormige deksel met Chinese dames in een landschap']\n",
      "Description: [\"Eivormige deksel van porselein, beschilderd in onderglazuur blauw. Op de buik een landschap met twee 'go' spelende Chinese dames (lange lijzen). Daarnaast een twee staande dames, waarvan één met een qin. De voorstelling wordt afgesloten met een wolkmotief. Op de deksel twee dansende jongens (zotjes). Gemerkt op de onderzijde met een artemisiablad. Blauw-wit.\"]\n",
      "Link: https://www.europeana.eu/item/90402/AK_NM_6928_A?utm_source=api&utm_medium=api&utm_campaign=ndemalem\n",
      "Metadata: {'completeness': 10, 'country': ['Netherlands'], 'dataProvider': ['Rijksmuseum'], 'dcDescription': [\"Eivormige deksel van porselein, beschilderd in onderglazuur blauw. Op de buik een landschap met twee 'go' spelende Chinese dames (lange lijzen). Daarnaast een twee staande dames, waarvan één met een qin. De voorstelling wordt afgesloten met een wolkmotief. Op de deksel twee dansende jongens (zotjes). Gemerkt op de onderzijde met een artemisiablad. Blauw-wit.\"], 'dcDescriptionLangAware': {'nl': [\"Eivormige deksel van porselein, beschilderd in onderglazuur blauw. Op de buik een landschap met twee 'go' spelende Chinese dames (lange lijzen). Daarnaast een twee staande dames, waarvan één met een qin. De voorstelling wordt afgesloten met een wolkmotief. Op de deksel twee dansende jongens (zotjes). Gemerkt op de onderzijde met een artemisiablad. Blauw-wit.\"]}, 'dcLanguage': ['nl'], 'dcLanguageLangAware': {'def': ['nl']}, 'dcTitleLangAware': {'en': ['Ovoid covered jar with Chinese ladies in a landscape'], 'nl': ['Eivormige deksel met Chinese dames in een landschap']}, 'edmConcept': ['http://data.europeana.eu/concept/1757'], 'edmConceptLabel': [{'def': 'Porzellan'}, {'def': 'Posliini'}, {'def': 'Фарфор'}, {'def': 'Porcelana'}, {'def': 'Порцелан'}, {'def': 'Porcelianas'}, {'def': 'Porcelāns'}, {'def': 'Porculan'}, {'def': 'Porcelaine'}, {'def': 'Porcelán'}, {'def': 'Porcelán'}, {'def': 'Porcelan'}, {'def': 'Poirceallán'}, {'def': 'Porcellana'}, {'def': 'Porslin'}, {'def': 'Πορσελάνη'}, {'def': 'Porcelain'}, {'def': 'Porcellana'}, {'def': 'Porcelana'}, {'def': 'Portselan'}, {'def': 'Porcelán'}, {'def': 'Portzelana'}, {'def': 'Porcelana'}, {'def': 'Porțelan'}, {'def': 'Porcelæn'}, {'def': 'Porselein'}], 'edmConceptPrefLabelLangAware': {'de': ['Porzellan'], 'fi': ['Posliini'], 'ru': ['Фарфор'], 'pt': ['Porcelana'], 'bg': ['Порцелан'], 'lt': ['Porcelianas'], 'lv': ['Porcelāns'], 'hr': ['Porculan'], 'fr': ['Porcelaine'], 'hu': ['Porcelán'], 'sk': ['Porcelán'], 'sl': ['Porcelan'], 'ga': ['Poirceallán'], 'ca': ['Porcellana'], 'sv': ['Porslin'], 'el': ['Πορσελάνη'], 'en': ['Porcelain'], 'it': ['Porcellana'], 'es': ['Porcelana'], 'et': ['Portselan'], 'cs': ['Porcelán'], 'eu': ['Portzelana'], 'pl': ['Porcelana'], 'ro': ['Porțelan'], 'da': ['Porcelæn'], 'nl': ['Porselein']}, 'edmDatasetName': ['90402_M_NL_Rijksmuseum'], 'edmIsShownAt': ['http://hdl.handle.net/10934/RM0001.COLLECT.2535'], 'edmIsShownBy': ['https://lh3.googleusercontent.com/FTM_uYyfOCon9w-auowuF_w-gJB_AwSQzo4ZhDGVL7oH5le3oyzrJOOAD2uFOdQc5PROrFmjf4MzrRZvVbPrROtcTu0=s0'], 'edmPreview': ['https://api.europeana.eu/thumbnail/v2/url.json?uri=https%3A%2F%2Flh3.googleusercontent.com%2FFTM_uYyfOCon9w-auowuF_w-gJB_AwSQzo4ZhDGVL7oH5le3oyzrJOOAD2uFOdQc5PROrFmjf4MzrRZvVbPrROtcTu0%3Ds0&type=IMAGE'], 'europeanaCollectionName': ['90402_M_NL_Rijksmuseum'], 'europeanaCompleteness': 10, 'guid': 'https://www.europeana.eu/item/90402/AK_NM_6928_A?utm_source=api&utm_medium=api&utm_campaign=ndemalem', 'id': '/90402/AK_NM_6928_A', 'index': 0, 'language': ['nl'], 'link': 'https://api.europeana.eu/record/90402/AK_NM_6928_A.json?wskey=ndemalem', 'previewNoDistribute': False, 'provider': ['Rijksmuseum'], 'rights': ['http://creativecommons.org/publicdomain/mark/1.0/'], 'score': 61.94771, 'timestamp': 1688569558507, 'timestamp_created': '2014-05-27T13:05:19.872Z', 'timestamp_created_epoch': 1401195919872, 'timestamp_update': '2018-03-17T13:01:06.666Z', 'timestamp_update_epoch': 1521291666666, 'title': ['Ovoid covered jar with Chinese ladies in a landscape', 'Eivormige deksel met Chinese dames in een landschap'], 'type': 'IMAGE', 'ugc': [False]}\n",
      "\n",
      "Title: ['Saucer dish with Chinese ladies in a fenced garden and flowering plants', 'Schaal met Chinese dames in een omheinde tuin en bloeiende planten']\n",
      "Description: [\"Schaal van porselein met gelobde rand, beschilderd in onderglazuur blauw. De wand is gemodelleerd in tien vakken. Op het plat een tienhoekig medaillon met een Chinese dame (lange lijs) zittend aan een tafel met een lotusbloem in haar hand; achter haar een lotus in een pot op een kruk. De wand is verdeeld in tien uitstralende vakken met daarin afwisselend een dame met een waaier of een takje in een omheinde tuin of bloeiende planten. De buitenwand met een doorlopende bloemtak. Gemerkt op de onderzijde met 'yù', jade, in een dubbele cirkel. Blauw-wit.\"]\n",
      "Link: https://www.europeana.eu/item/90402/AK_NM_6904_A?utm_source=api&utm_medium=api&utm_campaign=ndemalem\n",
      "Metadata: {'completeness': 10, 'country': ['Netherlands'], 'dataProvider': ['Rijksmuseum'], 'dcDescription': [\"Schaal van porselein met gelobde rand, beschilderd in onderglazuur blauw. De wand is gemodelleerd in tien vakken. Op het plat een tienhoekig medaillon met een Chinese dame (lange lijs) zittend aan een tafel met een lotusbloem in haar hand; achter haar een lotus in een pot op een kruk. De wand is verdeeld in tien uitstralende vakken met daarin afwisselend een dame met een waaier of een takje in een omheinde tuin of bloeiende planten. De buitenwand met een doorlopende bloemtak. Gemerkt op de onderzijde met 'yù', jade, in een dubbele cirkel. Blauw-wit.\"], 'dcDescriptionLangAware': {'nl': [\"Schaal van porselein met gelobde rand, beschilderd in onderglazuur blauw. De wand is gemodelleerd in tien vakken. Op het plat een tienhoekig medaillon met een Chinese dame (lange lijs) zittend aan een tafel met een lotusbloem in haar hand; achter haar een lotus in een pot op een kruk. De wand is verdeeld in tien uitstralende vakken met daarin afwisselend een dame met een waaier of een takje in een omheinde tuin of bloeiende planten. De buitenwand met een doorlopende bloemtak. Gemerkt op de onderzijde met 'yù', jade, in een dubbele cirkel. Blauw-wit.\"]}, 'dcLanguage': ['nl'], 'dcLanguageLangAware': {'def': ['nl']}, 'dcTitleLangAware': {'en': ['Saucer dish with Chinese ladies in a fenced garden and flowering plants'], 'nl': ['Schaal met Chinese dames in een omheinde tuin en bloeiende planten']}, 'edmConcept': ['http://data.europeana.eu/concept/1757', 'http://data.europeana.eu/concept/1918'], 'edmConceptLabel': [{'def': 'Porzellan'}, {'def': 'Teller'}, {'def': 'Posliini'}, {'def': 'Lautanen'}, {'def': 'Фарфор'}, {'def': 'Тарелка'}, {'def': 'Porcelana'}, {'def': 'Prato'}, {'def': 'Порцелан'}, {'def': 'Чиния'}, {'def': 'Porcelianas'}, {'def': 'Lėkštė'}, {'def': 'Porcelāns'}, {'def': 'Šķīvis'}, {'def': 'Porculan'}, {'def': 'Tanjur'}, {'def': 'Porcelaine'}, {'def': 'Assiette'}, {'def': 'Porcelán'}, {'def': 'Porcelán'}, {'def': 'Tanier'}, {'def': 'Porcelan'}, {'def': 'Krožnik'}, {'def': 'Poirceallán'}, {'def': 'Pláta'}, {'def': 'Porcellana'}, {'def': 'Plat'}, {'def': 'Porslin'}, {'def': 'Tallrik'}, {'def': 'Πορσελάνη'}, {'def': 'Πιάτο'}, {'def': 'Porcelain'}, {'def': 'Plate'}, {'def': 'Porcellana'}, {'def': 'Piatto'}, {'def': 'Porcelana'}, {'def': 'Plato'}, {'def': 'Portselan'}, {'def': 'Taldrik'}, {'def': 'Porcelán'}, {'def': 'Talíř'}, {'def': 'Portzelana'}, {'def': 'Plater'}, {'def': 'Porcelana'}, {'def': 'Talerz'}, {'def': 'Porțelan'}, {'def': 'Farfurie'}, {'def': 'Porcelæn'}, {'def': 'Tallerken'}, {'def': 'Porselein'}, {'def': 'Bord'}], 'edmConceptPrefLabelLangAware': {'de': ['Porzellan', 'Teller'], 'fi': ['Posliini', 'Lautanen'], 'ru': ['Фарфор', 'Тарелка'], 'pt': ['Porcelana', 'Prato'], 'bg': ['Порцелан', 'Чиния'], 'lt': ['Porcelianas', 'Lėkštė'], 'lv': ['Porcelāns', 'Šķīvis'], 'hr': ['Porculan', 'Tanjur'], 'fr': ['Porcelaine', 'Assiette'], 'hu': ['Porcelán'], 'sk': ['Tanier', 'Porcelán'], 'sl': ['Porcelan', 'Krožnik'], 'ga': ['Poirceallán', 'Pláta'], 'ca': ['Porcellana', 'Plat'], 'sv': ['Tallrik', 'Porslin'], 'el': ['Πορσελάνη', 'Πιάτο'], 'en': ['Porcelain', 'Plate'], 'it': ['Porcellana', 'Piatto'], 'es': ['Porcelana', 'Plato'], 'et': ['Portselan', 'Taldrik'], 'cs': ['Talíř', 'Porcelán'], 'eu': ['Portzelana', 'Plater'], 'pl': ['Porcelana', 'Talerz'], 'ro': ['Farfurie', 'Porțelan'], 'da': ['Porcelæn', 'Tallerken'], 'nl': ['Bord', 'Porselein']}, 'edmDatasetName': ['90402_M_NL_Rijksmuseum'], 'edmIsShownAt': ['http://hdl.handle.net/10934/RM0001.COLLECT.2720'], 'edmIsShownBy': ['https://lh3.googleusercontent.com/H7xmhhV4ivcxilI_i28v2lkL2tolRvnw8MU2e1RWkFLx-Ikvky0RpupZz_3f4KYA4mjARLs_zwjmmYQJGESiqe97Vmc=s0'], 'edmPreview': ['https://api.europeana.eu/thumbnail/v2/url.json?uri=https%3A%2F%2Fwww.rijksmuseum.nl%2Fassetimage2.jsp%3Fid%3DAK-NM-6904-A&type=IMAGE'], 'europeanaCollectionName': ['90402_M_NL_Rijksmuseum'], 'europeanaCompleteness': 10, 'guid': 'https://www.europeana.eu/item/90402/AK_NM_6904_A?utm_source=api&utm_medium=api&utm_campaign=ndemalem', 'id': '/90402/AK_NM_6904_A', 'index': 0, 'language': ['nl'], 'link': 'https://api.europeana.eu/record/90402/AK_NM_6904_A.json?wskey=ndemalem', 'previewNoDistribute': False, 'provider': ['Rijksmuseum'], 'rights': ['http://creativecommons.org/publicdomain/mark/1.0/'], 'score': 55.18548, 'timestamp': 1688569558894, 'timestamp_created': '2014-05-27T13:05:19.556Z', 'timestamp_created_epoch': 1401195919556, 'timestamp_update': '2018-03-17T13:01:06.437Z', 'timestamp_update_epoch': 1521291666437, 'title': ['Saucer dish with Chinese ladies in a fenced garden and flowering plants', 'Schaal met Chinese dames in een omheinde tuin en bloeiende planten'], 'type': 'IMAGE', 'ugc': [False]}\n",
      "\n",
      "Title: ['Small cilindrical vase with two Chinese ladies and auspicious symbols', 'Kleine cilindrische vaas met twee Chinese dames en geluksvoorwerpen']\n",
      "Description: ['Kleine, cilindrische vaas van porselein met een korte nek en platte rand, beschilderd in onderglazuur blauw. Op de wand twee Chinese dames (lange lijzen) bij een bloeiende aster in een pot. Op de andere zijde antiquiteiten en kostbaarheden (vaas met pauwenveren, wierookbrander, parel en spiegel). Op de schouder drie kostbaarheden (parel, ruit, muzieksteen). Op de nek een band met spiraalwerk en stippen. Gemerkt op de onderzijde met het vier-karaktermerk van keizer Chenghua in een dubbele cirkel. Blauw-wit.']\n",
      "Link: https://www.europeana.eu/item/90402/AK_NM_6726?utm_source=api&utm_medium=api&utm_campaign=ndemalem\n",
      "Metadata: {'completeness': 10, 'country': ['Netherlands'], 'dataProvider': ['Rijksmuseum'], 'dcDescription': ['Kleine, cilindrische vaas van porselein met een korte nek en platte rand, beschilderd in onderglazuur blauw. Op de wand twee Chinese dames (lange lijzen) bij een bloeiende aster in een pot. Op de andere zijde antiquiteiten en kostbaarheden (vaas met pauwenveren, wierookbrander, parel en spiegel). Op de schouder drie kostbaarheden (parel, ruit, muzieksteen). Op de nek een band met spiraalwerk en stippen. Gemerkt op de onderzijde met het vier-karaktermerk van keizer Chenghua in een dubbele cirkel. Blauw-wit.'], 'dcDescriptionLangAware': {'nl': ['Kleine, cilindrische vaas van porselein met een korte nek en platte rand, beschilderd in onderglazuur blauw. Op de wand twee Chinese dames (lange lijzen) bij een bloeiende aster in een pot. Op de andere zijde antiquiteiten en kostbaarheden (vaas met pauwenveren, wierookbrander, parel en spiegel). Op de schouder drie kostbaarheden (parel, ruit, muzieksteen). Op de nek een band met spiraalwerk en stippen. Gemerkt op de onderzijde met het vier-karaktermerk van keizer Chenghua in een dubbele cirkel. Blauw-wit.']}, 'dcLanguage': ['nl'], 'dcLanguageLangAware': {'def': ['nl']}, 'dcTitleLangAware': {'en': ['Small cilindrical vase with two Chinese ladies and auspicious symbols'], 'nl': ['Kleine cilindrische vaas met twee Chinese dames en geluksvoorwerpen']}, 'edmConcept': ['http://data.europeana.eu/concept/1757'], 'edmConceptLabel': [{'def': 'Porzellan'}, {'def': 'Posliini'}, {'def': 'Фарфор'}, {'def': 'Porcelana'}, {'def': 'Порцелан'}, {'def': 'Porcelianas'}, {'def': 'Porcelāns'}, {'def': 'Porculan'}, {'def': 'Porcelaine'}, {'def': 'Porcelán'}, {'def': 'Porcelán'}, {'def': 'Porcelan'}, {'def': 'Poirceallán'}, {'def': 'Porcellana'}, {'def': 'Porslin'}, {'def': 'Πορσελάνη'}, {'def': 'Porcelain'}, {'def': 'Porcellana'}, {'def': 'Porcelana'}, {'def': 'Portselan'}, {'def': 'Porcelán'}, {'def': 'Portzelana'}, {'def': 'Porcelana'}, {'def': 'Porțelan'}, {'def': 'Porcelæn'}, {'def': 'Porselein'}], 'edmConceptPrefLabelLangAware': {'de': ['Porzellan'], 'fi': ['Posliini'], 'ru': ['Фарфор'], 'pt': ['Porcelana'], 'bg': ['Порцелан'], 'lt': ['Porcelianas'], 'lv': ['Porcelāns'], 'hr': ['Porculan'], 'fr': ['Porcelaine'], 'hu': ['Porcelán'], 'sk': ['Porcelán'], 'sl': ['Porcelan'], 'ga': ['Poirceallán'], 'ca': ['Porcellana'], 'sv': ['Porslin'], 'el': ['Πορσελάνη'], 'en': ['Porcelain'], 'it': ['Porcellana'], 'es': ['Porcelana'], 'et': ['Portselan'], 'cs': ['Porcelán'], 'eu': ['Portzelana'], 'pl': ['Porcelana'], 'ro': ['Porțelan'], 'da': ['Porcelæn'], 'nl': ['Porselein']}, 'edmDatasetName': ['90402_M_NL_Rijksmuseum'], 'edmIsShownAt': ['http://hdl.handle.net/10934/RM0001.COLLECT.353993'], 'edmIsShownBy': ['https://lh3.googleusercontent.com/AEFvVJPioESJmUf-FDYxjKvqC6z7kNw1tak-d0z55zlN_cn6-wKUjZtC40nAsBtOdIVFpfOHg-qB0NLbICoy8FR99w=s0'], 'edmPreview': ['https://api.europeana.eu/thumbnail/v2/url.json?uri=https%3A%2F%2Flh3.googleusercontent.com%2FAEFvVJPioESJmUf-FDYxjKvqC6z7kNw1tak-d0z55zlN_cn6-wKUjZtC40nAsBtOdIVFpfOHg-qB0NLbICoy8FR99w%3Ds0&type=IMAGE'], 'europeanaCollectionName': ['90402_M_NL_Rijksmuseum'], 'europeanaCompleteness': 10, 'guid': 'https://www.europeana.eu/item/90402/AK_NM_6726?utm_source=api&utm_medium=api&utm_campaign=ndemalem', 'id': '/90402/AK_NM_6726', 'index': 0, 'language': ['nl'], 'link': 'https://api.europeana.eu/record/90402/AK_NM_6726.json?wskey=ndemalem', 'previewNoDistribute': False, 'provider': ['Rijksmuseum'], 'rights': ['http://creativecommons.org/publicdomain/mark/1.0/'], 'score': 59.360535, 'timestamp': 1688569557569, 'timestamp_created': '2014-05-27T13:05:08.482Z', 'timestamp_created_epoch': 1401195908482, 'timestamp_update': '2018-03-17T13:01:05.765Z', 'timestamp_update_epoch': 1521291665765, 'title': ['Small cilindrical vase with two Chinese ladies and auspicious symbols', 'Kleine cilindrische vaas met twee Chinese dames en geluksvoorwerpen'], 'type': 'IMAGE', 'ugc': [False]}\n",
      "\n",
      "Title: ['Cilindrical vase with Chinese ladies and flower pots', 'Cilindrische vaas met Chinese dames en bloempotten']\n",
      "Description: [\"Kleine, cilindrische vaas van porselein met een rechte schouder en korte, spreidende nek met een vlakke rand, beschilderd in onderglazuur blauw. Op de wand Chinese dames (lange lijzen) bij bloempotten op een kruk. Op de schouder kostbaarheden (parel, boeken). Op de nek een band met stippen. Gemerkt op de onderzijde met 'Fú'. Blauw-wit.\"]\n",
      "Link: https://www.europeana.eu/item/90402/AK_NM_6723_B?utm_source=api&utm_medium=api&utm_campaign=ndemalem\n",
      "Metadata: {'completeness': 10, 'country': ['Netherlands'], 'dataProvider': ['Rijksmuseum'], 'dcDescription': [\"Kleine, cilindrische vaas van porselein met een rechte schouder en korte, spreidende nek met een vlakke rand, beschilderd in onderglazuur blauw. Op de wand Chinese dames (lange lijzen) bij bloempotten op een kruk. Op de schouder kostbaarheden (parel, boeken). Op de nek een band met stippen. Gemerkt op de onderzijde met 'Fú'. Blauw-wit.\"], 'dcDescriptionLangAware': {'nl': [\"Kleine, cilindrische vaas van porselein met een rechte schouder en korte, spreidende nek met een vlakke rand, beschilderd in onderglazuur blauw. Op de wand Chinese dames (lange lijzen) bij bloempotten op een kruk. Op de schouder kostbaarheden (parel, boeken). Op de nek een band met stippen. Gemerkt op de onderzijde met 'Fú'. Blauw-wit.\"]}, 'dcLanguage': ['nl'], 'dcLanguageLangAware': {'def': ['nl']}, 'dcTitleLangAware': {'en': ['Cilindrical vase with Chinese ladies and flower pots'], 'nl': ['Cilindrische vaas met Chinese dames en bloempotten']}, 'edmConcept': ['http://data.europeana.eu/concept/1757'], 'edmConceptLabel': [{'def': 'Porzellan'}, {'def': 'Posliini'}, {'def': 'Фарфор'}, {'def': 'Porcelana'}, {'def': 'Порцелан'}, {'def': 'Porcelianas'}, {'def': 'Porcelāns'}, {'def': 'Porculan'}, {'def': 'Porcelaine'}, {'def': 'Porcelán'}, {'def': 'Porcelán'}, {'def': 'Porcelan'}, {'def': 'Poirceallán'}, {'def': 'Porcellana'}, {'def': 'Porslin'}, {'def': 'Πορσελάνη'}, {'def': 'Porcelain'}, {'def': 'Porcellana'}, {'def': 'Porcelana'}, {'def': 'Portselan'}, {'def': 'Porcelán'}, {'def': 'Portzelana'}, {'def': 'Porcelana'}, {'def': 'Porțelan'}, {'def': 'Porcelæn'}, {'def': 'Porselein'}], 'edmConceptPrefLabelLangAware': {'de': ['Porzellan'], 'fi': ['Posliini'], 'ru': ['Фарфор'], 'pt': ['Porcelana'], 'bg': ['Порцелан'], 'lt': ['Porcelianas'], 'lv': ['Porcelāns'], 'hr': ['Porculan'], 'fr': ['Porcelaine'], 'hu': ['Porcelán'], 'sk': ['Porcelán'], 'sl': ['Porcelan'], 'ga': ['Poirceallán'], 'ca': ['Porcellana'], 'sv': ['Porslin'], 'el': ['Πορσελάνη'], 'en': ['Porcelain'], 'it': ['Porcellana'], 'es': ['Porcelana'], 'et': ['Portselan'], 'cs': ['Porcelán'], 'eu': ['Portzelana'], 'pl': ['Porcelana'], 'ro': ['Porțelan'], 'da': ['Porcelæn'], 'nl': ['Porselein']}, 'edmDatasetName': ['90402_M_NL_Rijksmuseum'], 'edmIsShownAt': ['http://hdl.handle.net/10934/RM0001.COLLECT.19969'], 'edmIsShownBy': ['https://lh3.googleusercontent.com/Jbq3qOv5eLln0sEpeamcd8Ox2FuS6AkeMriKKmS3-BwqB345Yv7zOcmPzWwlGcUodZMcn3-8FzFeWnI-qJhZHsWWt-Q0=s0'], 'edmPreview': ['https://api.europeana.eu/thumbnail/v2/url.json?uri=https%3A%2F%2Flh3.googleusercontent.com%2FJbq3qOv5eLln0sEpeamcd8Ox2FuS6AkeMriKKmS3-BwqB345Yv7zOcmPzWwlGcUodZMcn3-8FzFeWnI-qJhZHsWWt-Q0%3Ds0&type=IMAGE'], 'europeanaCollectionName': ['90402_M_NL_Rijksmuseum'], 'europeanaCompleteness': 10, 'guid': 'https://www.europeana.eu/item/90402/AK_NM_6723_B?utm_source=api&utm_medium=api&utm_campaign=ndemalem', 'id': '/90402/AK_NM_6723_B', 'index': 0, 'language': ['nl'], 'link': 'https://api.europeana.eu/record/90402/AK_NM_6723_B.json?wskey=ndemalem', 'previewNoDistribute': False, 'provider': ['Rijksmuseum'], 'rights': ['http://creativecommons.org/publicdomain/mark/1.0/'], 'score': 64.33444, 'timestamp': 1688569557253, 'timestamp_created': '2014-05-27T13:05:08.469Z', 'timestamp_created_epoch': 1401195908469, 'timestamp_update': '2018-03-17T13:01:05.752Z', 'timestamp_update_epoch': 1521291665752, 'title': ['Cilindrical vase with Chinese ladies and flower pots', 'Cilindrische vaas met Chinese dames en bloempotten'], 'type': 'IMAGE', 'ugc': [False]}\n",
      "\n",
      "\n",
      "Total image URLs found: 95\n",
      "http://balat.kikirpa.be/image/B208112\n",
      "https://lh3.googleusercontent.com/FTM_uYyfOCon9w-auowuF_w-gJB_AwSQzo4ZhDGVL7oH5le3oyzrJOOAD2uFOdQc5PROrFmjf4MzrRZvVbPrROtcTu0=s0\n",
      "https://lh3.googleusercontent.com/H7xmhhV4ivcxilI_i28v2lkL2tolRvnw8MU2e1RWkFLx-Ikvky0RpupZz_3f4KYA4mjARLs_zwjmmYQJGESiqe97Vmc=s0\n",
      "https://lh3.googleusercontent.com/AEFvVJPioESJmUf-FDYxjKvqC6z7kNw1tak-d0z55zlN_cn6-wKUjZtC40nAsBtOdIVFpfOHg-qB0NLbICoy8FR99w=s0\n",
      "https://lh3.googleusercontent.com/Jbq3qOv5eLln0sEpeamcd8Ox2FuS6AkeMriKKmS3-BwqB345Yv7zOcmPzWwlGcUodZMcn3-8FzFeWnI-qJhZHsWWt-Q0=s0\n",
      "Image URLs saved to 'chinese_ladies_images.txt'\n"
     ]
    }
   ],
   "source": [
    "import json\n",
    "\n",
    "# Load the dataset\n",
    "with open('chinese_porcelain_metadata.json', 'r', encoding='utf-8') as f:\n",
    "    items = json.load(f)\n",
    "\n",
    "# Initialize a list to store filtered results related to \"Chinese ladies\"\n",
    "chinese_ladies_items = []\n",
    "\n",
    "# Initialize a list to store image URLs\n",
    "image_urls = []\n",
    "\n",
    "# Define the search term\n",
    "search_term = \"Chinese ladies\"\n",
    "\n",
    "# Filter the dataset\n",
    "for item in items:\n",
    "    # Ensure item is a dictionary before accessing fields\n",
    "    if isinstance(item, dict):\n",
    "        # Extract title and description, handling cases where they might be lists\n",
    "        title_list = item.get('title', [])\n",
    "        description_list = item.get('dcDescription', [])\n",
    "        \n",
    "        # Convert lists to strings if needed\n",
    "        title = ' '.join(title_list).lower() if isinstance(title_list, list) else title_list.lower()\n",
    "        description = ' '.join(description_list).lower() if isinstance(description_list, list) else description_list.lower()\n",
    "        \n",
    "        # Check if search term is in title or description\n",
    "        if search_term.lower() in title or search_term.lower() in description:\n",
    "            chinese_ladies_items.append(item)\n",
    "            \n",
    "            # Extract image URLs from known fields\n",
    "            # This assumes 'edmIsShownBy' or similar fields contain URLs\n",
    "            image_url = item.get('edmIsShownBy') or item.get('edmIsShownAt') or item.get('object')\n",
    "            \n",
    "            if image_url:\n",
    "                if isinstance(image_url, list):\n",
    "                    image_urls.extend(image_url)\n",
    "                else:\n",
    "                    image_urls.append(image_url)\n",
    "\n",
    "# Print the number of items found and output some examples\n",
    "print(f\"Total items related to '{search_term}': {len(chinese_ladies_items)}\")\n",
    "\n",
    "# Print a few example items\n",
    "for item in chinese_ladies_items[:5]:  # Adjust the number to print more or fewer items\n",
    "    print(f\"Title: {item.get('title')}\")\n",
    "    print(f\"Description: {item.get('dcDescription')}\")\n",
    "    print(f\"Link: {item.get('guid')}\")\n",
    "    print(f\"Metadata: {item}\\n\")\n",
    "\n",
    "# Print image URLs\n",
    "print(f\"\\nTotal image URLs found: {len(image_urls)}\")\n",
    "for url in image_urls[:5]:  # Print the first 5 URLs for brevity\n",
    "    print(url)\n",
    "\n",
    "# Optionally, save the filtered data and image URLs to new JSON files\n",
    "with open('chinese_ladies_metadata.json', 'w', encoding='utf-8') as f:\n",
    "    json.dump(chinese_ladies_items, f, ensure_ascii=False, indent=4)\n",
    "\n",
    "with open('image_urls.json', 'w', encoding='utf-8') as f:\n",
    "    json.dump(image_urls, f, ensure_ascii=False, indent=4)\n",
    "\n",
    "print(f\"Image URLs saved to 'chinese_ladies_images.txt'\")"
   ]
  },
  {
   "cell_type": "code",
   "execution_count": 3,
   "id": "8a3e9eff",
   "metadata": {},
   "outputs": [
    {
     "name": "stdout",
     "output_type": "stream",
     "text": [
      "Requirement already satisfied: requests in /Users/shangliujun/opt/anaconda3/lib/python3.9/site-packages (2.27.1)\r\n",
      "Requirement already satisfied: Pillow in /Users/shangliujun/opt/anaconda3/lib/python3.9/site-packages (9.0.1)\r\n",
      "Requirement already satisfied: idna<4,>=2.5 in /Users/shangliujun/opt/anaconda3/lib/python3.9/site-packages (from requests) (3.3)\r\n",
      "Requirement already satisfied: certifi>=2017.4.17 in /Users/shangliujun/opt/anaconda3/lib/python3.9/site-packages (from requests) (2021.10.8)\r\n",
      "Requirement already satisfied: charset-normalizer~=2.0.0 in /Users/shangliujun/opt/anaconda3/lib/python3.9/site-packages (from requests) (2.0.4)\r\n",
      "Requirement already satisfied: urllib3<1.27,>=1.21.1 in /Users/shangliujun/opt/anaconda3/lib/python3.9/site-packages (from requests) (1.26.9)\r\n"
     ]
    }
   ],
   "source": [
    "!pip install requests Pillow"
   ]
  },
  {
   "cell_type": "code",
   "execution_count": 5,
   "id": "359f7c64",
   "metadata": {},
   "outputs": [
    {
     "name": "stdout",
     "output_type": "stream",
     "text": [
      "Total items related to 'Chinese ladies': 95\n",
      "Title: ['Two Chinese ladies in a garden', 'Deux dames chinoises dans un jardin']\n",
      "Description: ['flower', 'Butterfly (http://vocab.getty.edu/aat/300417320)', 'mountainous landscape', 'garden', 'China (http://vocab.getty.edu/aat/1814991)', 'base [furniture] (http://vocab.getty.edu/aat/300001656)', 'deciduous tree', 'decorative pot (http://vocab.getty.edu/aat/300260048)', 'construction', 'Deep platter, polychrome decoration, Two Chinese ladies in a garden, green family.', \"Inst./Coll.: Musées Royaux d'Art et d'Histoire (Bruxelles)  / Inv.: 4716\", 'fleur', 'papillon  (http://vocab.getty.edu/aat/300417320)', 'motif grillagé[ornement]', 'paysage montagneux', 'jardin', 'Chine  (http://vocab.getty.edu/aat/1814991)', 'socle[mobilier]  (http://vocab.getty.edu/aat/300001656)', 'barrière  (http://vocab.getty.edu/aat/)', 'arbre à feuilles caduques', 'pot décoratif  (http://vocab.getty.edu/aat/300260048)', 'costume traditionnel  (http://vocab.getty.edu/aat/300380192)', 'pivoine  (http://vocab.getty.edu/aat/300380052)', 'cerisier[arbre]', 'construction', 'Plat profond, décor polychrome, Deux dames chinoises dans un jardin, famille verte.']\n",
      "Link: https://www.europeana.eu/item/376/photography_ProvidedCHO_Royal_Institute_for_Cultural_Heritage__KIK_IRPA___Brussels__Belgium__KIK_IRPA_n__11061314?utm_source=api&utm_medium=api&utm_campaign=ndemalem\n",
      "Metadata: {'completeness': 10, 'country': ['Belgium'], 'dataProvider': ['Royal Institute for Cultural Heritage'], 'dcCreator': ['Unknown (ceramist)', 'inconnu (céramiste)', 'inconnu'], 'dcCreatorLangAware': {'en': ['Unknown (ceramist)'], 'fr': ['inconnu (céramiste)', 'inconnu']}, 'dcDescription': ['flower', 'Butterfly (http://vocab.getty.edu/aat/300417320)', 'mountainous landscape', 'garden', 'China (http://vocab.getty.edu/aat/1814991)', 'base [furniture] (http://vocab.getty.edu/aat/300001656)', 'deciduous tree', 'decorative pot (http://vocab.getty.edu/aat/300260048)', 'construction', 'Deep platter, polychrome decoration, Two Chinese ladies in a garden, green family.', \"Inst./Coll.: Musées Royaux d'Art et d'Histoire (Bruxelles)  / Inv.: 4716\", 'fleur', 'papillon  (http://vocab.getty.edu/aat/300417320)', 'motif grillagé[ornement]', 'paysage montagneux', 'jardin', 'Chine  (http://vocab.getty.edu/aat/1814991)', 'socle[mobilier]  (http://vocab.getty.edu/aat/300001656)', 'barrière  (http://vocab.getty.edu/aat/)', 'arbre à feuilles caduques', 'pot décoratif  (http://vocab.getty.edu/aat/300260048)', 'costume traditionnel  (http://vocab.getty.edu/aat/300380192)', 'pivoine  (http://vocab.getty.edu/aat/300380052)', 'cerisier[arbre]', 'construction', 'Plat profond, décor polychrome, Deux dames chinoises dans un jardin, famille verte.'], 'dcDescriptionLangAware': {'en': ['flower', 'Butterfly (http://vocab.getty.edu/aat/300417320)', 'mountainous landscape', 'garden', 'China (http://vocab.getty.edu/aat/1814991)', 'base [furniture] (http://vocab.getty.edu/aat/300001656)', 'deciduous tree', 'decorative pot (http://vocab.getty.edu/aat/300260048)', 'construction', 'Deep platter, polychrome decoration, Two Chinese ladies in a garden, green family.'], 'fr': [\"Inst./Coll.: Musées Royaux d'Art et d'Histoire (Bruxelles)  / Inv.: 4716\", 'fleur', 'papillon  (http://vocab.getty.edu/aat/300417320)', 'motif grillagé[ornement]', 'paysage montagneux', 'jardin', 'Chine  (http://vocab.getty.edu/aat/1814991)', 'socle[mobilier]  (http://vocab.getty.edu/aat/300001656)', 'barrière  (http://vocab.getty.edu/aat/)', 'arbre à feuilles caduques', 'pot décoratif  (http://vocab.getty.edu/aat/300260048)', 'costume traditionnel  (http://vocab.getty.edu/aat/300380192)', 'pivoine  (http://vocab.getty.edu/aat/300380052)', 'cerisier[arbre]', 'construction', 'Plat profond, décor polychrome, Deux dames chinoises dans un jardin, famille verte.']}, 'dcTitleLangAware': {'en': ['Two Chinese ladies in a garden'], 'fr': ['Deux dames chinoises dans un jardin']}, 'edmConcept': ['http://data.europeana.eu/concept/1683', 'http://vocab.getty.edu/aat/300043053', 'http://vocab.getty.edu/aat/300010662', 'http://data.europeana.eu/concept/1864', 'http://data.europeana.eu/concept/1757', 'http://data.europeana.eu/concept/2352'], 'edmConceptLabel': [{'def': 'Genre der Fotografie'}, {'def': 'Garten'}, {'def': 'Porzellan'}, {'def': 'Blume'}, {'def': 'Valokuvaustyyli'}, {'def': 'Puutarha'}, {'def': 'Posliini'}, {'def': 'Fotografigenre'}, {'def': 'Trädgård'}, {'def': 'Porslin'}, {'def': 'Blomma'}, {'def': 'Жанр фотографии'}, {'def': 'Сад'}, {'def': 'Фарфор'}, {'def': 'Género fotográfico'}, {'def': 'porcelana (material)'}, {'def': 'Jardim'}, {'def': 'Porcelana'}, {'def': 'Είδος φωτογραφίας'}, {'def': 'Κήπος'}, {'def': 'Πορσελάνη'}, {'def': 'Άνθος'}, {'def': 'Photography genre'}, {'def': 'platters (carrying dishes)'}, {'def': 'porcelain (material)'}, {'def': 'Garden'}, {'def': 'Porcelain'}, {'def': 'Flower'}, {'def': 'Generi fotografici'}, {'def': 'Giardino'}, {'def': 'Porcellana'}, {'def': 'Fiore'}, {'def': 'Genre photographique'}, {'def': 'plat'}, {'def': 'porcelaine (matériau)'}, {'def': 'Jardin'}, {'def': 'Porcelaine'}, {'def': 'Fleur'}, {'def': 'Fotográfia jellege'}, {'def': 'Kert'}, {'def': 'Porcelán'}, {'def': 'Género fotográfico'}, {'def': 'azafates (fuentes para servir)'}, {'def': 'porcelana'}, {'def': 'Jardín'}, {'def': 'Porcelana'}, {'def': 'Fotografický žánr'}, {'def': 'Zahrada'}, {'def': 'Porcelán'}, {'def': 'Genero fotografiko'}, {'def': 'Lorategi'}, {'def': 'Portzelana'}, {'def': 'Seánra grianghrafadóireachta'}, {'def': 'Gairdín'}, {'def': 'Poirceallán'}, {'def': 'Gatunek fotograficzny'}, {'def': 'Ogród'}, {'def': 'Porcelana'}, {'def': 'Fotografisk genre'}, {'def': 'Have'}, {'def': 'Porcelæn'}, {'def': 'Gen fotografic'}, {'def': 'Grădina'}, {'def': 'Porțelan'}, {'def': 'Gènere fotogràfic'}, {'def': 'Jardí'}, {'def': 'Porcellana'}, {'def': 'Fotografiegenre'}, {'def': 'schotels'}, {'def': 'porselein (materiaal)'}, {'def': 'Tuin'}, {'def': 'Porselein'}, {'def': 'Bloem'}, {'def': 'Градина'}, {'def': 'Порцелан'}, {'def': 'Sodas'}, {'def': 'Porcelianas'}, {'def': 'Vrt'}, {'def': 'Porculan'}, {'def': 'Dārzs'}, {'def': 'Porcelāns'}, {'def': 'Záhrada'}, {'def': 'Porcelán'}, {'def': 'Vrt'}, {'def': 'Porcelan'}, {'def': 'Aed'}, {'def': 'Portselan'}], 'edmConceptPrefLabelLangAware': {'de': ['Garten', 'Porzellan', 'Blume', 'Genre der Fotografie'], 'fi': ['Puutarha', 'Posliini', 'Valokuvaustyyli'], 'ru': ['Фарфор', 'Сад', 'Жанр фотографии'], 'pt': ['Porcelana', 'Género fotográfico', 'porcelana (material)', 'Jardim'], 'bg': ['Порцелан', 'Градина'], 'lt': ['Porcelianas', 'Sodas'], 'hr': ['Porculan', 'Vrt'], 'lv': ['Porcelāns', 'Dārzs'], 'fr': ['Genre photographique', 'porcelaine (matériau)', 'Porcelaine', 'Fleur', 'plat', 'Jardin'], 'hu': ['Fotográfia jellege', 'Porcelán', 'Kert'], 'sk': ['Porcelán', 'Záhrada'], 'sl': ['Porcelan', 'Vrt'], 'ga': ['Seánra grianghrafadóireachta', 'Poirceallán', 'Gairdín'], 'ca': ['Gènere fotogràfic', 'Porcellana', 'Jardí'], 'sv': ['Trädgård', 'Fotografigenre', 'Porslin', 'Blomma'], 'el': ['Κήπος', 'Πορσελάνη', 'Είδος φωτογραφίας', 'Άνθος'], 'en': ['Photography genre', 'Garden', 'Porcelain', 'Flower', 'porcelain (material)', 'platters (carrying dishes)'], 'it': ['Porcellana', 'Giardino', 'Fiore', 'Generi fotografici'], 'es': ['Porcelana', 'porcelana', 'Género fotográfico', 'Jardín', 'azafates (fuentes para servir)'], 'et': ['Aed', 'Portselan'], 'cs': ['Fotografický žánr', 'Zahrada', 'Porcelán'], 'eu': ['Genero fotografiko', 'Lorategi', 'Portzelana'], 'pl': ['Porcelana', 'Ogród', 'Gatunek fotograficzny'], 'da': ['Fotografisk genre', 'Porcelæn', 'Have'], 'ro': ['Grădina', 'Porțelan', 'Gen fotografic'], 'nl': ['Tuin', 'Fotografiegenre', 'schotels', 'porselein (materiaal)', 'Porselein', 'Bloem']}, 'edmDatasetName': ['376_Photoconsortium_KIK_IRPA'], 'edmIsShownAt': ['http://balat.kikirpa.be/object/11061314'], 'edmIsShownBy': ['http://balat.kikirpa.be/image/B208112'], 'edmPlaceAltLabel': [{'def': 'VR China'}, {'def': 'China'}, {'def': 'Rotchina'}, {'def': 'V.R. China'}, {'def': 'Chinesische Volksrepublik'}, {'def': 'Folkrepubliken Kina'}, {'def': 'Mittens rike'}, {'def': 'КНР'}, {'def': 'Поднебесная'}, {'def': 'Материковый Китай'}, {'def': 'Континентальный Китай'}, {'def': 'Китайская Народная Республика'}, {'def': 'Kiinan kansantasavalta'}, {'def': 'República Popular da China'}, {'def': 'КНР'}, {'def': 'Китайска народна република'}, {'def': 'Ċina'}, {'def': 'Repubblika Popolari taċ-Ċina'}, {'def': 'Κίνα'}, {'def': 'China'}, {'def': 'CN'}, {'def': 'PR China'}, {'def': 'PRC'}, {'def': 'Cn'}, {'def': 'CHN'}, {'def': 'China PR'}, {'def': 'Mainland China'}, {'def': 'RPC'}, {'def': 'Kina'}, {'def': 'Ķīnas Tautas Republika'}, {'def': 'RPC'}, {'def': 'Cina popolare'}, {'def': 'Repubblica Popolare Cinese'}, {'def': 'Chine communiste'}, {'def': 'Chine populaire'}, {'def': 'RPC'}, {'def': 'Chine continentale'}, {'def': 'Chine'}, {'def': 'CN'}, {'def': 'La République populaire de Chine'}, {'def': 'Kínai Népköztársaság'}, {'def': 'República popular de China'}, {'def': 'China Popular'}, {'def': 'República Popular China'}, {'def': 'Hiina Rahvavabariik'}, {'def': 'Hiina RV'}, {'def': 'Txina'}, {'def': 'CN'}, {'def': 'Txina Popularra'}, {'def': 'CHN'}, {'def': 'Čínská lidová republika'}, {'def': 'ČLR'}, {'def': 'Zipang'}, {'def': 'Cipang'}, {'def': 'Říše středu'}, {'def': 'Čínska ľudová republika'}, {'def': 'Chiny'}, {'def': 'China'}, {'def': 'CN'}, {'def': 'CHN'}, {'def': 'La Xina'}, {'def': 'Xina popular'}, {'def': 'Xina'}], 'edmPlaceAltLabelLangAware': {'de': ['VR China', 'China', 'Rotchina', 'V.R. China', 'Chinesische Volksrepublik'], 'sv': ['Folkrepubliken Kina', 'Mittens rike'], 'ru': ['КНР', 'Поднебесная', 'Материковый Китай', 'Континентальный Китай', 'Китайская Народная Республика'], 'fi': ['Kiinan kansantasavalta'], 'pt': ['República Popular da China'], 'bg': ['КНР', 'Китайска народна република'], 'mt': ['Ċina', 'Repubblika Popolari taċ-Ċina'], 'el': ['Κίνα'], 'en': ['China', 'CN', 'PR China', 'PRC', 'Cn', 'CHN', 'China PR', 'Mainland China', 'RPC'], 'hr': ['Kina'], 'lv': ['Ķīnas Tautas Republika'], 'it': ['RPC', 'Cina popolare', 'Repubblica Popolare Cinese'], 'fr': ['Chine communiste', 'Chine populaire', 'RPC', 'Chine continentale', 'Chine', 'CN', 'La République populaire de Chine'], 'hu': ['Kínai Népköztársaság'], 'es': ['República popular de China', 'China Popular', 'República Popular China'], 'et': ['Hiina Rahvavabariik', 'Hiina RV'], 'eu': ['Txina', 'CN', 'Txina Popularra', 'CHN'], 'cs': ['Čínská lidová republika', 'ČLR', 'Zipang', 'Cipang', 'Říše středu'], 'sk': ['Čínska ľudová republika'], 'pl': ['Chiny'], 'nl': ['China', 'CN', 'CHN'], 'ca': ['La Xina', 'Xina popular', 'Xina']}, 'edmPlaceLabel': [{'def': 'China'}, {'def': \"People's Republic of China\"}, {'def': 'Volksrepublik China'}, {'def': 'Kiina'}, {'def': 'Китай'}, {'def': 'China'}, {'def': 'Китай'}, {'def': 'Kinijos Liaudies Respublika'}, {'def': 'Ķīna'}, {'def': 'Narodna Republika Kina'}, {'def': 'République populaire de Chine'}, {'def': 'Kína'}, {'def': 'Čína'}, {'def': 'Ljudska republika Kitajska'}, {'def': 'Daon-Phoblacht na Síne'}, {'def': 'República Popular de la Xina'}, {'def': 'Kina'}, {'def': 'Repubblika tal-Poplu taċ-Ċina'}, {'def': 'Λαϊκή Δημοκρατία της Κίνας'}, {'def': 'Cina'}, {'def': 'China'}, {'def': 'Hiina'}, {'def': 'Txinako Herri Errepublika'}, {'def': 'Čína'}, {'def': 'Chińska Republika Ludowa'}, {'def': 'Republica Populară Chineză'}, {'def': 'Kina'}, {'def': 'Volksrepubliek China'}], 'edmPlaceLabelLangAware': {'de': ['Volksrepublik China'], 'fi': ['Kiina'], 'ru': ['Китай'], 'pt': ['China'], 'bg': ['Китай'], 'lt': ['Kinijos Liaudies Respublika'], 'lv': ['Ķīna'], 'hr': ['Narodna Republika Kina'], 'fr': ['République populaire de Chine'], 'hu': ['Kína'], 'sk': ['Čína'], 'sl': ['Ljudska republika Kitajska'], 'ga': ['Daon-Phoblacht na Síne'], 'ca': ['República Popular de la Xina'], 'sv': ['Kina'], 'mt': ['Repubblika tal-Poplu taċ-Ċina'], 'el': ['Λαϊκή Δημοκρατία της Κίνας'], 'en': ['China', \"People's Republic of China\"], 'it': ['Cina'], 'es': ['China'], 'et': ['Hiina'], 'eu': ['Txinako Herri Errepublika'], 'cs': ['Čína'], 'pl': ['Chińska Republika Ludowa'], 'ro': ['Republica Populară Chineză'], 'da': ['Kina'], 'nl': ['Volksrepubliek China']}, 'edmPlaceLatitude': ['35.0', '35.844723'], 'edmPlaceLongitude': ['105.0', '103.45194'], 'edmPreview': ['https://api.europeana.eu/thumbnail/v2/url.json?uri=http%3A%2F%2Fbalat.kikirpa.be%2Fimage%2FB208112%2Fsmall&type=IMAGE'], 'edmTimespanLabel': [{'def': '1701'}], 'edmTimespanLabelLangAware': {'zxx': ['1701']}, 'europeanaCollectionName': ['376_Photoconsortium_KIK_IRPA'], 'europeanaCompleteness': 10, 'guid': 'https://www.europeana.eu/item/376/photography_ProvidedCHO_Royal_Institute_for_Cultural_Heritage__KIK_IRPA___Brussels__Belgium__KIK_IRPA_n__11061314?utm_source=api&utm_medium=api&utm_campaign=ndemalem', 'id': '/376/photography_ProvidedCHO_Royal_Institute_for_Cultural_Heritage__KIK_IRPA___Brussels__Belgium__KIK_IRPA_n__11061314', 'index': 0, 'language': ['fr'], 'link': 'https://api.europeana.eu/record/376/photography_ProvidedCHO_Royal_Institute_for_Cultural_Heritage__KIK_IRPA___Brussels__Belgium__KIK_IRPA_n__11061314.json?wskey=ndemalem', 'previewNoDistribute': False, 'provider': ['PHOTOCONSORTIUM'], 'rights': ['http://creativecommons.org/licenses/by-sa/4.0/'], 'score': 49.010498, 'timestamp': 1688699279955, 'timestamp_created': '2021-07-29T08:51:24.051Z', 'timestamp_created_epoch': 1627548684051, 'timestamp_update': '2021-07-29T08:51:24.051Z', 'timestamp_update_epoch': 1627548684051, 'title': ['Two Chinese ladies in a garden', 'Deux dames chinoises dans un jardin'], 'type': 'IMAGE', 'ugc': [False], 'year': ['1701']}\n",
      "\n",
      "Title: ['Ovoid covered jar with Chinese ladies in a landscape', 'Eivormige deksel met Chinese dames in een landschap']\n",
      "Description: [\"Eivormige deksel van porselein, beschilderd in onderglazuur blauw. Op de buik een landschap met twee 'go' spelende Chinese dames (lange lijzen). Daarnaast een twee staande dames, waarvan één met een qin. De voorstelling wordt afgesloten met een wolkmotief. Op de deksel twee dansende jongens (zotjes). Gemerkt op de onderzijde met een artemisiablad. Blauw-wit.\"]\n",
      "Link: https://www.europeana.eu/item/90402/AK_NM_6928_A?utm_source=api&utm_medium=api&utm_campaign=ndemalem\n",
      "Metadata: {'completeness': 10, 'country': ['Netherlands'], 'dataProvider': ['Rijksmuseum'], 'dcDescription': [\"Eivormige deksel van porselein, beschilderd in onderglazuur blauw. Op de buik een landschap met twee 'go' spelende Chinese dames (lange lijzen). Daarnaast een twee staande dames, waarvan één met een qin. De voorstelling wordt afgesloten met een wolkmotief. Op de deksel twee dansende jongens (zotjes). Gemerkt op de onderzijde met een artemisiablad. Blauw-wit.\"], 'dcDescriptionLangAware': {'nl': [\"Eivormige deksel van porselein, beschilderd in onderglazuur blauw. Op de buik een landschap met twee 'go' spelende Chinese dames (lange lijzen). Daarnaast een twee staande dames, waarvan één met een qin. De voorstelling wordt afgesloten met een wolkmotief. Op de deksel twee dansende jongens (zotjes). Gemerkt op de onderzijde met een artemisiablad. Blauw-wit.\"]}, 'dcLanguage': ['nl'], 'dcLanguageLangAware': {'def': ['nl']}, 'dcTitleLangAware': {'en': ['Ovoid covered jar with Chinese ladies in a landscape'], 'nl': ['Eivormige deksel met Chinese dames in een landschap']}, 'edmConcept': ['http://data.europeana.eu/concept/1757'], 'edmConceptLabel': [{'def': 'Porzellan'}, {'def': 'Posliini'}, {'def': 'Фарфор'}, {'def': 'Porcelana'}, {'def': 'Порцелан'}, {'def': 'Porcelianas'}, {'def': 'Porcelāns'}, {'def': 'Porculan'}, {'def': 'Porcelaine'}, {'def': 'Porcelán'}, {'def': 'Porcelán'}, {'def': 'Porcelan'}, {'def': 'Poirceallán'}, {'def': 'Porcellana'}, {'def': 'Porslin'}, {'def': 'Πορσελάνη'}, {'def': 'Porcelain'}, {'def': 'Porcellana'}, {'def': 'Porcelana'}, {'def': 'Portselan'}, {'def': 'Porcelán'}, {'def': 'Portzelana'}, {'def': 'Porcelana'}, {'def': 'Porțelan'}, {'def': 'Porcelæn'}, {'def': 'Porselein'}], 'edmConceptPrefLabelLangAware': {'de': ['Porzellan'], 'fi': ['Posliini'], 'ru': ['Фарфор'], 'pt': ['Porcelana'], 'bg': ['Порцелан'], 'lt': ['Porcelianas'], 'lv': ['Porcelāns'], 'hr': ['Porculan'], 'fr': ['Porcelaine'], 'hu': ['Porcelán'], 'sk': ['Porcelán'], 'sl': ['Porcelan'], 'ga': ['Poirceallán'], 'ca': ['Porcellana'], 'sv': ['Porslin'], 'el': ['Πορσελάνη'], 'en': ['Porcelain'], 'it': ['Porcellana'], 'es': ['Porcelana'], 'et': ['Portselan'], 'cs': ['Porcelán'], 'eu': ['Portzelana'], 'pl': ['Porcelana'], 'ro': ['Porțelan'], 'da': ['Porcelæn'], 'nl': ['Porselein']}, 'edmDatasetName': ['90402_M_NL_Rijksmuseum'], 'edmIsShownAt': ['http://hdl.handle.net/10934/RM0001.COLLECT.2535'], 'edmIsShownBy': ['https://lh3.googleusercontent.com/FTM_uYyfOCon9w-auowuF_w-gJB_AwSQzo4ZhDGVL7oH5le3oyzrJOOAD2uFOdQc5PROrFmjf4MzrRZvVbPrROtcTu0=s0'], 'edmPreview': ['https://api.europeana.eu/thumbnail/v2/url.json?uri=https%3A%2F%2Flh3.googleusercontent.com%2FFTM_uYyfOCon9w-auowuF_w-gJB_AwSQzo4ZhDGVL7oH5le3oyzrJOOAD2uFOdQc5PROrFmjf4MzrRZvVbPrROtcTu0%3Ds0&type=IMAGE'], 'europeanaCollectionName': ['90402_M_NL_Rijksmuseum'], 'europeanaCompleteness': 10, 'guid': 'https://www.europeana.eu/item/90402/AK_NM_6928_A?utm_source=api&utm_medium=api&utm_campaign=ndemalem', 'id': '/90402/AK_NM_6928_A', 'index': 0, 'language': ['nl'], 'link': 'https://api.europeana.eu/record/90402/AK_NM_6928_A.json?wskey=ndemalem', 'previewNoDistribute': False, 'provider': ['Rijksmuseum'], 'rights': ['http://creativecommons.org/publicdomain/mark/1.0/'], 'score': 61.94771, 'timestamp': 1688569558507, 'timestamp_created': '2014-05-27T13:05:19.872Z', 'timestamp_created_epoch': 1401195919872, 'timestamp_update': '2018-03-17T13:01:06.666Z', 'timestamp_update_epoch': 1521291666666, 'title': ['Ovoid covered jar with Chinese ladies in a landscape', 'Eivormige deksel met Chinese dames in een landschap'], 'type': 'IMAGE', 'ugc': [False]}\n",
      "\n",
      "Title: ['Saucer dish with Chinese ladies in a fenced garden and flowering plants', 'Schaal met Chinese dames in een omheinde tuin en bloeiende planten']\n",
      "Description: [\"Schaal van porselein met gelobde rand, beschilderd in onderglazuur blauw. De wand is gemodelleerd in tien vakken. Op het plat een tienhoekig medaillon met een Chinese dame (lange lijs) zittend aan een tafel met een lotusbloem in haar hand; achter haar een lotus in een pot op een kruk. De wand is verdeeld in tien uitstralende vakken met daarin afwisselend een dame met een waaier of een takje in een omheinde tuin of bloeiende planten. De buitenwand met een doorlopende bloemtak. Gemerkt op de onderzijde met 'yù', jade, in een dubbele cirkel. Blauw-wit.\"]\n",
      "Link: https://www.europeana.eu/item/90402/AK_NM_6904_A?utm_source=api&utm_medium=api&utm_campaign=ndemalem\n",
      "Metadata: {'completeness': 10, 'country': ['Netherlands'], 'dataProvider': ['Rijksmuseum'], 'dcDescription': [\"Schaal van porselein met gelobde rand, beschilderd in onderglazuur blauw. De wand is gemodelleerd in tien vakken. Op het plat een tienhoekig medaillon met een Chinese dame (lange lijs) zittend aan een tafel met een lotusbloem in haar hand; achter haar een lotus in een pot op een kruk. De wand is verdeeld in tien uitstralende vakken met daarin afwisselend een dame met een waaier of een takje in een omheinde tuin of bloeiende planten. De buitenwand met een doorlopende bloemtak. Gemerkt op de onderzijde met 'yù', jade, in een dubbele cirkel. Blauw-wit.\"], 'dcDescriptionLangAware': {'nl': [\"Schaal van porselein met gelobde rand, beschilderd in onderglazuur blauw. De wand is gemodelleerd in tien vakken. Op het plat een tienhoekig medaillon met een Chinese dame (lange lijs) zittend aan een tafel met een lotusbloem in haar hand; achter haar een lotus in een pot op een kruk. De wand is verdeeld in tien uitstralende vakken met daarin afwisselend een dame met een waaier of een takje in een omheinde tuin of bloeiende planten. De buitenwand met een doorlopende bloemtak. Gemerkt op de onderzijde met 'yù', jade, in een dubbele cirkel. Blauw-wit.\"]}, 'dcLanguage': ['nl'], 'dcLanguageLangAware': {'def': ['nl']}, 'dcTitleLangAware': {'en': ['Saucer dish with Chinese ladies in a fenced garden and flowering plants'], 'nl': ['Schaal met Chinese dames in een omheinde tuin en bloeiende planten']}, 'edmConcept': ['http://data.europeana.eu/concept/1757', 'http://data.europeana.eu/concept/1918'], 'edmConceptLabel': [{'def': 'Porzellan'}, {'def': 'Teller'}, {'def': 'Posliini'}, {'def': 'Lautanen'}, {'def': 'Фарфор'}, {'def': 'Тарелка'}, {'def': 'Porcelana'}, {'def': 'Prato'}, {'def': 'Порцелан'}, {'def': 'Чиния'}, {'def': 'Porcelianas'}, {'def': 'Lėkštė'}, {'def': 'Porcelāns'}, {'def': 'Šķīvis'}, {'def': 'Porculan'}, {'def': 'Tanjur'}, {'def': 'Porcelaine'}, {'def': 'Assiette'}, {'def': 'Porcelán'}, {'def': 'Porcelán'}, {'def': 'Tanier'}, {'def': 'Porcelan'}, {'def': 'Krožnik'}, {'def': 'Poirceallán'}, {'def': 'Pláta'}, {'def': 'Porcellana'}, {'def': 'Plat'}, {'def': 'Porslin'}, {'def': 'Tallrik'}, {'def': 'Πορσελάνη'}, {'def': 'Πιάτο'}, {'def': 'Porcelain'}, {'def': 'Plate'}, {'def': 'Porcellana'}, {'def': 'Piatto'}, {'def': 'Porcelana'}, {'def': 'Plato'}, {'def': 'Portselan'}, {'def': 'Taldrik'}, {'def': 'Porcelán'}, {'def': 'Talíř'}, {'def': 'Portzelana'}, {'def': 'Plater'}, {'def': 'Porcelana'}, {'def': 'Talerz'}, {'def': 'Porțelan'}, {'def': 'Farfurie'}, {'def': 'Porcelæn'}, {'def': 'Tallerken'}, {'def': 'Porselein'}, {'def': 'Bord'}], 'edmConceptPrefLabelLangAware': {'de': ['Porzellan', 'Teller'], 'fi': ['Posliini', 'Lautanen'], 'ru': ['Фарфор', 'Тарелка'], 'pt': ['Porcelana', 'Prato'], 'bg': ['Порцелан', 'Чиния'], 'lt': ['Porcelianas', 'Lėkštė'], 'lv': ['Porcelāns', 'Šķīvis'], 'hr': ['Porculan', 'Tanjur'], 'fr': ['Porcelaine', 'Assiette'], 'hu': ['Porcelán'], 'sk': ['Tanier', 'Porcelán'], 'sl': ['Porcelan', 'Krožnik'], 'ga': ['Poirceallán', 'Pláta'], 'ca': ['Porcellana', 'Plat'], 'sv': ['Tallrik', 'Porslin'], 'el': ['Πορσελάνη', 'Πιάτο'], 'en': ['Porcelain', 'Plate'], 'it': ['Porcellana', 'Piatto'], 'es': ['Porcelana', 'Plato'], 'et': ['Portselan', 'Taldrik'], 'cs': ['Talíř', 'Porcelán'], 'eu': ['Portzelana', 'Plater'], 'pl': ['Porcelana', 'Talerz'], 'ro': ['Farfurie', 'Porțelan'], 'da': ['Porcelæn', 'Tallerken'], 'nl': ['Bord', 'Porselein']}, 'edmDatasetName': ['90402_M_NL_Rijksmuseum'], 'edmIsShownAt': ['http://hdl.handle.net/10934/RM0001.COLLECT.2720'], 'edmIsShownBy': ['https://lh3.googleusercontent.com/H7xmhhV4ivcxilI_i28v2lkL2tolRvnw8MU2e1RWkFLx-Ikvky0RpupZz_3f4KYA4mjARLs_zwjmmYQJGESiqe97Vmc=s0'], 'edmPreview': ['https://api.europeana.eu/thumbnail/v2/url.json?uri=https%3A%2F%2Fwww.rijksmuseum.nl%2Fassetimage2.jsp%3Fid%3DAK-NM-6904-A&type=IMAGE'], 'europeanaCollectionName': ['90402_M_NL_Rijksmuseum'], 'europeanaCompleteness': 10, 'guid': 'https://www.europeana.eu/item/90402/AK_NM_6904_A?utm_source=api&utm_medium=api&utm_campaign=ndemalem', 'id': '/90402/AK_NM_6904_A', 'index': 0, 'language': ['nl'], 'link': 'https://api.europeana.eu/record/90402/AK_NM_6904_A.json?wskey=ndemalem', 'previewNoDistribute': False, 'provider': ['Rijksmuseum'], 'rights': ['http://creativecommons.org/publicdomain/mark/1.0/'], 'score': 55.18548, 'timestamp': 1688569558894, 'timestamp_created': '2014-05-27T13:05:19.556Z', 'timestamp_created_epoch': 1401195919556, 'timestamp_update': '2018-03-17T13:01:06.437Z', 'timestamp_update_epoch': 1521291666437, 'title': ['Saucer dish with Chinese ladies in a fenced garden and flowering plants', 'Schaal met Chinese dames in een omheinde tuin en bloeiende planten'], 'type': 'IMAGE', 'ugc': [False]}\n",
      "\n",
      "Title: ['Small cilindrical vase with two Chinese ladies and auspicious symbols', 'Kleine cilindrische vaas met twee Chinese dames en geluksvoorwerpen']\n",
      "Description: ['Kleine, cilindrische vaas van porselein met een korte nek en platte rand, beschilderd in onderglazuur blauw. Op de wand twee Chinese dames (lange lijzen) bij een bloeiende aster in een pot. Op de andere zijde antiquiteiten en kostbaarheden (vaas met pauwenveren, wierookbrander, parel en spiegel). Op de schouder drie kostbaarheden (parel, ruit, muzieksteen). Op de nek een band met spiraalwerk en stippen. Gemerkt op de onderzijde met het vier-karaktermerk van keizer Chenghua in een dubbele cirkel. Blauw-wit.']\n",
      "Link: https://www.europeana.eu/item/90402/AK_NM_6726?utm_source=api&utm_medium=api&utm_campaign=ndemalem\n",
      "Metadata: {'completeness': 10, 'country': ['Netherlands'], 'dataProvider': ['Rijksmuseum'], 'dcDescription': ['Kleine, cilindrische vaas van porselein met een korte nek en platte rand, beschilderd in onderglazuur blauw. Op de wand twee Chinese dames (lange lijzen) bij een bloeiende aster in een pot. Op de andere zijde antiquiteiten en kostbaarheden (vaas met pauwenveren, wierookbrander, parel en spiegel). Op de schouder drie kostbaarheden (parel, ruit, muzieksteen). Op de nek een band met spiraalwerk en stippen. Gemerkt op de onderzijde met het vier-karaktermerk van keizer Chenghua in een dubbele cirkel. Blauw-wit.'], 'dcDescriptionLangAware': {'nl': ['Kleine, cilindrische vaas van porselein met een korte nek en platte rand, beschilderd in onderglazuur blauw. Op de wand twee Chinese dames (lange lijzen) bij een bloeiende aster in een pot. Op de andere zijde antiquiteiten en kostbaarheden (vaas met pauwenveren, wierookbrander, parel en spiegel). Op de schouder drie kostbaarheden (parel, ruit, muzieksteen). Op de nek een band met spiraalwerk en stippen. Gemerkt op de onderzijde met het vier-karaktermerk van keizer Chenghua in een dubbele cirkel. Blauw-wit.']}, 'dcLanguage': ['nl'], 'dcLanguageLangAware': {'def': ['nl']}, 'dcTitleLangAware': {'en': ['Small cilindrical vase with two Chinese ladies and auspicious symbols'], 'nl': ['Kleine cilindrische vaas met twee Chinese dames en geluksvoorwerpen']}, 'edmConcept': ['http://data.europeana.eu/concept/1757'], 'edmConceptLabel': [{'def': 'Porzellan'}, {'def': 'Posliini'}, {'def': 'Фарфор'}, {'def': 'Porcelana'}, {'def': 'Порцелан'}, {'def': 'Porcelianas'}, {'def': 'Porcelāns'}, {'def': 'Porculan'}, {'def': 'Porcelaine'}, {'def': 'Porcelán'}, {'def': 'Porcelán'}, {'def': 'Porcelan'}, {'def': 'Poirceallán'}, {'def': 'Porcellana'}, {'def': 'Porslin'}, {'def': 'Πορσελάνη'}, {'def': 'Porcelain'}, {'def': 'Porcellana'}, {'def': 'Porcelana'}, {'def': 'Portselan'}, {'def': 'Porcelán'}, {'def': 'Portzelana'}, {'def': 'Porcelana'}, {'def': 'Porțelan'}, {'def': 'Porcelæn'}, {'def': 'Porselein'}], 'edmConceptPrefLabelLangAware': {'de': ['Porzellan'], 'fi': ['Posliini'], 'ru': ['Фарфор'], 'pt': ['Porcelana'], 'bg': ['Порцелан'], 'lt': ['Porcelianas'], 'lv': ['Porcelāns'], 'hr': ['Porculan'], 'fr': ['Porcelaine'], 'hu': ['Porcelán'], 'sk': ['Porcelán'], 'sl': ['Porcelan'], 'ga': ['Poirceallán'], 'ca': ['Porcellana'], 'sv': ['Porslin'], 'el': ['Πορσελάνη'], 'en': ['Porcelain'], 'it': ['Porcellana'], 'es': ['Porcelana'], 'et': ['Portselan'], 'cs': ['Porcelán'], 'eu': ['Portzelana'], 'pl': ['Porcelana'], 'ro': ['Porțelan'], 'da': ['Porcelæn'], 'nl': ['Porselein']}, 'edmDatasetName': ['90402_M_NL_Rijksmuseum'], 'edmIsShownAt': ['http://hdl.handle.net/10934/RM0001.COLLECT.353993'], 'edmIsShownBy': ['https://lh3.googleusercontent.com/AEFvVJPioESJmUf-FDYxjKvqC6z7kNw1tak-d0z55zlN_cn6-wKUjZtC40nAsBtOdIVFpfOHg-qB0NLbICoy8FR99w=s0'], 'edmPreview': ['https://api.europeana.eu/thumbnail/v2/url.json?uri=https%3A%2F%2Flh3.googleusercontent.com%2FAEFvVJPioESJmUf-FDYxjKvqC6z7kNw1tak-d0z55zlN_cn6-wKUjZtC40nAsBtOdIVFpfOHg-qB0NLbICoy8FR99w%3Ds0&type=IMAGE'], 'europeanaCollectionName': ['90402_M_NL_Rijksmuseum'], 'europeanaCompleteness': 10, 'guid': 'https://www.europeana.eu/item/90402/AK_NM_6726?utm_source=api&utm_medium=api&utm_campaign=ndemalem', 'id': '/90402/AK_NM_6726', 'index': 0, 'language': ['nl'], 'link': 'https://api.europeana.eu/record/90402/AK_NM_6726.json?wskey=ndemalem', 'previewNoDistribute': False, 'provider': ['Rijksmuseum'], 'rights': ['http://creativecommons.org/publicdomain/mark/1.0/'], 'score': 59.360535, 'timestamp': 1688569557569, 'timestamp_created': '2014-05-27T13:05:08.482Z', 'timestamp_created_epoch': 1401195908482, 'timestamp_update': '2018-03-17T13:01:05.765Z', 'timestamp_update_epoch': 1521291665765, 'title': ['Small cilindrical vase with two Chinese ladies and auspicious symbols', 'Kleine cilindrische vaas met twee Chinese dames en geluksvoorwerpen'], 'type': 'IMAGE', 'ugc': [False]}\n",
      "\n",
      "Title: ['Cilindrical vase with Chinese ladies and flower pots', 'Cilindrische vaas met Chinese dames en bloempotten']\n",
      "Description: [\"Kleine, cilindrische vaas van porselein met een rechte schouder en korte, spreidende nek met een vlakke rand, beschilderd in onderglazuur blauw. Op de wand Chinese dames (lange lijzen) bij bloempotten op een kruk. Op de schouder kostbaarheden (parel, boeken). Op de nek een band met stippen. Gemerkt op de onderzijde met 'Fú'. Blauw-wit.\"]\n",
      "Link: https://www.europeana.eu/item/90402/AK_NM_6723_B?utm_source=api&utm_medium=api&utm_campaign=ndemalem\n",
      "Metadata: {'completeness': 10, 'country': ['Netherlands'], 'dataProvider': ['Rijksmuseum'], 'dcDescription': [\"Kleine, cilindrische vaas van porselein met een rechte schouder en korte, spreidende nek met een vlakke rand, beschilderd in onderglazuur blauw. Op de wand Chinese dames (lange lijzen) bij bloempotten op een kruk. Op de schouder kostbaarheden (parel, boeken). Op de nek een band met stippen. Gemerkt op de onderzijde met 'Fú'. Blauw-wit.\"], 'dcDescriptionLangAware': {'nl': [\"Kleine, cilindrische vaas van porselein met een rechte schouder en korte, spreidende nek met een vlakke rand, beschilderd in onderglazuur blauw. Op de wand Chinese dames (lange lijzen) bij bloempotten op een kruk. Op de schouder kostbaarheden (parel, boeken). Op de nek een band met stippen. Gemerkt op de onderzijde met 'Fú'. Blauw-wit.\"]}, 'dcLanguage': ['nl'], 'dcLanguageLangAware': {'def': ['nl']}, 'dcTitleLangAware': {'en': ['Cilindrical vase with Chinese ladies and flower pots'], 'nl': ['Cilindrische vaas met Chinese dames en bloempotten']}, 'edmConcept': ['http://data.europeana.eu/concept/1757'], 'edmConceptLabel': [{'def': 'Porzellan'}, {'def': 'Posliini'}, {'def': 'Фарфор'}, {'def': 'Porcelana'}, {'def': 'Порцелан'}, {'def': 'Porcelianas'}, {'def': 'Porcelāns'}, {'def': 'Porculan'}, {'def': 'Porcelaine'}, {'def': 'Porcelán'}, {'def': 'Porcelán'}, {'def': 'Porcelan'}, {'def': 'Poirceallán'}, {'def': 'Porcellana'}, {'def': 'Porslin'}, {'def': 'Πορσελάνη'}, {'def': 'Porcelain'}, {'def': 'Porcellana'}, {'def': 'Porcelana'}, {'def': 'Portselan'}, {'def': 'Porcelán'}, {'def': 'Portzelana'}, {'def': 'Porcelana'}, {'def': 'Porțelan'}, {'def': 'Porcelæn'}, {'def': 'Porselein'}], 'edmConceptPrefLabelLangAware': {'de': ['Porzellan'], 'fi': ['Posliini'], 'ru': ['Фарфор'], 'pt': ['Porcelana'], 'bg': ['Порцелан'], 'lt': ['Porcelianas'], 'lv': ['Porcelāns'], 'hr': ['Porculan'], 'fr': ['Porcelaine'], 'hu': ['Porcelán'], 'sk': ['Porcelán'], 'sl': ['Porcelan'], 'ga': ['Poirceallán'], 'ca': ['Porcellana'], 'sv': ['Porslin'], 'el': ['Πορσελάνη'], 'en': ['Porcelain'], 'it': ['Porcellana'], 'es': ['Porcelana'], 'et': ['Portselan'], 'cs': ['Porcelán'], 'eu': ['Portzelana'], 'pl': ['Porcelana'], 'ro': ['Porțelan'], 'da': ['Porcelæn'], 'nl': ['Porselein']}, 'edmDatasetName': ['90402_M_NL_Rijksmuseum'], 'edmIsShownAt': ['http://hdl.handle.net/10934/RM0001.COLLECT.19969'], 'edmIsShownBy': ['https://lh3.googleusercontent.com/Jbq3qOv5eLln0sEpeamcd8Ox2FuS6AkeMriKKmS3-BwqB345Yv7zOcmPzWwlGcUodZMcn3-8FzFeWnI-qJhZHsWWt-Q0=s0'], 'edmPreview': ['https://api.europeana.eu/thumbnail/v2/url.json?uri=https%3A%2F%2Flh3.googleusercontent.com%2FJbq3qOv5eLln0sEpeamcd8Ox2FuS6AkeMriKKmS3-BwqB345Yv7zOcmPzWwlGcUodZMcn3-8FzFeWnI-qJhZHsWWt-Q0%3Ds0&type=IMAGE'], 'europeanaCollectionName': ['90402_M_NL_Rijksmuseum'], 'europeanaCompleteness': 10, 'guid': 'https://www.europeana.eu/item/90402/AK_NM_6723_B?utm_source=api&utm_medium=api&utm_campaign=ndemalem', 'id': '/90402/AK_NM_6723_B', 'index': 0, 'language': ['nl'], 'link': 'https://api.europeana.eu/record/90402/AK_NM_6723_B.json?wskey=ndemalem', 'previewNoDistribute': False, 'provider': ['Rijksmuseum'], 'rights': ['http://creativecommons.org/publicdomain/mark/1.0/'], 'score': 64.33444, 'timestamp': 1688569557253, 'timestamp_created': '2014-05-27T13:05:08.469Z', 'timestamp_created_epoch': 1401195908469, 'timestamp_update': '2018-03-17T13:01:05.752Z', 'timestamp_update_epoch': 1521291665752, 'title': ['Cilindrical vase with Chinese ladies and flower pots', 'Cilindrische vaas met Chinese dames en bloempotten'], 'type': 'IMAGE', 'ugc': [False]}\n",
      "\n",
      "\n",
      "Total image URLs found: 95\n",
      "https://lh5.ggpht.com/31lkKseatNb_6QDJm_ZG16txw3UiQ43XWINmv6LwMeq1xISGGdYKPfEPOD439hOXcOjN-l63xljK2T8_jWwtfoKOww=s0\n",
      "https://lh3.googleusercontent.com/RMYJz_QbkA4ukmpjGm4UMre4Yn1JwzQNwRm5sCXH1cmgKWd7Qu4ZEy4rByRNEiKpHBxVQOef7rQ5gWn9pvq_03FUMQ=s0\n",
      "https://lh3.googleusercontent.com/x8LsCDsmKTwudQN_BfypgNAaw6otqvVNaxLRBMM5oik9t2PDVki1R-Fp8YOZ4PFi32HxwTiV87KKPMoK5r6I5GfUCnMx=s0\n",
      "https://lh5.ggpht.com/Smy1-msGWPchb3MPJ62NHyt3i83MY2Xv2GnQAT4ifLXyfyb6D17V78A40QrC3WL-bWQivXekp3gdS6fK1c4JTCpdPgF7=s0\n",
      "https://lh3.ggpht.com/ndrJWxTp0AIPfYPkLt8VtNWJ_JLGXqMsOI2Kj_MtGvXlWHHfWytObO0dsTyTsNPKze24OgsZ0K2VwQe3pPFn0kVwlw=s0\n",
      "Failed to download or save image https://lh5.ggpht.com/31lkKseatNb_6QDJm_ZG16txw3UiQ43XWINmv6LwMeq1xISGGdYKPfEPOD439hOXcOjN-l63xljK2T8_jWwtfoKOww=s0. Error: HTTPSConnectionPool(host='lh5.ggpht.com', port=443): Max retries exceeded with url: /31lkKseatNb_6QDJm_ZG16txw3UiQ43XWINmv6LwMeq1xISGGdYKPfEPOD439hOXcOjN-l63xljK2T8_jWwtfoKOww=s0 (Caused by SSLError(SSLEOFError(8, 'EOF occurred in violation of protocol (_ssl.c:1129)')))\n"
     ]
    },
    {
     "name": "stderr",
     "output_type": "stream",
     "text": [
      "/Users/shangliujun/opt/anaconda3/lib/python3.9/site-packages/urllib3/connectionpool.py:1043: InsecureRequestWarning: Unverified HTTPS request is being made to host '127.0.0.1'. Adding certificate verification is strongly advised. See: https://urllib3.readthedocs.io/en/1.26.x/advanced-usage.html#ssl-warnings\n",
      "  warnings.warn(\n"
     ]
    },
    {
     "name": "stdout",
     "output_type": "stream",
     "text": [
      "Saved image: chinese_ladies_images/RMYJz_QbkA4ukmpjGm4UMre4Yn1JwzQNwRm5sCXH1cmgKWd7Qu4ZEy4rByRNEiKpHBxVQOef7rQ5gWn9pvq_03FUMQ=s0.png\n"
     ]
    },
    {
     "name": "stderr",
     "output_type": "stream",
     "text": [
      "/Users/shangliujun/opt/anaconda3/lib/python3.9/site-packages/urllib3/connectionpool.py:1043: InsecureRequestWarning: Unverified HTTPS request is being made to host '127.0.0.1'. Adding certificate verification is strongly advised. See: https://urllib3.readthedocs.io/en/1.26.x/advanced-usage.html#ssl-warnings\n",
      "  warnings.warn(\n"
     ]
    },
    {
     "name": "stdout",
     "output_type": "stream",
     "text": [
      "Saved image: chinese_ladies_images/x8LsCDsmKTwudQN_BfypgNAaw6otqvVNaxLRBMM5oik9t2PDVki1R-Fp8YOZ4PFi32HxwTiV87KKPMoK5r6I5GfUCnMx=s0.png\n",
      "Failed to download or save image https://lh5.ggpht.com/Smy1-msGWPchb3MPJ62NHyt3i83MY2Xv2GnQAT4ifLXyfyb6D17V78A40QrC3WL-bWQivXekp3gdS6fK1c4JTCpdPgF7=s0. Error: HTTPSConnectionPool(host='lh5.ggpht.com', port=443): Max retries exceeded with url: /Smy1-msGWPchb3MPJ62NHyt3i83MY2Xv2GnQAT4ifLXyfyb6D17V78A40QrC3WL-bWQivXekp3gdS6fK1c4JTCpdPgF7=s0 (Caused by SSLError(SSLEOFError(8, 'EOF occurred in violation of protocol (_ssl.c:1129)')))\n"
     ]
    },
    {
     "name": "stderr",
     "output_type": "stream",
     "text": [
      "/Users/shangliujun/opt/anaconda3/lib/python3.9/site-packages/urllib3/connectionpool.py:1043: InsecureRequestWarning: Unverified HTTPS request is being made to host '127.0.0.1'. Adding certificate verification is strongly advised. See: https://urllib3.readthedocs.io/en/1.26.x/advanced-usage.html#ssl-warnings\n",
      "  warnings.warn(\n"
     ]
    },
    {
     "name": "stdout",
     "output_type": "stream",
     "text": [
      "Saved image: chinese_ladies_images/ndrJWxTp0AIPfYPkLt8VtNWJ_JLGXqMsOI2Kj_MtGvXlWHHfWytObO0dsTyTsNPKze24OgsZ0K2VwQe3pPFn0kVwlw=s0.png\n"
     ]
    },
    {
     "name": "stderr",
     "output_type": "stream",
     "text": [
      "/Users/shangliujun/opt/anaconda3/lib/python3.9/site-packages/urllib3/connectionpool.py:1043: InsecureRequestWarning: Unverified HTTPS request is being made to host '127.0.0.1'. Adding certificate verification is strongly advised. See: https://urllib3.readthedocs.io/en/1.26.x/advanced-usage.html#ssl-warnings\n",
      "  warnings.warn(\n"
     ]
    },
    {
     "name": "stdout",
     "output_type": "stream",
     "text": [
      "Saved image: chinese_ladies_images/X7-s5GMsYtAWxQACGEtjWUwEHpwumPzLsymNeFkOxmVlhfcRN-nu1-0aiFHp6wlduLrVxBs5aF3e--dt9HlFPqgd0g=s0.png\n"
     ]
    },
    {
     "name": "stderr",
     "output_type": "stream",
     "text": [
      "/Users/shangliujun/opt/anaconda3/lib/python3.9/site-packages/urllib3/connectionpool.py:1043: InsecureRequestWarning: Unverified HTTPS request is being made to host '127.0.0.1'. Adding certificate verification is strongly advised. See: https://urllib3.readthedocs.io/en/1.26.x/advanced-usage.html#ssl-warnings\n",
      "  warnings.warn(\n"
     ]
    },
    {
     "name": "stdout",
     "output_type": "stream",
     "text": [
      "Saved image: chinese_ladies_images/VAGRcMOtaYSgFBbyVB5Epcj9Qby9tPRGC2mYbvd_b_HdlreErN6fDDUMsr8wlAQqnAkJarL2kWYZfIei2KrbPsd43w=s0.png\n"
     ]
    },
    {
     "name": "stderr",
     "output_type": "stream",
     "text": [
      "/Users/shangliujun/opt/anaconda3/lib/python3.9/site-packages/urllib3/connectionpool.py:1043: InsecureRequestWarning: Unverified HTTPS request is being made to host '127.0.0.1'. Adding certificate verification is strongly advised. See: https://urllib3.readthedocs.io/en/1.26.x/advanced-usage.html#ssl-warnings\n",
      "  warnings.warn(\n"
     ]
    },
    {
     "name": "stdout",
     "output_type": "stream",
     "text": [
      "Saved image: chinese_ladies_images/ycQy7mWSbz67ZGI1yvHO7fdnTf2dnrq1O4dddVWsVceN9NzmoYBiEifW_GCdObk1nMNfUh3azSlBWccIOx8g7ZbD0A=s0.png\n"
     ]
    },
    {
     "name": "stderr",
     "output_type": "stream",
     "text": [
      "/Users/shangliujun/opt/anaconda3/lib/python3.9/site-packages/urllib3/connectionpool.py:1043: InsecureRequestWarning: Unverified HTTPS request is being made to host '127.0.0.1'. Adding certificate verification is strongly advised. See: https://urllib3.readthedocs.io/en/1.26.x/advanced-usage.html#ssl-warnings\n",
      "  warnings.warn(\n"
     ]
    },
    {
     "name": "stdout",
     "output_type": "stream",
     "text": [
      "Saved image: chinese_ladies_images/Jw1SdbMu6diBLe6MekvpuxoSQQig_Ee1TwnbOsvNApnwa1Emh3tNq_RLns4LhsVcq7y3XX9ja4oDYXtp9PLwQjACDA=s0.png\n"
     ]
    },
    {
     "name": "stderr",
     "output_type": "stream",
     "text": [
      "/Users/shangliujun/opt/anaconda3/lib/python3.9/site-packages/urllib3/connectionpool.py:1043: InsecureRequestWarning: Unverified HTTPS request is being made to host '127.0.0.1'. Adding certificate verification is strongly advised. See: https://urllib3.readthedocs.io/en/1.26.x/advanced-usage.html#ssl-warnings\n",
      "  warnings.warn(\n"
     ]
    },
    {
     "name": "stdout",
     "output_type": "stream",
     "text": [
      "Saved image: chinese_ladies_images/y6FQiSqPbxZ0IvCP9PavNoFtkA5o2oDVGC6K3cGSt1sQ9yx4IDM5GlISxi77f7GVWixCsSI-RvhaO3XRvWRXc5hpVA=s0.png\n"
     ]
    },
    {
     "name": "stderr",
     "output_type": "stream",
     "text": [
      "/Users/shangliujun/opt/anaconda3/lib/python3.9/site-packages/urllib3/connectionpool.py:1043: InsecureRequestWarning: Unverified HTTPS request is being made to host '127.0.0.1'. Adding certificate verification is strongly advised. See: https://urllib3.readthedocs.io/en/1.26.x/advanced-usage.html#ssl-warnings\n",
      "  warnings.warn(\n"
     ]
    },
    {
     "name": "stdout",
     "output_type": "stream",
     "text": [
      "Saved image: chinese_ladies_images/t2Z2JsJnWWM3tfmqAboCpSrrBUTvtivt5bUV1Mi1dZBJMxhSppeOq-poy4l2JjU2FRFS4EKeL2UxHJ1iovMJ4wWxp4g=s0.png\n",
      "Failed to download or save image https://lh5.ggpht.com/a8iB9SBN5YGxq9r5cjGQnT4qAkHWgjrrjdnwRr4eGkXE7zMqhg4h-Ne7ozhECRqITG8MztXHMcFzI49UQccUArmkkDw=s0. Error: HTTPSConnectionPool(host='lh5.ggpht.com', port=443): Max retries exceeded with url: /a8iB9SBN5YGxq9r5cjGQnT4qAkHWgjrrjdnwRr4eGkXE7zMqhg4h-Ne7ozhECRqITG8MztXHMcFzI49UQccUArmkkDw=s0 (Caused by SSLError(SSLEOFError(8, 'EOF occurred in violation of protocol (_ssl.c:1129)')))\n"
     ]
    },
    {
     "name": "stderr",
     "output_type": "stream",
     "text": [
      "/Users/shangliujun/opt/anaconda3/lib/python3.9/site-packages/urllib3/connectionpool.py:1043: InsecureRequestWarning: Unverified HTTPS request is being made to host '127.0.0.1'. Adding certificate verification is strongly advised. See: https://urllib3.readthedocs.io/en/1.26.x/advanced-usage.html#ssl-warnings\n",
      "  warnings.warn(\n"
     ]
    },
    {
     "name": "stdout",
     "output_type": "stream",
     "text": [
      "Saved image: chinese_ladies_images/J9WEjNRqelzV20Aw6qyfboN_HAdrjZBFPFL_ma2fztpkGpvvGkdG46X08yoO5Idy85AD7l2jPz-KQuAd-4IkQTPNLg=s0.png\n"
     ]
    },
    {
     "name": "stderr",
     "output_type": "stream",
     "text": [
      "/Users/shangliujun/opt/anaconda3/lib/python3.9/site-packages/urllib3/connectionpool.py:1043: InsecureRequestWarning: Unverified HTTPS request is being made to host '127.0.0.1'. Adding certificate verification is strongly advised. See: https://urllib3.readthedocs.io/en/1.26.x/advanced-usage.html#ssl-warnings\n",
      "  warnings.warn(\n"
     ]
    },
    {
     "name": "stdout",
     "output_type": "stream",
     "text": [
      "Saved image: chinese_ladies_images/HuUUVFybQPLVf3YcZ7dg0hLIMaSTuloTdL50W0Al9TnEW8SvWiH8Tka7T2DbXV5X2AKh9FZ4ZbLylkNepdgSJCAlt1w=s0.png\n",
      "Failed to download or save image https://lh5.ggpht.com/mwBUU3aDIplWQGMMlChwi4ErCUJc50njyNOe4ng8zBEurmyZAxb4fQRSG3ia6DxPy-1YDJEog5_E8XVR4LZNpHDpkpo=s0. Error: HTTPSConnectionPool(host='lh5.ggpht.com', port=443): Max retries exceeded with url: /mwBUU3aDIplWQGMMlChwi4ErCUJc50njyNOe4ng8zBEurmyZAxb4fQRSG3ia6DxPy-1YDJEog5_E8XVR4LZNpHDpkpo=s0 (Caused by SSLError(SSLEOFError(8, 'EOF occurred in violation of protocol (_ssl.c:1129)')))\n"
     ]
    },
    {
     "name": "stderr",
     "output_type": "stream",
     "text": [
      "/Users/shangliujun/opt/anaconda3/lib/python3.9/site-packages/urllib3/connectionpool.py:1043: InsecureRequestWarning: Unverified HTTPS request is being made to host '127.0.0.1'. Adding certificate verification is strongly advised. See: https://urllib3.readthedocs.io/en/1.26.x/advanced-usage.html#ssl-warnings\n",
      "  warnings.warn(\n"
     ]
    },
    {
     "name": "stdout",
     "output_type": "stream",
     "text": [
      "Saved image: chinese_ladies_images/Pd3W0TA4CbvFZ1FKpzEsBHKUBTR-q86O1PKKCOuRzrtdD5lVkEllOf5fd4xWQDwj0-D1h3-qj6DUStkLo3nlnyc4t5w=s0.png\n"
     ]
    },
    {
     "name": "stderr",
     "output_type": "stream",
     "text": [
      "/Users/shangliujun/opt/anaconda3/lib/python3.9/site-packages/urllib3/connectionpool.py:1043: InsecureRequestWarning: Unverified HTTPS request is being made to host '127.0.0.1'. Adding certificate verification is strongly advised. See: https://urllib3.readthedocs.io/en/1.26.x/advanced-usage.html#ssl-warnings\n",
      "  warnings.warn(\n"
     ]
    },
    {
     "name": "stdout",
     "output_type": "stream",
     "text": [
      "Saved image: chinese_ladies_images/oWv-SbhHdyqd32JJSnzUeIyOXNG-cx8bm1Su2ra5bKZFAqXSQcFP-uSHpOluU03U87IU_tr0Sc7CrNmt1rY4bnqNIQ=s0.png\n"
     ]
    },
    {
     "name": "stderr",
     "output_type": "stream",
     "text": [
      "/Users/shangliujun/opt/anaconda3/lib/python3.9/site-packages/urllib3/connectionpool.py:1043: InsecureRequestWarning: Unverified HTTPS request is being made to host '127.0.0.1'. Adding certificate verification is strongly advised. See: https://urllib3.readthedocs.io/en/1.26.x/advanced-usage.html#ssl-warnings\n",
      "  warnings.warn(\n"
     ]
    },
    {
     "name": "stdout",
     "output_type": "stream",
     "text": [
      "Saved image: chinese_ladies_images/QtvRF82GwWLOyUA8Ser5iYaxWMBQE0RjQTrjg1R9Ip-AXLYSVizDUl79z0sHTuvp5cnSl88z7bVNeXZ-1q_HXRItcw=s0.png\n"
     ]
    },
    {
     "name": "stderr",
     "output_type": "stream",
     "text": [
      "/Users/shangliujun/opt/anaconda3/lib/python3.9/site-packages/urllib3/connectionpool.py:1043: InsecureRequestWarning: Unverified HTTPS request is being made to host '127.0.0.1'. Adding certificate verification is strongly advised. See: https://urllib3.readthedocs.io/en/1.26.x/advanced-usage.html#ssl-warnings\n",
      "  warnings.warn(\n"
     ]
    },
    {
     "name": "stdout",
     "output_type": "stream",
     "text": [
      "Saved image: chinese_ladies_images/2Y6Xk-ZE2eAyFDmV-FlzT7MHCiNNx8BiNJzWqHvTv9C39LdlSNaPCC7bqlxElYprojOBX9FHJsshjlGorE4xgIX5o1n1=s0.png\n"
     ]
    },
    {
     "name": "stderr",
     "output_type": "stream",
     "text": [
      "/Users/shangliujun/opt/anaconda3/lib/python3.9/site-packages/urllib3/connectionpool.py:1043: InsecureRequestWarning: Unverified HTTPS request is being made to host '127.0.0.1'. Adding certificate verification is strongly advised. See: https://urllib3.readthedocs.io/en/1.26.x/advanced-usage.html#ssl-warnings\n",
      "  warnings.warn(\n"
     ]
    },
    {
     "name": "stdout",
     "output_type": "stream",
     "text": [
      "Saved image: chinese_ladies_images/4zIJRDTJ9Z_o97F-Uf0YC0G-AXXX5j1TVAtum060O-gxfyZNu5Fob7wqxGUoiCiiM7lBGugftMG_JxyEUsr2WHE5OP9n=s0.png\n"
     ]
    },
    {
     "name": "stderr",
     "output_type": "stream",
     "text": [
      "/Users/shangliujun/opt/anaconda3/lib/python3.9/site-packages/urllib3/connectionpool.py:1043: InsecureRequestWarning: Unverified HTTPS request is being made to host '127.0.0.1'. Adding certificate verification is strongly advised. See: https://urllib3.readthedocs.io/en/1.26.x/advanced-usage.html#ssl-warnings\n",
      "  warnings.warn(\n"
     ]
    },
    {
     "name": "stdout",
     "output_type": "stream",
     "text": [
      "Saved image: chinese_ladies_images/TprYuloURUaD7cwvbUt46YuLSzS_pyScunWYhBxJJQui40dcghO-xNAyyo-AJZ9pLxvLtNwVm2pfTj7BMb1xZgrtwA=s0.png\n"
     ]
    },
    {
     "name": "stderr",
     "output_type": "stream",
     "text": [
      "/Users/shangliujun/opt/anaconda3/lib/python3.9/site-packages/urllib3/connectionpool.py:1043: InsecureRequestWarning: Unverified HTTPS request is being made to host '127.0.0.1'. Adding certificate verification is strongly advised. See: https://urllib3.readthedocs.io/en/1.26.x/advanced-usage.html#ssl-warnings\n",
      "  warnings.warn(\n"
     ]
    },
    {
     "name": "stdout",
     "output_type": "stream",
     "text": [
      "Saved image: chinese_ladies_images/Bxw4eD9elwNKji6zC3PzldFB-uGeOCOrFHThOTn0__tqPSlFz4ann7f5c8QPsSCMG1oMBVUnSXHdjalc_8oZXWdbc08=s0.png\n"
     ]
    },
    {
     "name": "stderr",
     "output_type": "stream",
     "text": [
      "/Users/shangliujun/opt/anaconda3/lib/python3.9/site-packages/urllib3/connectionpool.py:1043: InsecureRequestWarning: Unverified HTTPS request is being made to host '127.0.0.1'. Adding certificate verification is strongly advised. See: https://urllib3.readthedocs.io/en/1.26.x/advanced-usage.html#ssl-warnings\n",
      "  warnings.warn(\n"
     ]
    },
    {
     "name": "stdout",
     "output_type": "stream",
     "text": [
      "Saved image: chinese_ladies_images/YnDbVRvClpWWF0OjFvqZded49MJvy73ZEcMv_K0SL8j-qvrywyhYiQQHpT9ddAr7QWkgXkzcySv2ec7pJI2WKZUYCw=s0.png\n"
     ]
    },
    {
     "name": "stderr",
     "output_type": "stream",
     "text": [
      "/Users/shangliujun/opt/anaconda3/lib/python3.9/site-packages/urllib3/connectionpool.py:1043: InsecureRequestWarning: Unverified HTTPS request is being made to host '127.0.0.1'. Adding certificate verification is strongly advised. See: https://urllib3.readthedocs.io/en/1.26.x/advanced-usage.html#ssl-warnings\n",
      "  warnings.warn(\n"
     ]
    },
    {
     "name": "stdout",
     "output_type": "stream",
     "text": [
      "Saved image: chinese_ladies_images/ZOZeODsN7RATIOscZEgJn1wqMHJDnmLmDjNByadEL59u1_9wMqJlvYMheowIYnl3PFcndaMHypB9GApKSaTgbDG77R0=s0.png\n"
     ]
    },
    {
     "name": "stderr",
     "output_type": "stream",
     "text": [
      "/Users/shangliujun/opt/anaconda3/lib/python3.9/site-packages/urllib3/connectionpool.py:1043: InsecureRequestWarning: Unverified HTTPS request is being made to host '127.0.0.1'. Adding certificate verification is strongly advised. See: https://urllib3.readthedocs.io/en/1.26.x/advanced-usage.html#ssl-warnings\n",
      "  warnings.warn(\n"
     ]
    },
    {
     "name": "stdout",
     "output_type": "stream",
     "text": [
      "Saved image: chinese_ladies_images/nJ0-lQeUKf5T_jz9NE6AVjDWPrFfABTKSh2w06_nglrIzthE963UppHtz9SNRGaFxWSIS7XpNISGbloSM7H_hGkJkkQ=s0.png\n"
     ]
    },
    {
     "name": "stderr",
     "output_type": "stream",
     "text": [
      "/Users/shangliujun/opt/anaconda3/lib/python3.9/site-packages/urllib3/connectionpool.py:1043: InsecureRequestWarning: Unverified HTTPS request is being made to host '127.0.0.1'. Adding certificate verification is strongly advised. See: https://urllib3.readthedocs.io/en/1.26.x/advanced-usage.html#ssl-warnings\n",
      "  warnings.warn(\n"
     ]
    },
    {
     "name": "stdout",
     "output_type": "stream",
     "text": [
      "Saved image: chinese_ladies_images/JlKboG9Tdqnx4wivHhoYVO0nYmuswh5oq9wqWZTyo4g0QHMQWQuWVVGRzF7-d2cQ1wN9fX3uchq73HnK2SsblxTgzA=s0.png\n"
     ]
    },
    {
     "name": "stderr",
     "output_type": "stream",
     "text": [
      "/Users/shangliujun/opt/anaconda3/lib/python3.9/site-packages/urllib3/connectionpool.py:1043: InsecureRequestWarning: Unverified HTTPS request is being made to host '127.0.0.1'. Adding certificate verification is strongly advised. See: https://urllib3.readthedocs.io/en/1.26.x/advanced-usage.html#ssl-warnings\n",
      "  warnings.warn(\n"
     ]
    },
    {
     "name": "stdout",
     "output_type": "stream",
     "text": [
      "Saved image: chinese_ladies_images/o8WMUmHAqbQHehf9qDTty_XChh2z90vGKUITaUgffKmNDruJfXa2c1MaalXHxsEf6WPz-njybrR7ISAfAGbpFGZdgw=s0.png\n"
     ]
    },
    {
     "name": "stderr",
     "output_type": "stream",
     "text": [
      "/Users/shangliujun/opt/anaconda3/lib/python3.9/site-packages/urllib3/connectionpool.py:1043: InsecureRequestWarning: Unverified HTTPS request is being made to host '127.0.0.1'. Adding certificate verification is strongly advised. See: https://urllib3.readthedocs.io/en/1.26.x/advanced-usage.html#ssl-warnings\n",
      "  warnings.warn(\n"
     ]
    },
    {
     "name": "stdout",
     "output_type": "stream",
     "text": [
      "Saved image: chinese_ladies_images/C0au_D3bgameh3H4umzDP6hLm6Di66FZRBW-SIBl6FDeBouH22mOE0-fpNV9QHaTdKli9lFR53Ek0Cz6BcGRKIVQ5g=s0.png\n"
     ]
    },
    {
     "name": "stderr",
     "output_type": "stream",
     "text": [
      "/Users/shangliujun/opt/anaconda3/lib/python3.9/site-packages/urllib3/connectionpool.py:1043: InsecureRequestWarning: Unverified HTTPS request is being made to host '127.0.0.1'. Adding certificate verification is strongly advised. See: https://urllib3.readthedocs.io/en/1.26.x/advanced-usage.html#ssl-warnings\n",
      "  warnings.warn(\n"
     ]
    },
    {
     "name": "stdout",
     "output_type": "stream",
     "text": [
      "Saved image: chinese_ladies_images/2bZ3F9mjueBq9CH98M26hxWbNbbpP3-m6LXQ5WpZk7uA6zHJd4nmfYOptVP8kgOVU95dD_IABZVeM3l1F7HeTc8Uuw=s0.png\n"
     ]
    },
    {
     "name": "stderr",
     "output_type": "stream",
     "text": [
      "/Users/shangliujun/opt/anaconda3/lib/python3.9/site-packages/urllib3/connectionpool.py:1043: InsecureRequestWarning: Unverified HTTPS request is being made to host '127.0.0.1'. Adding certificate verification is strongly advised. See: https://urllib3.readthedocs.io/en/1.26.x/advanced-usage.html#ssl-warnings\n",
      "  warnings.warn(\n"
     ]
    },
    {
     "name": "stdout",
     "output_type": "stream",
     "text": [
      "Saved image: chinese_ladies_images/bRV3WzSTkYp85M7K46cgktR__bDQHer-j_tZ5hzJHaED64EHK_WHq_996izd7gHjShifsYGwIYeLyuMkCsoiU1YF7W0=s0.png\n"
     ]
    },
    {
     "name": "stderr",
     "output_type": "stream",
     "text": [
      "/Users/shangliujun/opt/anaconda3/lib/python3.9/site-packages/urllib3/connectionpool.py:1043: InsecureRequestWarning: Unverified HTTPS request is being made to host '127.0.0.1'. Adding certificate verification is strongly advised. See: https://urllib3.readthedocs.io/en/1.26.x/advanced-usage.html#ssl-warnings\n",
      "  warnings.warn(\n"
     ]
    },
    {
     "name": "stdout",
     "output_type": "stream",
     "text": [
      "Saved image: chinese_ladies_images/jOFTihMrwvqipIUO2DsQh2T6LQbE403h0Rsnumix2Ak9x-ZX7GLYZ9y0UixJZI6FUHJjehNRtoHwJ292h-zLQhtjdA=s0.png\n"
     ]
    },
    {
     "name": "stderr",
     "output_type": "stream",
     "text": [
      "/Users/shangliujun/opt/anaconda3/lib/python3.9/site-packages/urllib3/connectionpool.py:1043: InsecureRequestWarning: Unverified HTTPS request is being made to host '127.0.0.1'. Adding certificate verification is strongly advised. See: https://urllib3.readthedocs.io/en/1.26.x/advanced-usage.html#ssl-warnings\n",
      "  warnings.warn(\n"
     ]
    },
    {
     "name": "stdout",
     "output_type": "stream",
     "text": [
      "Saved image: chinese_ladies_images/B208112.png\n"
     ]
    },
    {
     "name": "stderr",
     "output_type": "stream",
     "text": [
      "/Users/shangliujun/opt/anaconda3/lib/python3.9/site-packages/urllib3/connectionpool.py:1043: InsecureRequestWarning: Unverified HTTPS request is being made to host '127.0.0.1'. Adding certificate verification is strongly advised. See: https://urllib3.readthedocs.io/en/1.26.x/advanced-usage.html#ssl-warnings\n",
      "  warnings.warn(\n"
     ]
    },
    {
     "name": "stdout",
     "output_type": "stream",
     "text": [
      "Saved image: chinese_ladies_images/bnN3L5FJk8Plw2s56LjQAVzLA1rTOWGY27QIN9Ul7eKHGwTA5ZyU0_ms8MviXTsyXZSXZUFrN41Gc_1THcUXFPLduRMR=s0.png\n"
     ]
    },
    {
     "name": "stderr",
     "output_type": "stream",
     "text": [
      "/Users/shangliujun/opt/anaconda3/lib/python3.9/site-packages/urllib3/connectionpool.py:1043: InsecureRequestWarning: Unverified HTTPS request is being made to host '127.0.0.1'. Adding certificate verification is strongly advised. See: https://urllib3.readthedocs.io/en/1.26.x/advanced-usage.html#ssl-warnings\n",
      "  warnings.warn(\n"
     ]
    },
    {
     "name": "stdout",
     "output_type": "stream",
     "text": [
      "Saved image: chinese_ladies_images/ioW-BCPqrs08dxgOX9yfK8j27q1nrRdnjDugLsPnSrVyJ560LUbZco82x_wAk6NJR3KTyIpozvQmKUANCopx3KmJDQ=s0.png\n"
     ]
    },
    {
     "name": "stderr",
     "output_type": "stream",
     "text": [
      "/Users/shangliujun/opt/anaconda3/lib/python3.9/site-packages/urllib3/connectionpool.py:1043: InsecureRequestWarning: Unverified HTTPS request is being made to host '127.0.0.1'. Adding certificate verification is strongly advised. See: https://urllib3.readthedocs.io/en/1.26.x/advanced-usage.html#ssl-warnings\n",
      "  warnings.warn(\n"
     ]
    },
    {
     "name": "stdout",
     "output_type": "stream",
     "text": [
      "Saved image: chinese_ladies_images/H7xmhhV4ivcxilI_i28v2lkL2tolRvnw8MU2e1RWkFLx-Ikvky0RpupZz_3f4KYA4mjARLs_zwjmmYQJGESiqe97Vmc=s0.png\n"
     ]
    },
    {
     "name": "stderr",
     "output_type": "stream",
     "text": [
      "/Users/shangliujun/opt/anaconda3/lib/python3.9/site-packages/urllib3/connectionpool.py:1043: InsecureRequestWarning: Unverified HTTPS request is being made to host '127.0.0.1'. Adding certificate verification is strongly advised. See: https://urllib3.readthedocs.io/en/1.26.x/advanced-usage.html#ssl-warnings\n",
      "  warnings.warn(\n"
     ]
    },
    {
     "name": "stdout",
     "output_type": "stream",
     "text": [
      "Saved image: chinese_ladies_images/FUQ_Y3n963QDs0_0VL6r2sNUbRexTFfimxnwBbhGZL5ysUn1haM4shzD3qvmT8lvERHdbB1X-5pe3bGz3guuzciz6pw=s0.png\n"
     ]
    },
    {
     "name": "stderr",
     "output_type": "stream",
     "text": [
      "/Users/shangliujun/opt/anaconda3/lib/python3.9/site-packages/urllib3/connectionpool.py:1043: InsecureRequestWarning: Unverified HTTPS request is being made to host '127.0.0.1'. Adding certificate verification is strongly advised. See: https://urllib3.readthedocs.io/en/1.26.x/advanced-usage.html#ssl-warnings\n",
      "  warnings.warn(\n"
     ]
    },
    {
     "name": "stdout",
     "output_type": "stream",
     "text": [
      "Saved image: chinese_ladies_images/OJiuzvCQVarXnmjTjYb7aFkAX5-cPX_T0HllmAdXCGqch4w7wVqGQ26PCmEoJ6jCZ2pqBcXRhZlGXSI3lcV69I8CxZum=s0.png\n",
      "Failed to download or save image https://lh6.ggpht.com/qNO7s-u-G4U8IWtaEq9Wv6iA9Pz6igqDiX42_y5eAi-T2S-dr_In24UMYk7V1vApxEfmnC1OpudwDYsbQ9dMUFazWRa9=s0. Error: HTTPSConnectionPool(host='lh6.ggpht.com', port=443): Max retries exceeded with url: /qNO7s-u-G4U8IWtaEq9Wv6iA9Pz6igqDiX42_y5eAi-T2S-dr_In24UMYk7V1vApxEfmnC1OpudwDYsbQ9dMUFazWRa9=s0 (Caused by SSLError(SSLEOFError(8, 'EOF occurred in violation of protocol (_ssl.c:1129)')))\n"
     ]
    },
    {
     "name": "stderr",
     "output_type": "stream",
     "text": [
      "/Users/shangliujun/opt/anaconda3/lib/python3.9/site-packages/urllib3/connectionpool.py:1043: InsecureRequestWarning: Unverified HTTPS request is being made to host '127.0.0.1'. Adding certificate verification is strongly advised. See: https://urllib3.readthedocs.io/en/1.26.x/advanced-usage.html#ssl-warnings\n",
      "  warnings.warn(\n"
     ]
    },
    {
     "name": "stdout",
     "output_type": "stream",
     "text": [
      "Saved image: chinese_ladies_images/Dh6jXGSShTDRiZjXkPkhcHlLo2euzwvPOhU8R9oMsQ_SLnbcFVaHyujdIrvU9PCw6IsGWFTIrdVy7f_AgMYz98xCtE4=s0.png\n"
     ]
    },
    {
     "name": "stderr",
     "output_type": "stream",
     "text": [
      "/Users/shangliujun/opt/anaconda3/lib/python3.9/site-packages/urllib3/connectionpool.py:1043: InsecureRequestWarning: Unverified HTTPS request is being made to host '127.0.0.1'. Adding certificate verification is strongly advised. See: https://urllib3.readthedocs.io/en/1.26.x/advanced-usage.html#ssl-warnings\n",
      "  warnings.warn(\n"
     ]
    },
    {
     "name": "stdout",
     "output_type": "stream",
     "text": [
      "Saved image: chinese_ladies_images/MknPqQlwddOnVcHqGznIhjgWr7-1SrsXBBI9HJs0j6pdpytb5C49dDT18pgOV7VLA01jfEdJdm6Z3bpfklAcoIkGk98=s0.png\n"
     ]
    },
    {
     "name": "stderr",
     "output_type": "stream",
     "text": [
      "/Users/shangliujun/opt/anaconda3/lib/python3.9/site-packages/urllib3/connectionpool.py:1043: InsecureRequestWarning: Unverified HTTPS request is being made to host '127.0.0.1'. Adding certificate verification is strongly advised. See: https://urllib3.readthedocs.io/en/1.26.x/advanced-usage.html#ssl-warnings\n",
      "  warnings.warn(\n"
     ]
    },
    {
     "name": "stdout",
     "output_type": "stream",
     "text": [
      "Saved image: chinese_ladies_images/89MN5Ed-C6LYElj2xIuKKQtejFT3VowVpPabzlG6EBzpXN5CCrDK41RAAJQKBhMNfcgozsa428twW8Hg_8qDPkoGVPBs=s0.png\n"
     ]
    },
    {
     "name": "stderr",
     "output_type": "stream",
     "text": [
      "/Users/shangliujun/opt/anaconda3/lib/python3.9/site-packages/urllib3/connectionpool.py:1043: InsecureRequestWarning: Unverified HTTPS request is being made to host '127.0.0.1'. Adding certificate verification is strongly advised. See: https://urllib3.readthedocs.io/en/1.26.x/advanced-usage.html#ssl-warnings\n",
      "  warnings.warn(\n"
     ]
    },
    {
     "name": "stdout",
     "output_type": "stream",
     "text": [
      "Saved image: chinese_ladies_images/5JlTcp-WUV4YNlhLblSGxU8QAGp__di3w92pzd5ou4ZVnCV8l3bdqEmrOjY6PjCYcrw26WJd_RrBRdeIQ2h23fuGRx8=s0.png\n"
     ]
    },
    {
     "name": "stderr",
     "output_type": "stream",
     "text": [
      "/Users/shangliujun/opt/anaconda3/lib/python3.9/site-packages/urllib3/connectionpool.py:1043: InsecureRequestWarning: Unverified HTTPS request is being made to host '127.0.0.1'. Adding certificate verification is strongly advised. See: https://urllib3.readthedocs.io/en/1.26.x/advanced-usage.html#ssl-warnings\n",
      "  warnings.warn(\n"
     ]
    },
    {
     "name": "stdout",
     "output_type": "stream",
     "text": [
      "Saved image: chinese_ladies_images/U6IrNdb5ojkrzt1heFadDwyXt5B1Cf9OdE5jNJwciqztURLjFQ1Ksc1iplyp_RXXkL7bUB1cjbr7d0uE39GqF3EddVI=s0.png\n"
     ]
    },
    {
     "name": "stderr",
     "output_type": "stream",
     "text": [
      "/Users/shangliujun/opt/anaconda3/lib/python3.9/site-packages/urllib3/connectionpool.py:1043: InsecureRequestWarning: Unverified HTTPS request is being made to host '127.0.0.1'. Adding certificate verification is strongly advised. See: https://urllib3.readthedocs.io/en/1.26.x/advanced-usage.html#ssl-warnings\n",
      "  warnings.warn(\n"
     ]
    },
    {
     "name": "stdout",
     "output_type": "stream",
     "text": [
      "Saved image: chinese_ladies_images/iO0HYvluyiZTRpi0TARZj8i6NDq2836h-Y7mzDATJ_QvP-hNcPpF-zkKqQz9fSxSN1eSCL7GZVehLIAuGGiUhDpvGA=s0.png\n"
     ]
    },
    {
     "name": "stderr",
     "output_type": "stream",
     "text": [
      "/Users/shangliujun/opt/anaconda3/lib/python3.9/site-packages/urllib3/connectionpool.py:1043: InsecureRequestWarning: Unverified HTTPS request is being made to host '127.0.0.1'. Adding certificate verification is strongly advised. See: https://urllib3.readthedocs.io/en/1.26.x/advanced-usage.html#ssl-warnings\n",
      "  warnings.warn(\n"
     ]
    },
    {
     "name": "stdout",
     "output_type": "stream",
     "text": [
      "Saved image: chinese_ladies_images/heuGesVfbi5jzgktH0FDXViR2WfEveetcrYZVWEpPqwl-aVcw_sOjxze7T5N8HU-28gGx5UKo_M0zGVq3P_0XKKYrFI=s0.png\n"
     ]
    },
    {
     "name": "stderr",
     "output_type": "stream",
     "text": [
      "/Users/shangliujun/opt/anaconda3/lib/python3.9/site-packages/urllib3/connectionpool.py:1043: InsecureRequestWarning: Unverified HTTPS request is being made to host '127.0.0.1'. Adding certificate verification is strongly advised. See: https://urllib3.readthedocs.io/en/1.26.x/advanced-usage.html#ssl-warnings\n",
      "  warnings.warn(\n"
     ]
    },
    {
     "name": "stdout",
     "output_type": "stream",
     "text": [
      "Saved image: chinese_ladies_images/GEjvREcDCc06dlXVlJXpUo4VKAludcjOg4Kcs8P3QnZnBQ9IRpsrjNAHRuFSlWzrsk7aCaAbtMa-aqsIKFg3BVIUEdAg=s0.png\n"
     ]
    },
    {
     "name": "stderr",
     "output_type": "stream",
     "text": [
      "/Users/shangliujun/opt/anaconda3/lib/python3.9/site-packages/urllib3/connectionpool.py:1043: InsecureRequestWarning: Unverified HTTPS request is being made to host '127.0.0.1'. Adding certificate verification is strongly advised. See: https://urllib3.readthedocs.io/en/1.26.x/advanced-usage.html#ssl-warnings\n",
      "  warnings.warn(\n"
     ]
    },
    {
     "name": "stdout",
     "output_type": "stream",
     "text": [
      "Saved image: chinese_ladies_images/5U4g8ktyj0rhKjkBEcDq_G91gm1LwHEzAl_w_lMs7LYohxmeCdCgGYQsQNJr3Ju53ytCzDnyG9oodsxvsDZiXR4U_bk=s0.png\n"
     ]
    },
    {
     "name": "stderr",
     "output_type": "stream",
     "text": [
      "/Users/shangliujun/opt/anaconda3/lib/python3.9/site-packages/urllib3/connectionpool.py:1043: InsecureRequestWarning: Unverified HTTPS request is being made to host '127.0.0.1'. Adding certificate verification is strongly advised. See: https://urllib3.readthedocs.io/en/1.26.x/advanced-usage.html#ssl-warnings\n",
      "  warnings.warn(\n"
     ]
    },
    {
     "name": "stdout",
     "output_type": "stream",
     "text": [
      "Saved image: chinese_ladies_images/GhntpY7JddOP8V1ZsCAa4AOOCo5kNcVcvrn6oOJP61NgmiRbY0eEi-Q8BES_1WOalB1epwT5qC-IQ_pzthsYQqRPWlg=s0.png\n",
      "Failed to download or save image https://lh5.ggpht.com/vxTJEewzw1TVpisLgfPl23uIhwyLJLMsemOZ8ohHqmbsM-8Xa281uEIsyVbzT2dbTpWiK1bopNJ2WXdK3q-jSDlVt4U=s0. Error: HTTPSConnectionPool(host='lh5.ggpht.com', port=443): Max retries exceeded with url: /vxTJEewzw1TVpisLgfPl23uIhwyLJLMsemOZ8ohHqmbsM-8Xa281uEIsyVbzT2dbTpWiK1bopNJ2WXdK3q-jSDlVt4U=s0 (Caused by SSLError(SSLEOFError(8, 'EOF occurred in violation of protocol (_ssl.c:1129)')))\n"
     ]
    },
    {
     "name": "stderr",
     "output_type": "stream",
     "text": [
      "/Users/shangliujun/opt/anaconda3/lib/python3.9/site-packages/urllib3/connectionpool.py:1043: InsecureRequestWarning: Unverified HTTPS request is being made to host '127.0.0.1'. Adding certificate verification is strongly advised. See: https://urllib3.readthedocs.io/en/1.26.x/advanced-usage.html#ssl-warnings\n",
      "  warnings.warn(\n"
     ]
    },
    {
     "name": "stdout",
     "output_type": "stream",
     "text": [
      "Saved image: chinese_ladies_images/lPq6Rdu6zzJpTkm_WtSP2y6aMXWywPoL-AH1CgTDdlTbLw0OiOENOPrL6hTkyuPt6r1v1XAU7kKM820z7m2At9yBZw=s0.png\n"
     ]
    },
    {
     "name": "stderr",
     "output_type": "stream",
     "text": [
      "/Users/shangliujun/opt/anaconda3/lib/python3.9/site-packages/urllib3/connectionpool.py:1043: InsecureRequestWarning: Unverified HTTPS request is being made to host '127.0.0.1'. Adding certificate verification is strongly advised. See: https://urllib3.readthedocs.io/en/1.26.x/advanced-usage.html#ssl-warnings\n",
      "  warnings.warn(\n"
     ]
    },
    {
     "name": "stdout",
     "output_type": "stream",
     "text": [
      "Saved image: chinese_ladies_images/4M2eT6mhwXB8sZbTQzoV6OFMhjQ_gZfW0dgTyF8vfYWogdNmSszFb1TzbOOVWkIvG7w3fBva97Kk66qX7_YHAM0hIFQ=s0.png\n"
     ]
    },
    {
     "name": "stderr",
     "output_type": "stream",
     "text": [
      "/Users/shangliujun/opt/anaconda3/lib/python3.9/site-packages/urllib3/connectionpool.py:1043: InsecureRequestWarning: Unverified HTTPS request is being made to host '127.0.0.1'. Adding certificate verification is strongly advised. See: https://urllib3.readthedocs.io/en/1.26.x/advanced-usage.html#ssl-warnings\n",
      "  warnings.warn(\n"
     ]
    },
    {
     "name": "stdout",
     "output_type": "stream",
     "text": [
      "Saved image: chinese_ladies_images/Y0SKs47Rnsf_QpHspoI8n2FdOOrxmgD_YP9AjFomL-s9Cc-fcJSwyHwbm2RZFD9NYT6zckqDWVGChbyfNDaAtyl-iw=s0.png\n"
     ]
    },
    {
     "name": "stderr",
     "output_type": "stream",
     "text": [
      "/Users/shangliujun/opt/anaconda3/lib/python3.9/site-packages/urllib3/connectionpool.py:1043: InsecureRequestWarning: Unverified HTTPS request is being made to host '127.0.0.1'. Adding certificate verification is strongly advised. See: https://urllib3.readthedocs.io/en/1.26.x/advanced-usage.html#ssl-warnings\n",
      "  warnings.warn(\n"
     ]
    },
    {
     "name": "stdout",
     "output_type": "stream",
     "text": [
      "Saved image: chinese_ladies_images/El7YjsdF7n_16DN9P73Uh46oBVy4tfSdOnH1x61HGz5rajmKDK0LpYsxz6y9B7zgblJPvkCZQ4ocfUFNSZvZ60X1HrI=s0.png\n"
     ]
    },
    {
     "name": "stderr",
     "output_type": "stream",
     "text": [
      "/Users/shangliujun/opt/anaconda3/lib/python3.9/site-packages/urllib3/connectionpool.py:1043: InsecureRequestWarning: Unverified HTTPS request is being made to host '127.0.0.1'. Adding certificate verification is strongly advised. See: https://urllib3.readthedocs.io/en/1.26.x/advanced-usage.html#ssl-warnings\n",
      "  warnings.warn(\n"
     ]
    },
    {
     "name": "stdout",
     "output_type": "stream",
     "text": [
      "Saved image: chinese_ladies_images/R6bLHGIUCEkkXHQlFOdR70vBI035ny_gVkEq4ewlDe6Q46X_6DYfdUzV_M4qZj955JS9j6zwnCLnAo13ONbyYMkJu-w=s0.png\n"
     ]
    },
    {
     "name": "stderr",
     "output_type": "stream",
     "text": [
      "/Users/shangliujun/opt/anaconda3/lib/python3.9/site-packages/urllib3/connectionpool.py:1043: InsecureRequestWarning: Unverified HTTPS request is being made to host '127.0.0.1'. Adding certificate verification is strongly advised. See: https://urllib3.readthedocs.io/en/1.26.x/advanced-usage.html#ssl-warnings\n",
      "  warnings.warn(\n"
     ]
    },
    {
     "name": "stdout",
     "output_type": "stream",
     "text": [
      "Saved image: chinese_ladies_images/mNEN1-vtFrw2BXNLs4TCo89kC3damsicujMmKTrYyp-rqbJfnEdS0sPVuxvnaCIVcICXCA1qpwO1GTrmmk83guXBfBc=s0.png\n"
     ]
    },
    {
     "name": "stderr",
     "output_type": "stream",
     "text": [
      "/Users/shangliujun/opt/anaconda3/lib/python3.9/site-packages/urllib3/connectionpool.py:1043: InsecureRequestWarning: Unverified HTTPS request is being made to host '127.0.0.1'. Adding certificate verification is strongly advised. See: https://urllib3.readthedocs.io/en/1.26.x/advanced-usage.html#ssl-warnings\n",
      "  warnings.warn(\n"
     ]
    },
    {
     "name": "stdout",
     "output_type": "stream",
     "text": [
      "Saved image: chinese_ladies_images/1UwEgrzIVSZtw9V6cyRBCrfSh4AVjhmnRImCVM7BWIC2hi3WS2NpYFCfTvvLzRwlbUIthajWwjQIwJd97nbQsKU7mQ=s0.png\n"
     ]
    },
    {
     "name": "stderr",
     "output_type": "stream",
     "text": [
      "/Users/shangliujun/opt/anaconda3/lib/python3.9/site-packages/urllib3/connectionpool.py:1043: InsecureRequestWarning: Unverified HTTPS request is being made to host '127.0.0.1'. Adding certificate verification is strongly advised. See: https://urllib3.readthedocs.io/en/1.26.x/advanced-usage.html#ssl-warnings\n",
      "  warnings.warn(\n"
     ]
    },
    {
     "name": "stdout",
     "output_type": "stream",
     "text": [
      "Saved image: chinese_ladies_images/_MAgCqix9RY_H1NGzXLUNaP1dbBjXFMINTt3QrbMe_7BU5qaHLhwVAU4LIxSvlyKeFthYmgPs2ZG1RUD2-_7JyUPPQ=s0.png\n",
      "Failed to download or save image https://lh5.ggpht.com/tcJ4bNrK70iBLloqeDf96qNLiuOGmZUhvJiTIAaw43qG1qDuNJl0yWyFQCzf8rERnXE9fPF33MQmdMJuTl_1feCjYK-u=s0. Error: HTTPSConnectionPool(host='lh5.ggpht.com', port=443): Max retries exceeded with url: /tcJ4bNrK70iBLloqeDf96qNLiuOGmZUhvJiTIAaw43qG1qDuNJl0yWyFQCzf8rERnXE9fPF33MQmdMJuTl_1feCjYK-u=s0 (Caused by SSLError(SSLEOFError(8, 'EOF occurred in violation of protocol (_ssl.c:1129)')))\n"
     ]
    },
    {
     "name": "stderr",
     "output_type": "stream",
     "text": [
      "/Users/shangliujun/opt/anaconda3/lib/python3.9/site-packages/urllib3/connectionpool.py:1043: InsecureRequestWarning: Unverified HTTPS request is being made to host '127.0.0.1'. Adding certificate verification is strongly advised. See: https://urllib3.readthedocs.io/en/1.26.x/advanced-usage.html#ssl-warnings\n",
      "  warnings.warn(\n"
     ]
    },
    {
     "name": "stdout",
     "output_type": "stream",
     "text": [
      "Saved image: chinese_ladies_images/ewN0_evqptcYyJ0itaI8ZH7MrbB0V173nUCN5Zd3fgqsYyZ_FKZPyPWvK3lcWLm0PsAZEhCPMDHtxyF70Z3onO8jTg=s0.png\n"
     ]
    },
    {
     "name": "stderr",
     "output_type": "stream",
     "text": [
      "/Users/shangliujun/opt/anaconda3/lib/python3.9/site-packages/urllib3/connectionpool.py:1043: InsecureRequestWarning: Unverified HTTPS request is being made to host '127.0.0.1'. Adding certificate verification is strongly advised. See: https://urllib3.readthedocs.io/en/1.26.x/advanced-usage.html#ssl-warnings\n",
      "  warnings.warn(\n"
     ]
    },
    {
     "name": "stdout",
     "output_type": "stream",
     "text": [
      "Saved image: chinese_ladies_images/CFxOkS4It-blF7LwBw5RD5XaF34z91g8ExCk5UVWzq0IXwUmkRLDK8Ee30RBY05JsYxdWvDIkTrvRT8H_eosRstKk66D=s0.png\n"
     ]
    },
    {
     "name": "stderr",
     "output_type": "stream",
     "text": [
      "/Users/shangliujun/opt/anaconda3/lib/python3.9/site-packages/urllib3/connectionpool.py:1043: InsecureRequestWarning: Unverified HTTPS request is being made to host '127.0.0.1'. Adding certificate verification is strongly advised. See: https://urllib3.readthedocs.io/en/1.26.x/advanced-usage.html#ssl-warnings\n",
      "  warnings.warn(\n"
     ]
    },
    {
     "name": "stdout",
     "output_type": "stream",
     "text": [
      "Saved image: chinese_ladies_images/xYHoAWuyQrpI_LXE5flXrdZtJlKqE96Asd4eTXhHJWL-GjKGxGluK5nTMpY7oOWDqhJx4DyXMNc_3b7xA8orbTUf1zdf=s0.png\n"
     ]
    },
    {
     "name": "stderr",
     "output_type": "stream",
     "text": [
      "/Users/shangliujun/opt/anaconda3/lib/python3.9/site-packages/urllib3/connectionpool.py:1043: InsecureRequestWarning: Unverified HTTPS request is being made to host '127.0.0.1'. Adding certificate verification is strongly advised. See: https://urllib3.readthedocs.io/en/1.26.x/advanced-usage.html#ssl-warnings\n",
      "  warnings.warn(\n"
     ]
    },
    {
     "name": "stdout",
     "output_type": "stream",
     "text": [
      "Saved image: chinese_ladies_images/89hlXl-4DMz4wXccTgfuSTWXtXgC54w-8NmKOFAtmSMAqxM0nKayrG_6Sg5YIv9u5Kz8DaMl0r-_YCblnkVqEuE26l5R=s0.png\n"
     ]
    },
    {
     "name": "stderr",
     "output_type": "stream",
     "text": [
      "/Users/shangliujun/opt/anaconda3/lib/python3.9/site-packages/urllib3/connectionpool.py:1043: InsecureRequestWarning: Unverified HTTPS request is being made to host '127.0.0.1'. Adding certificate verification is strongly advised. See: https://urllib3.readthedocs.io/en/1.26.x/advanced-usage.html#ssl-warnings\n",
      "  warnings.warn(\n"
     ]
    },
    {
     "name": "stdout",
     "output_type": "stream",
     "text": [
      "Saved image: chinese_ladies_images/gxnb9yHUmYgLFK-fX_gWyW4G9smb1m3pd5Vb_vUuLdUmuH4t-fpb4jrfqSNpoTDMajXMANsPm-6Ev7Q1EjlE-d83Zg=s0.png\n"
     ]
    },
    {
     "name": "stderr",
     "output_type": "stream",
     "text": [
      "/Users/shangliujun/opt/anaconda3/lib/python3.9/site-packages/urllib3/connectionpool.py:1043: InsecureRequestWarning: Unverified HTTPS request is being made to host '127.0.0.1'. Adding certificate verification is strongly advised. See: https://urllib3.readthedocs.io/en/1.26.x/advanced-usage.html#ssl-warnings\n",
      "  warnings.warn(\n"
     ]
    },
    {
     "name": "stdout",
     "output_type": "stream",
     "text": [
      "Saved image: chinese_ladies_images/12l5hqFqzKA3dO3qjiv1bwXt9dyplwnYi9a6LQ2aEAC4kFOG7FbaDff1zQWcWUDaUuU85nryUGfE6VfRodNki59vNP82=s0.png\n"
     ]
    },
    {
     "name": "stderr",
     "output_type": "stream",
     "text": [
      "/Users/shangliujun/opt/anaconda3/lib/python3.9/site-packages/urllib3/connectionpool.py:1043: InsecureRequestWarning: Unverified HTTPS request is being made to host '127.0.0.1'. Adding certificate verification is strongly advised. See: https://urllib3.readthedocs.io/en/1.26.x/advanced-usage.html#ssl-warnings\n",
      "  warnings.warn(\n"
     ]
    },
    {
     "name": "stdout",
     "output_type": "stream",
     "text": [
      "Saved image: chinese_ladies_images/cpGPgEtLPdlBtSP2bLjHE9tWe-3_Wsj7s7t8Sor5CZUdOMjZm2Q8GS_WIL6JABk_15Af8e-k4cSm8vzPRpLnIcMxc5g=s0.png\n"
     ]
    },
    {
     "name": "stderr",
     "output_type": "stream",
     "text": [
      "/Users/shangliujun/opt/anaconda3/lib/python3.9/site-packages/urllib3/connectionpool.py:1043: InsecureRequestWarning: Unverified HTTPS request is being made to host '127.0.0.1'. Adding certificate verification is strongly advised. See: https://urllib3.readthedocs.io/en/1.26.x/advanced-usage.html#ssl-warnings\n",
      "  warnings.warn(\n"
     ]
    },
    {
     "name": "stdout",
     "output_type": "stream",
     "text": [
      "Saved image: chinese_ladies_images/sxwK6T7azUf4hCHQDMNhbYeJru-ZD-jkA-CGK0XjfmIBg1D4Fj98yM1lqR61FpXq1Czl_eMT3z3LUg9cQG1MIDjt=s0.png\n"
     ]
    },
    {
     "name": "stderr",
     "output_type": "stream",
     "text": [
      "/Users/shangliujun/opt/anaconda3/lib/python3.9/site-packages/urllib3/connectionpool.py:1043: InsecureRequestWarning: Unverified HTTPS request is being made to host '127.0.0.1'. Adding certificate verification is strongly advised. See: https://urllib3.readthedocs.io/en/1.26.x/advanced-usage.html#ssl-warnings\n",
      "  warnings.warn(\n"
     ]
    },
    {
     "name": "stdout",
     "output_type": "stream",
     "text": [
      "Saved image: chinese_ladies_images/w0q2pDgdDWSiYPTV98uGL9jsV1cDLfYy3TjdP2iQCReKg3FnF4HKKVjEckv-UBz0-0DsUkgWT7mBkUhabu_tZoBcrqEQ=s0.png\n"
     ]
    },
    {
     "name": "stderr",
     "output_type": "stream",
     "text": [
      "/Users/shangliujun/opt/anaconda3/lib/python3.9/site-packages/urllib3/connectionpool.py:1043: InsecureRequestWarning: Unverified HTTPS request is being made to host '127.0.0.1'. Adding certificate verification is strongly advised. See: https://urllib3.readthedocs.io/en/1.26.x/advanced-usage.html#ssl-warnings\n",
      "  warnings.warn(\n"
     ]
    },
    {
     "name": "stdout",
     "output_type": "stream",
     "text": [
      "Saved image: chinese_ladies_images/yMcpSdvdagllG1mG1PpeesxQV1CEkXvkdoPg_ScZaqRyBLMcrXOrQSIO9N5KlzdebskyrCIMFWiBaQ4yxE8u9-xlo4c=s0.png\n"
     ]
    },
    {
     "name": "stderr",
     "output_type": "stream",
     "text": [
      "/Users/shangliujun/opt/anaconda3/lib/python3.9/site-packages/urllib3/connectionpool.py:1043: InsecureRequestWarning: Unverified HTTPS request is being made to host '127.0.0.1'. Adding certificate verification is strongly advised. See: https://urllib3.readthedocs.io/en/1.26.x/advanced-usage.html#ssl-warnings\n",
      "  warnings.warn(\n"
     ]
    },
    {
     "name": "stdout",
     "output_type": "stream",
     "text": [
      "Saved image: chinese_ladies_images/HjfM1L7DS-jAQJ33DENnIIH9CUnbwvXIGEFeK7wZWczO9aayBI0EadzkSulYVOanmhiysKnmAi5yVCnOCISSGvaarg=s0.png\n"
     ]
    },
    {
     "name": "stderr",
     "output_type": "stream",
     "text": [
      "/Users/shangliujun/opt/anaconda3/lib/python3.9/site-packages/urllib3/connectionpool.py:1043: InsecureRequestWarning: Unverified HTTPS request is being made to host '127.0.0.1'. Adding certificate verification is strongly advised. See: https://urllib3.readthedocs.io/en/1.26.x/advanced-usage.html#ssl-warnings\n",
      "  warnings.warn(\n"
     ]
    },
    {
     "name": "stdout",
     "output_type": "stream",
     "text": [
      "Saved image: chinese_ladies_images/vNxoMqCYcymTTPSPYB2uAvSdqluDYAAm305oQcfzVdbyQ0QP_TqZbRpyl5YCNcSggAhSzeh03sIjcugVL_xb-4zJEu4=s0.png\n",
      "Failed to download or save image https://lh5.ggpht.com/D2kstZNuoRhQXfXqhmdXqGUOeN8MIuTkQ_5pxidcTOPACXV8iLm7WA8u591m1NzC7mYePXhbkw5q1JFsbnCJWkuWJVw=s0. Error: HTTPSConnectionPool(host='lh5.ggpht.com', port=443): Max retries exceeded with url: /D2kstZNuoRhQXfXqhmdXqGUOeN8MIuTkQ_5pxidcTOPACXV8iLm7WA8u591m1NzC7mYePXhbkw5q1JFsbnCJWkuWJVw=s0 (Caused by SSLError(SSLEOFError(8, 'EOF occurred in violation of protocol (_ssl.c:1129)')))\n"
     ]
    },
    {
     "name": "stderr",
     "output_type": "stream",
     "text": [
      "/Users/shangliujun/opt/anaconda3/lib/python3.9/site-packages/urllib3/connectionpool.py:1043: InsecureRequestWarning: Unverified HTTPS request is being made to host '127.0.0.1'. Adding certificate verification is strongly advised. See: https://urllib3.readthedocs.io/en/1.26.x/advanced-usage.html#ssl-warnings\n",
      "  warnings.warn(\n"
     ]
    },
    {
     "name": "stdout",
     "output_type": "stream",
     "text": [
      "Saved image: chinese_ladies_images/7EBvksixRlHgPORQFIpUZlIoER82E1yTT7P10JbW7wNnFSrdQUr5kMdspmV-if_F4Ul8Dk33PaHPbbP0AioREYXR_g=s0.png\n"
     ]
    },
    {
     "name": "stderr",
     "output_type": "stream",
     "text": [
      "/Users/shangliujun/opt/anaconda3/lib/python3.9/site-packages/urllib3/connectionpool.py:1043: InsecureRequestWarning: Unverified HTTPS request is being made to host '127.0.0.1'. Adding certificate verification is strongly advised. See: https://urllib3.readthedocs.io/en/1.26.x/advanced-usage.html#ssl-warnings\n",
      "  warnings.warn(\n"
     ]
    },
    {
     "name": "stdout",
     "output_type": "stream",
     "text": [
      "Saved image: chinese_ladies_images/OneNRIqwpHqI425oGPEh1zRuoZ3O8JUEoFcS51CQB3W5dbRf8UsYZ1vxLsLFcu4pEYkp4Hxy8vy97AQ5DH4nuja0KCI=s0.png\n"
     ]
    },
    {
     "name": "stderr",
     "output_type": "stream",
     "text": [
      "/Users/shangliujun/opt/anaconda3/lib/python3.9/site-packages/urllib3/connectionpool.py:1043: InsecureRequestWarning: Unverified HTTPS request is being made to host '127.0.0.1'. Adding certificate verification is strongly advised. See: https://urllib3.readthedocs.io/en/1.26.x/advanced-usage.html#ssl-warnings\n",
      "  warnings.warn(\n"
     ]
    },
    {
     "name": "stdout",
     "output_type": "stream",
     "text": [
      "Saved image: chinese_ladies_images/AEFvVJPioESJmUf-FDYxjKvqC6z7kNw1tak-d0z55zlN_cn6-wKUjZtC40nAsBtOdIVFpfOHg-qB0NLbICoy8FR99w=s0.png\n"
     ]
    },
    {
     "name": "stderr",
     "output_type": "stream",
     "text": [
      "/Users/shangliujun/opt/anaconda3/lib/python3.9/site-packages/urllib3/connectionpool.py:1043: InsecureRequestWarning: Unverified HTTPS request is being made to host '127.0.0.1'. Adding certificate verification is strongly advised. See: https://urllib3.readthedocs.io/en/1.26.x/advanced-usage.html#ssl-warnings\n",
      "  warnings.warn(\n"
     ]
    },
    {
     "name": "stdout",
     "output_type": "stream",
     "text": [
      "Saved image: chinese_ladies_images/OORi9FRrmczlWUzu3qV8PbrlQdC9JPApzmkJ6l40YX294cizrp8IdLOAcPHs8_EhohCHvknzH8psBkyPIO4GaC3BVo0=s0.png\n"
     ]
    },
    {
     "name": "stderr",
     "output_type": "stream",
     "text": [
      "/Users/shangliujun/opt/anaconda3/lib/python3.9/site-packages/urllib3/connectionpool.py:1043: InsecureRequestWarning: Unverified HTTPS request is being made to host '127.0.0.1'. Adding certificate verification is strongly advised. See: https://urllib3.readthedocs.io/en/1.26.x/advanced-usage.html#ssl-warnings\n",
      "  warnings.warn(\n"
     ]
    },
    {
     "name": "stdout",
     "output_type": "stream",
     "text": [
      "Saved image: chinese_ladies_images/Jbq3qOv5eLln0sEpeamcd8Ox2FuS6AkeMriKKmS3-BwqB345Yv7zOcmPzWwlGcUodZMcn3-8FzFeWnI-qJhZHsWWt-Q0=s0.png\n"
     ]
    },
    {
     "name": "stderr",
     "output_type": "stream",
     "text": [
      "/Users/shangliujun/opt/anaconda3/lib/python3.9/site-packages/urllib3/connectionpool.py:1043: InsecureRequestWarning: Unverified HTTPS request is being made to host '127.0.0.1'. Adding certificate verification is strongly advised. See: https://urllib3.readthedocs.io/en/1.26.x/advanced-usage.html#ssl-warnings\n",
      "  warnings.warn(\n"
     ]
    },
    {
     "name": "stdout",
     "output_type": "stream",
     "text": [
      "Saved image: chinese_ladies_images/OoT2c_1UeIBecdMLEN8TJSIi2IdKgVa9ntSjKvu6S3BOSk7n0aO11lt3IYy0V-yIpskOXomujmkmcSR0WoohffNJ3nk=s0.png\n"
     ]
    },
    {
     "name": "stderr",
     "output_type": "stream",
     "text": [
      "/Users/shangliujun/opt/anaconda3/lib/python3.9/site-packages/urllib3/connectionpool.py:1043: InsecureRequestWarning: Unverified HTTPS request is being made to host '127.0.0.1'. Adding certificate verification is strongly advised. See: https://urllib3.readthedocs.io/en/1.26.x/advanced-usage.html#ssl-warnings\n",
      "  warnings.warn(\n"
     ]
    },
    {
     "name": "stdout",
     "output_type": "stream",
     "text": [
      "Saved image: chinese_ladies_images/7GmZxkF3izDuzN2tpZKDW3OwF3V1yAPUd9ljaJutcCIVAdDCrUPkbp_nIBNygwx_O96-d-remt0kkZiJ6-XKzS-t4DM=s0.png\n"
     ]
    },
    {
     "name": "stderr",
     "output_type": "stream",
     "text": [
      "/Users/shangliujun/opt/anaconda3/lib/python3.9/site-packages/urllib3/connectionpool.py:1043: InsecureRequestWarning: Unverified HTTPS request is being made to host '127.0.0.1'. Adding certificate verification is strongly advised. See: https://urllib3.readthedocs.io/en/1.26.x/advanced-usage.html#ssl-warnings\n",
      "  warnings.warn(\n"
     ]
    },
    {
     "name": "stdout",
     "output_type": "stream",
     "text": [
      "Saved image: chinese_ladies_images/wvCd0IfSafmrWSzapJeO4NQfLXMRcbH_s-zJ2psdVqD0rVhS-yM07Cv-26x1-lfwHhxZIAUM2KwST0a2CXGGYEGvIX0=s0.png\n"
     ]
    },
    {
     "name": "stderr",
     "output_type": "stream",
     "text": [
      "/Users/shangliujun/opt/anaconda3/lib/python3.9/site-packages/urllib3/connectionpool.py:1043: InsecureRequestWarning: Unverified HTTPS request is being made to host '127.0.0.1'. Adding certificate verification is strongly advised. See: https://urllib3.readthedocs.io/en/1.26.x/advanced-usage.html#ssl-warnings\n",
      "  warnings.warn(\n"
     ]
    },
    {
     "name": "stdout",
     "output_type": "stream",
     "text": [
      "Saved image: chinese_ladies_images/g2NvNmreB7I-CFwhZbaPbQMRVJ-9PPli3qadxxkaEJg-c6_N2Crz_yAm2xjVtPuJU0j0V3SOFmHa33Md7Jw7Wd786A4=s0.png\n"
     ]
    },
    {
     "name": "stderr",
     "output_type": "stream",
     "text": [
      "/Users/shangliujun/opt/anaconda3/lib/python3.9/site-packages/urllib3/connectionpool.py:1043: InsecureRequestWarning: Unverified HTTPS request is being made to host '127.0.0.1'. Adding certificate verification is strongly advised. See: https://urllib3.readthedocs.io/en/1.26.x/advanced-usage.html#ssl-warnings\n",
      "  warnings.warn(\n"
     ]
    },
    {
     "name": "stdout",
     "output_type": "stream",
     "text": [
      "Saved image: chinese_ladies_images/cPPXsBXnCRzB7zfJw6s-z8H5Ea24uakGtSSHf_MdyBxN3GqhlOEJZUhyIYkVImAa0ICNzG0XT_cFYyYZXHZr_Ijjv7k=s0.png\n"
     ]
    },
    {
     "name": "stderr",
     "output_type": "stream",
     "text": [
      "/Users/shangliujun/opt/anaconda3/lib/python3.9/site-packages/urllib3/connectionpool.py:1043: InsecureRequestWarning: Unverified HTTPS request is being made to host '127.0.0.1'. Adding certificate verification is strongly advised. See: https://urllib3.readthedocs.io/en/1.26.x/advanced-usage.html#ssl-warnings\n",
      "  warnings.warn(\n"
     ]
    },
    {
     "name": "stdout",
     "output_type": "stream",
     "text": [
      "Saved image: chinese_ladies_images/FTM_uYyfOCon9w-auowuF_w-gJB_AwSQzo4ZhDGVL7oH5le3oyzrJOOAD2uFOdQc5PROrFmjf4MzrRZvVbPrROtcTu0=s0.png\n"
     ]
    },
    {
     "name": "stderr",
     "output_type": "stream",
     "text": [
      "/Users/shangliujun/opt/anaconda3/lib/python3.9/site-packages/urllib3/connectionpool.py:1043: InsecureRequestWarning: Unverified HTTPS request is being made to host '127.0.0.1'. Adding certificate verification is strongly advised. See: https://urllib3.readthedocs.io/en/1.26.x/advanced-usage.html#ssl-warnings\n",
      "  warnings.warn(\n"
     ]
    },
    {
     "name": "stdout",
     "output_type": "stream",
     "text": [
      "Saved image: chinese_ladies_images/nioa7j4-EfDds0g-sYlRhPpBxWsTM_DhmaJWQp23HvUR5RS3DMDsCLWQtL2Oe0Z6SpGMX2ecU_br5xb_IYJ4rTqKBQ=s0.png\n",
      "Failed to download or save image https://lh5.ggpht.com/JbkQJmOfX7Vd8f30e4IMdXaFlqISzQTxBQv0Ou4gdexdRmil4fTFN0E9SkpCQ1NnVgxQaaUzTRPiqvYcJ0ye1fzL=s0. Error: HTTPSConnectionPool(host='lh5.ggpht.com', port=443): Max retries exceeded with url: /JbkQJmOfX7Vd8f30e4IMdXaFlqISzQTxBQv0Ou4gdexdRmil4fTFN0E9SkpCQ1NnVgxQaaUzTRPiqvYcJ0ye1fzL=s0 (Caused by SSLError(SSLEOFError(8, 'EOF occurred in violation of protocol (_ssl.c:1129)')))\n"
     ]
    },
    {
     "name": "stderr",
     "output_type": "stream",
     "text": [
      "/Users/shangliujun/opt/anaconda3/lib/python3.9/site-packages/urllib3/connectionpool.py:1043: InsecureRequestWarning: Unverified HTTPS request is being made to host '127.0.0.1'. Adding certificate verification is strongly advised. See: https://urllib3.readthedocs.io/en/1.26.x/advanced-usage.html#ssl-warnings\n",
      "  warnings.warn(\n"
     ]
    },
    {
     "name": "stdout",
     "output_type": "stream",
     "text": [
      "Saved image: chinese_ladies_images/r8OK-Rq5IbMvlhFbiaic7ivEFj9jasDi-Ri1FSjnblb7t_WK68lbX_twtvsjME6TF44BOnxgjfD-NAooTtMSSztepw=s0.png\n"
     ]
    },
    {
     "name": "stderr",
     "output_type": "stream",
     "text": [
      "/Users/shangliujun/opt/anaconda3/lib/python3.9/site-packages/urllib3/connectionpool.py:1043: InsecureRequestWarning: Unverified HTTPS request is being made to host '127.0.0.1'. Adding certificate verification is strongly advised. See: https://urllib3.readthedocs.io/en/1.26.x/advanced-usage.html#ssl-warnings\n",
      "  warnings.warn(\n"
     ]
    },
    {
     "name": "stdout",
     "output_type": "stream",
     "text": [
      "Saved image: chinese_ladies_images/n6RNiD1Z0GEsHd5dT8CNa877R7qYWKOHZ9OyFmVZl4lTzOShQKpaVoK_3KJ9Hs5qbiGhIqQA7LWoWNq3pHnPvYgMHu8=s0.png\n"
     ]
    },
    {
     "name": "stderr",
     "output_type": "stream",
     "text": [
      "/Users/shangliujun/opt/anaconda3/lib/python3.9/site-packages/urllib3/connectionpool.py:1043: InsecureRequestWarning: Unverified HTTPS request is being made to host '127.0.0.1'. Adding certificate verification is strongly advised. See: https://urllib3.readthedocs.io/en/1.26.x/advanced-usage.html#ssl-warnings\n",
      "  warnings.warn(\n"
     ]
    },
    {
     "name": "stdout",
     "output_type": "stream",
     "text": [
      "Saved image: chinese_ladies_images/UG9jNDnaDnDHMknxptSKXudwI60CQeP5PH1DD0UwAuSLeW8sciUoKvrkzveqPlcPpwJpZ7r_4J6caTfyKYG_nM0hRGo=s0.png\n"
     ]
    },
    {
     "name": "stderr",
     "output_type": "stream",
     "text": [
      "/Users/shangliujun/opt/anaconda3/lib/python3.9/site-packages/urllib3/connectionpool.py:1043: InsecureRequestWarning: Unverified HTTPS request is being made to host '127.0.0.1'. Adding certificate verification is strongly advised. See: https://urllib3.readthedocs.io/en/1.26.x/advanced-usage.html#ssl-warnings\n",
      "  warnings.warn(\n"
     ]
    },
    {
     "name": "stdout",
     "output_type": "stream",
     "text": [
      "Saved image: chinese_ladies_images/BT_wGSHLmkS27PPGxIYGMWfIedO77WSTqyk63M4CzqDWEoVOgP_2KOoIf9Tw9DN_bO5afNzlCEIqdmsY7HVJzQXVIkY=s0.png\n"
     ]
    },
    {
     "name": "stderr",
     "output_type": "stream",
     "text": [
      "/Users/shangliujun/opt/anaconda3/lib/python3.9/site-packages/urllib3/connectionpool.py:1043: InsecureRequestWarning: Unverified HTTPS request is being made to host '127.0.0.1'. Adding certificate verification is strongly advised. See: https://urllib3.readthedocs.io/en/1.26.x/advanced-usage.html#ssl-warnings\n",
      "  warnings.warn(\n"
     ]
    },
    {
     "name": "stdout",
     "output_type": "stream",
     "text": [
      "Saved image: chinese_ladies_images/VMhihV_xGCmAQphRI-8FsIsYgAvxXA306WEyokptM_YMWUb55r9JdsRNMqArPGfLFTsBBDlpw50hRoOGA3SRrxuHywW9=s0.png\n"
     ]
    },
    {
     "name": "stderr",
     "output_type": "stream",
     "text": [
      "/Users/shangliujun/opt/anaconda3/lib/python3.9/site-packages/urllib3/connectionpool.py:1043: InsecureRequestWarning: Unverified HTTPS request is being made to host '127.0.0.1'. Adding certificate verification is strongly advised. See: https://urllib3.readthedocs.io/en/1.26.x/advanced-usage.html#ssl-warnings\n",
      "  warnings.warn(\n"
     ]
    },
    {
     "name": "stdout",
     "output_type": "stream",
     "text": [
      "Saved image: chinese_ladies_images/urcOtcwIfsuFX5lKrnpCE3FGFDY6ZVSMvaxYc5XzyDylWTdcic4DxmJNSqOgGR6sdaqj8dnu8ek8Pv_RJtOFRJ1dKxY=s0.png\n"
     ]
    },
    {
     "name": "stderr",
     "output_type": "stream",
     "text": [
      "/Users/shangliujun/opt/anaconda3/lib/python3.9/site-packages/urllib3/connectionpool.py:1043: InsecureRequestWarning: Unverified HTTPS request is being made to host '127.0.0.1'. Adding certificate verification is strongly advised. See: https://urllib3.readthedocs.io/en/1.26.x/advanced-usage.html#ssl-warnings\n",
      "  warnings.warn(\n"
     ]
    },
    {
     "name": "stdout",
     "output_type": "stream",
     "text": [
      "Saved image: chinese_ladies_images/B4B01ANXtB8us_Hb9_r9QF4EIvsi6BQ2LhR1DRVSrCl2LfeFvUg6X-CGeenNzizadDB8SXPPZtthmWcLeq0eYZPORv8=s0.png\n"
     ]
    },
    {
     "name": "stderr",
     "output_type": "stream",
     "text": [
      "/Users/shangliujun/opt/anaconda3/lib/python3.9/site-packages/urllib3/connectionpool.py:1043: InsecureRequestWarning: Unverified HTTPS request is being made to host '127.0.0.1'. Adding certificate verification is strongly advised. See: https://urllib3.readthedocs.io/en/1.26.x/advanced-usage.html#ssl-warnings\n",
      "  warnings.warn(\n"
     ]
    },
    {
     "name": "stdout",
     "output_type": "stream",
     "text": [
      "Saved image: chinese_ladies_images/BRoQ0TS0eJR1-U4b15r3qzxNWUyR9bmspgFhjaCMl7haTeVTlfU8fHSEYuJltCL7U5qdI1iinzLmYw--EBCY9KeNWmob=s0.png\n"
     ]
    },
    {
     "name": "stderr",
     "output_type": "stream",
     "text": [
      "/Users/shangliujun/opt/anaconda3/lib/python3.9/site-packages/urllib3/connectionpool.py:1043: InsecureRequestWarning: Unverified HTTPS request is being made to host '127.0.0.1'. Adding certificate verification is strongly advised. See: https://urllib3.readthedocs.io/en/1.26.x/advanced-usage.html#ssl-warnings\n",
      "  warnings.warn(\n"
     ]
    },
    {
     "name": "stdout",
     "output_type": "stream",
     "text": [
      "Saved image: chinese_ladies_images/GTj1fHRV_Bz9hoUrlfHTtMopRUfS5Ky-TSC--G2PocWBNZVgg16ksc87WLfByPtcCoMPySu-EMqKojRHh9q88J8UDw=s0.png\n"
     ]
    },
    {
     "name": "stderr",
     "output_type": "stream",
     "text": [
      "/Users/shangliujun/opt/anaconda3/lib/python3.9/site-packages/urllib3/connectionpool.py:1043: InsecureRequestWarning: Unverified HTTPS request is being made to host '127.0.0.1'. Adding certificate verification is strongly advised. See: https://urllib3.readthedocs.io/en/1.26.x/advanced-usage.html#ssl-warnings\n",
      "  warnings.warn(\n"
     ]
    },
    {
     "name": "stdout",
     "output_type": "stream",
     "text": [
      "Saved image: chinese_ladies_images/sN2tgfJKrxpZkbKUVQs8O8Tqu_E1zGVswPCHCkzIw71Rrx7L-vjSONj_dPy_sAJKZPIP2AbLzdNWKXCMldIZQVnvMg=s0.png\n"
     ]
    },
    {
     "name": "stderr",
     "output_type": "stream",
     "text": [
      "/Users/shangliujun/opt/anaconda3/lib/python3.9/site-packages/urllib3/connectionpool.py:1043: InsecureRequestWarning: Unverified HTTPS request is being made to host '127.0.0.1'. Adding certificate verification is strongly advised. See: https://urllib3.readthedocs.io/en/1.26.x/advanced-usage.html#ssl-warnings\n",
      "  warnings.warn(\n"
     ]
    },
    {
     "name": "stdout",
     "output_type": "stream",
     "text": [
      "Saved image: chinese_ladies_images/m9G50N_MZH5GloJf2HZ_AU4-M3G1eiHWqsT4llmdZx4s5lDaBG9D59KW-2H0uoPePhUFaoP68fOmtg0iv4t8x8DSexc=s0.png\n",
      "Image URLs saved to 'image_urls.json'\n",
      "Images saved to 'chinese_ladies_images'\n"
     ]
    }
   ],
   "source": [
    "import json\n",
    "import requests\n",
    "from PIL import Image\n",
    "from io import BytesIO\n",
    "import os\n",
    "from tenacity import retry, stop_after_attempt, wait_fixed\n",
    "\n",
    "# Load the dataset\n",
    "with open('chinese_porcelain_metadata.json', 'r', encoding='utf-8') as f:\n",
    "    items = json.load(f)\n",
    "\n",
    "# Initialize a list to store filtered results related to \"Chinese ladies\"\n",
    "chinese_ladies_items = []\n",
    "\n",
    "# Initialize a set to store image URLs to handle duplicates\n",
    "image_urls = set()\n",
    "\n",
    "# Define the search term\n",
    "search_term = \"Chinese ladies\"\n",
    "\n",
    "# Filter the dataset\n",
    "for item in items:\n",
    "    # Ensure item is a dictionary before accessing fields\n",
    "    if isinstance(item, dict):\n",
    "        # Extract title and description, handling cases where they might be lists\n",
    "        title_list = item.get('title', [])\n",
    "        description_list = item.get('dcDescription', [])\n",
    "        \n",
    "        # Convert lists to strings if needed\n",
    "        title = ' '.join(title_list).lower() if isinstance(title_list, list) else title_list.lower()\n",
    "        description = ' '.join(description_list).lower() if isinstance(description_list, list) else description_list.lower()\n",
    "        \n",
    "        # Check if search term is in title or description\n",
    "        if search_term.lower() in title or search_term.lower() in description:\n",
    "            chinese_ladies_items.append(item)\n",
    "            \n",
    "            # Extract image URLs from known fields\n",
    "            image_url = item.get('edmIsShownBy') or item.get('edmIsShownAt') or item.get('object')\n",
    "            \n",
    "            if image_url:\n",
    "                if isinstance(image_url, list):\n",
    "                    image_urls.update(image_url)\n",
    "                else:\n",
    "                    image_urls.add(image_url)\n",
    "\n",
    "# Print the number of items found and output some examples\n",
    "print(f\"Total items related to '{search_term}': {len(chinese_ladies_items)}\")\n",
    "\n",
    "# Print a few example items\n",
    "for item in chinese_ladies_items[:5]:  # Adjust the number to print more or fewer items\n",
    "    print(f\"Title: {item.get('title')}\")\n",
    "    print(f\"Description: {item.get('dcDescription')}\")\n",
    "    print(f\"Link: {item.get('guid')}\")\n",
    "    print(f\"Metadata: {item}\\n\")\n",
    "\n",
    "# Print image URLs\n",
    "print(f\"\\nTotal image URLs found: {len(image_urls)}\")\n",
    "for url in list(image_urls)[:5]:  # Print the first 5 URLs for brevity\n",
    "    print(url)\n",
    "\n",
    "# Function to download and save images with retry logic and SSL handling\n",
    "@retry(stop=stop_after_attempt(3), wait=wait_fixed(2))  # Retry 3 times with 2 seconds between attempts\n",
    "def download_and_save_image(url, folder_path):\n",
    "    try:\n",
    "        response = requests.get(url, verify=False)  # Disable SSL verification\n",
    "        response.raise_for_status()  # Check for request errors\n",
    "        \n",
    "        content_type = response.headers.get('Content-Type')\n",
    "        if 'image' not in content_type:\n",
    "            print(f\"URL does not point to an image: {url}\")\n",
    "            return\n",
    "        \n",
    "        img = Image.open(BytesIO(response.content))\n",
    "        \n",
    "        # Convert image to PNG format\n",
    "        img = img.convert(\"RGB\")\n",
    "        img_format = \"PNG\"\n",
    "        \n",
    "        # Save image to file\n",
    "        img_filename = os.path.join(folder_path, f\"{url.split('/')[-1].split('?')[0]}.png\")\n",
    "        img.save(img_filename, img_format)\n",
    "        print(f\"Saved image: {img_filename}\")\n",
    "    except Exception as e:\n",
    "        print(f\"Failed to download or save image {url}. Error: {e}\")\n",
    "\n",
    "# Create a folder to save images if it does not exist\n",
    "output_folder = 'chinese_ladies_images'\n",
    "os.makedirs(output_folder, exist_ok=True)\n",
    "\n",
    "# Download and save images\n",
    "for url in image_urls:\n",
    "    download_and_save_image(url, output_folder)\n",
    "\n",
    "# Optionally, save the filtered data and image URLs to new JSON files\n",
    "with open('chinese_ladies_metadata.json', 'w', encoding='utf-8') as f:\n",
    "    json.dump(chinese_ladies_items, f, ensure_ascii=False, indent=4)\n",
    "\n",
    "with open('image_urls.json', 'w', encoding='utf-8') as f:\n",
    "    json.dump(list(image_urls), f, ensure_ascii=False, indent=4)\n",
    "\n",
    "print(f\"Image URLs saved to 'image_urls.json'\")\n",
    "print(f\"Images saved to '{output_folder}'\")"
   ]
  },
  {
   "cell_type": "code",
   "execution_count": null,
   "id": "304e7cb4",
   "metadata": {},
   "outputs": [],
   "source": []
  }
 ],
 "metadata": {
  "kernelspec": {
   "display_name": "Python 3 (ipykernel)",
   "language": "python",
   "name": "python3"
  },
  "language_info": {
   "codemirror_mode": {
    "name": "ipython",
    "version": 3
   },
   "file_extension": ".py",
   "mimetype": "text/x-python",
   "name": "python",
   "nbconvert_exporter": "python",
   "pygments_lexer": "ipython3",
   "version": "3.9.12"
  }
 },
 "nbformat": 4,
 "nbformat_minor": 5
}
